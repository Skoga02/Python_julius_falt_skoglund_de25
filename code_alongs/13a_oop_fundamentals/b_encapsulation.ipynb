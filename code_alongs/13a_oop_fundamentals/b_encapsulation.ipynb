{
 "cells": [
  {
   "cell_type": "markdown",
   "id": "19b78dcf",
   "metadata": {},
   "source": [
    "# Encapsulation \n",
    "\n",
    "- information hiding \n",
    "- user donät need to know underlying how it works \n",
    "- for example we can hide validation - e.g. proper age for a person \n",
    "- user of your class beeds to know how to use it - i.e. which methods and attributes can be used\n",
    "\n",
    "- one way to do encapsulation is to use private attributes and private methods \n",
    "In general \n",
    "    - these can't be used outside of the class \n",
    "\n",
    "- however in python there is no such thing as private \n",
    "- in python - private by convention by using a underscore prefix\n"
   ]
  },
  {
   "cell_type": "code",
   "execution_count": 2,
   "id": "046f79e1",
   "metadata": {},
   "outputs": [
    {
     "data": {
      "text/plain": [
       "('Kokchun', 34)"
      ]
     },
     "execution_count": 2,
     "metadata": {},
     "output_type": "execute_result"
    }
   ],
   "source": [
    "# Everything is public \n",
    "\n",
    "class Person: \n",
    "    def __init__(self, name, age): \n",
    "        self.name = name\n",
    "        self.age = age\n",
    "    \n",
    "p1 = Person(\"Kokchun\", 34)\n",
    "p1.name, p1.age\n"
   ]
  },
  {
   "cell_type": "code",
   "execution_count": 3,
   "id": "7b40f3f9",
   "metadata": {},
   "outputs": [
    {
     "data": {
      "text/plain": [
       "-5"
      ]
     },
     "execution_count": 3,
     "metadata": {},
     "output_type": "execute_result"
    }
   ],
   "source": [
    "p2 = Person(\"Ada\", -5)\n",
    "p2.age"
   ]
  },
  {
   "cell_type": "code",
   "execution_count": 5,
   "id": "33efe467",
   "metadata": {},
   "outputs": [
    {
     "ename": "AttributeError",
     "evalue": "'Person' object has no attribute 'name'",
     "output_type": "error",
     "traceback": [
      "\u001b[31m---------------------------------------------------------------------------\u001b[39m",
      "\u001b[31mAttributeError\u001b[39m                            Traceback (most recent call last)",
      "\u001b[36mCell\u001b[39m\u001b[36m \u001b[39m\u001b[32mIn[5]\u001b[39m\u001b[32m, line 9\u001b[39m\n\u001b[32m      6\u001b[39m p3 = Person(\u001b[33m\"\u001b[39m\u001b[33mBeda\u001b[39m\u001b[33m\"\u001b[39m, -\u001b[32m3\u001b[39m)\n\u001b[32m      8\u001b[39m \u001b[38;5;66;03m# name attribute don't exist anymore \u001b[39;00m\n\u001b[32m----> \u001b[39m\u001b[32m9\u001b[39m \u001b[43mp3\u001b[49m\u001b[43m.\u001b[49m\u001b[43mname\u001b[49m\n",
      "\u001b[31mAttributeError\u001b[39m: 'Person' object has no attribute 'name'"
     ]
    }
   ],
   "source": [
    "class Person: \n",
    "    def __init__(self, name, age): \n",
    "        self._name = name\n",
    "        self._age = age\n",
    "\n",
    "p3 = Person(\"Beda\", -3)\n",
    "\n",
    "# name attribute don't exist anymore \n",
    "p3.name"
   ]
  },
  {
   "cell_type": "code",
   "execution_count": 7,
   "id": "09f882e7",
   "metadata": {},
   "outputs": [
    {
     "data": {
      "text/plain": [
       "'Beda'"
      ]
     },
     "execution_count": 7,
     "metadata": {},
     "output_type": "execute_result"
    }
   ],
   "source": [
    "# u should not do this, but you can\n",
    "# Python programmers will know that underscore prefix is private by convention\n",
    "p3._name"
   ]
  },
  {
   "cell_type": "markdown",
   "id": "c66aa06e",
   "metadata": {},
   "source": [
    "Fix validation of age"
   ]
  },
  {
   "cell_type": "code",
   "execution_count": 58,
   "id": "580dd9b2",
   "metadata": {},
   "outputs": [
    {
     "name": "stdout",
     "output_type": "stream",
     "text": [
      "Age must be between 0 and 124\n"
     ]
    },
    {
     "data": {
      "text/plain": [
       "Person('Eda', 5)"
      ]
     },
     "execution_count": 58,
     "metadata": {},
     "output_type": "execute_result"
    }
   ],
   "source": [
    "class Person: \n",
    "    def __init__(self, name, age): \n",
    "        self._name = name\n",
    "\n",
    "        # issue: This validation only happens during instantiation \n",
    "        if not ( 0 <= age < 125):\n",
    "            raise ValueError(\"Age must be between 0 and 124\")\n",
    "\n",
    "        self._age = age\n",
    "\n",
    "    def __repr__(self):\n",
    "        return f\"Person('{self._name}', {self._age})\"\n",
    "\n",
    "try:\n",
    "    p4 = Person(\"Doda\", -1)\n",
    "except ValueError as err:\n",
    "    print(err)\n",
    "\n",
    "p5 = Person(\"Eda\", 5)\n",
    "p5"
   ]
  },
  {
   "cell_type": "code",
   "execution_count": 26,
   "id": "1c8801cf",
   "metadata": {},
   "outputs": [
    {
     "data": {
      "text/plain": [
       "Person('Eda', -5)"
      ]
     },
     "execution_count": 26,
     "metadata": {},
     "output_type": "execute_result"
    }
   ],
   "source": [
    "# this is not good, but possbile because validation only happens in __init now\n",
    "p5._age = -5\n",
    "p5"
   ]
  },
  {
   "cell_type": "markdown",
   "id": "c7488269",
   "metadata": {},
   "source": [
    "## Property \n",
    "\n",
    "- getter -> gets a value \n",
    "- setter -> sets a value \n",
    "\n",
    "idea: put in validation code in the setter -> encapsulated validation code "
   ]
  },
  {
   "cell_type": "markdown",
   "id": "4845f36c",
   "metadata": {},
   "source": [
    "### read-only age\n",
    "\n",
    "only the getter is defined that is with the @property"
   ]
  },
  {
   "cell_type": "code",
   "execution_count": 57,
   "id": "6044d3a2",
   "metadata": {},
   "outputs": [
    {
     "name": "stdout",
     "output_type": "stream",
     "text": [
      "age getter called\n"
     ]
    },
    {
     "data": {
      "text/plain": [
       "8"
      ]
     },
     "execution_count": 57,
     "metadata": {},
     "output_type": "execute_result"
    }
   ],
   "source": [
    "class Person: \n",
    "    def __init__(self, name, age): \n",
    "        self._name = name\n",
    "\n",
    "        # issue: This validation only happens during instantiation \n",
    "        if not ( 0 <= age < 125):\n",
    "            raise ValueError(\"Age must be between 0 and 124\")\n",
    "\n",
    "        self._age = age\n",
    "\n",
    "    # a decorator - it gives a function more functionality \n",
    "    #makes it into a property (getter and setter)\n",
    "    @property\n",
    "    def age(self):\n",
    "        print(\"age getter called\")\n",
    "        return self._age\n",
    "\n",
    "    def __repr__(self):\n",
    "        return f\"Person('{self._name}', {self._age})\"\n",
    "\n",
    "p6 = Person(\"Bibbi\", 8)\n",
    "p6.age"
   ]
  },
  {
   "cell_type": "code",
   "execution_count": 31,
   "id": "a341c0b0",
   "metadata": {},
   "outputs": [
    {
     "ename": "AttributeError",
     "evalue": "property 'age' of 'Person' object has no setter",
     "output_type": "error",
     "traceback": [
      "\u001b[31m---------------------------------------------------------------------------\u001b[39m",
      "\u001b[31mAttributeError\u001b[39m                            Traceback (most recent call last)",
      "\u001b[36mCell\u001b[39m\u001b[36m \u001b[39m\u001b[32mIn[31]\u001b[39m\u001b[32m, line 2\u001b[39m\n\u001b[32m      1\u001b[39m \u001b[38;5;66;03m# there is no setter \u001b[39;00m\n\u001b[32m----> \u001b[39m\u001b[32m2\u001b[39m \u001b[43mp6\u001b[49m\u001b[43m.\u001b[49m\u001b[43mage\u001b[49m = \u001b[32m5\u001b[39m\n",
      "\u001b[31mAttributeError\u001b[39m: property 'age' of 'Person' object has no setter"
     ]
    }
   ],
   "source": [
    "# there is no setter \n",
    "p6.age = 5"
   ]
  },
  {
   "cell_type": "code",
   "execution_count": 43,
   "id": "10dea182",
   "metadata": {},
   "outputs": [
    {
     "name": "stdout",
     "output_type": "stream",
     "text": [
      "age setter called\n",
      "age getter called\n"
     ]
    },
    {
     "data": {
      "text/plain": [
       "8"
      ]
     },
     "execution_count": 43,
     "metadata": {},
     "output_type": "execute_result"
    }
   ],
   "source": [
    "class Person: \n",
    "    def __init__(self, name, age): \n",
    "        self._name = name\n",
    "\n",
    "        # issue: This validation only happens during instantiation \n",
    "        if not ( 0 <= age < 125):\n",
    "            raise ValueError(\"Age must be between 0 and 124\")\n",
    "\n",
    "        self.age = age\n",
    "\n",
    "    # a decorator - it gives a function more functionality \n",
    "    #makes it into a property (getter and setter)\n",
    "    @property\n",
    "    def age(self):\n",
    "        print(\"age getter called\")\n",
    "        return self._age\n",
    "\n",
    "\n",
    "    @age.setter\n",
    "    def age(self, value):\n",
    "        print(\"age setter called\")\n",
    "        self._age = value \n",
    "\n",
    "    def __repr__(self):\n",
    "        return f\"Person('{self._name}', {self._age})\"\n",
    "\n",
    "# when instantiating person - we use the age setter \n",
    "p7 = Person(\"Bobbo\", 8)\n",
    "# use the age getter\n",
    "p7.age"
   ]
  },
  {
   "cell_type": "code",
   "execution_count": 34,
   "id": "bf45cbfa",
   "metadata": {},
   "outputs": [
    {
     "name": "stdout",
     "output_type": "stream",
     "text": [
      "age setter called\n"
     ]
    },
    {
     "data": {
      "text/plain": [
       "Person('Bobbo', 33)"
      ]
     },
     "execution_count": 34,
     "metadata": {},
     "output_type": "execute_result"
    }
   ],
   "source": [
    "p7.age = 33 \n",
    "p7"
   ]
  },
  {
   "cell_type": "markdown",
   "id": "250f4bef",
   "metadata": {},
   "source": [
    "## Exercise \n",
    "\n",
    "make sure that this is not allowed, give proper error message\n",
    "\n",
    "p7.age = -5\n",
    "p7"
   ]
  },
  {
   "cell_type": "code",
   "execution_count": null,
   "id": "9c2c0e3d",
   "metadata": {},
   "outputs": [
    {
     "name": "stdout",
     "output_type": "stream",
     "text": [
      "age setter called\n",
      "age setter called\n",
      "Age must be between 0 and 124, not -3\n",
      "age getter called\n"
     ]
    },
    {
     "data": {
      "text/plain": [
       "Person('Bäbbä', 8)"
      ]
     },
     "execution_count": 54,
     "metadata": {},
     "output_type": "execute_result"
    }
   ],
   "source": [
    "class Person: \n",
    "    def __init__(self, name, age): \n",
    "        self._name = name\n",
    "        # whenever we do assignments where there are a setter \n",
    "        # the setter will be called\n",
    "        self.age = age\n",
    "\n",
    "    # a decorator - it gives a function more functionality \n",
    "    #makes it into a property (getter and setter)\n",
    "    @property\n",
    "    def age(self):\n",
    "        print(\"age getter called\")\n",
    "        return self._age\n",
    "        \n",
    "\n",
    "    @age.setter\n",
    "    def age(self, value):\n",
    "        print(\"age setter called\")\n",
    "       \n",
    "        if not ( 0 <= value < 125):\n",
    "            raise ValueError(f\"Age must be between 0 and 124, not {value}\")\n",
    "        self._age = value \n",
    "\n",
    "    def __repr__(self):\n",
    "        return f\"Person('{self._name}', {self.age})\"\n",
    "\n",
    "# when instantiating person - we use the age setter \n",
    "p8 = Person(\"Bäbbä\", 8)\n",
    "# use the age getter\n",
    "try:\n",
    "    p8.age = -3\n",
    "except ValueError as err:\n",
    "    print(err)\n",
    "p8"
   ]
  },
  {
   "cell_type": "code",
   "execution_count": 56,
   "id": "ceab76e1",
   "metadata": {},
   "outputs": [
    {
     "name": "stdout",
     "output_type": "stream",
     "text": [
      "age getter called\n"
     ]
    },
    {
     "data": {
      "text/plain": [
       "8"
      ]
     },
     "execution_count": 56,
     "metadata": {},
     "output_type": "execute_result"
    }
   ],
   "source": [
    "p8.age"
   ]
  },
  {
   "cell_type": "markdown",
   "id": "bd4d30d5",
   "metadata": {},
   "source": [
    "note in other languge \n",
    "\n",
    "- p7.get_age()\n",
    "- p7.set_age()"
   ]
  },
  {
   "cell_type": "markdown",
   "id": "33026843",
   "metadata": {},
   "source": [
    "## Exercise 2 in calssroom\n"
   ]
  },
  {
   "cell_type": "code",
   "execution_count": 102,
   "id": "72e84d63",
   "metadata": {},
   "outputs": [
    {
     "name": "stdout",
     "output_type": "stream",
     "text": [
      "Salary setter called\n",
      "Salary setter called\n",
      "Salary must be between 35 000 and 55 000, not 20000\n"
     ]
    }
   ],
   "source": [
    "class Employee:\n",
    "    def __init__(self, name, social_security_nr, salary, role, employment_year):\n",
    "        self.name = name\n",
    "        self._social_security_nr = social_security_nr\n",
    "        self.salary = salary \n",
    "        self.role = role\n",
    "        self.employment_year = employment_year  \n",
    "\n",
    "\n",
    "    @property\n",
    "    def salary(self):\n",
    "        print(\"Salary getter called\")\n",
    "        return self._salary\n",
    "\n",
    "    @salary.setter\n",
    "    def salary(self, value):\n",
    "        print(\"Salary setter called\")\n",
    "        if not (35000 <= value < 55000):\n",
    "            raise ValueError(f\"Salary must be between 35 000 and 55 000, not {value}\")\n",
    "        self._salary = value\n",
    "\n",
    "    def __repr__(self):\n",
    "        return f\"Employee('{self.name}', {self._social_security_nr}, {self.salary}, '{self.role}', {self.employment_year})\"\n",
    "\n",
    "e1 = Employee(\"Hubert\", 1991, 45000, \"Junior Engineer\", 2024)\n",
    "\n",
    "\n",
    "\n",
    "try:\n",
    "   e2 = Employee(\"Bert\", 1990, 20000, \"Städare\", 2025)\n",
    "except ValueError as err:\n",
    "    print(err)\n"
   ]
  },
  {
   "cell_type": "markdown",
   "id": "2763c861",
   "metadata": {},
   "source": [
    "Correct way to do it"
   ]
  },
  {
   "cell_type": "code",
   "execution_count": 113,
   "id": "e61d45e0",
   "metadata": {},
   "outputs": [
    {
     "data": {
      "text/plain": [
       "Employee(Cicci, 202020202020, 30000, Säljare, 2024)"
      ]
     },
     "execution_count": 113,
     "metadata": {},
     "output_type": "execute_result"
    }
   ],
   "source": [
    "class Employee: \n",
    "    def __init__(self, name, social_security_nr, salary, role, employment_year):\n",
    "        self.name = name\n",
    "        self._social_security_nr = social_security_nr\n",
    "        self.salary = salary \n",
    "        self.role = role\n",
    "        self.employment_year = employment_year  \n",
    "\n",
    "    @property \n",
    "    def salary(self):\n",
    "        # return the private backing variable \n",
    "        return self._salary\n",
    "\n",
    "    @salary.setter\n",
    "    def salary(self, value):\n",
    "        if value <= 0:\n",
    "            raise ValueError(f\"Salary can't be negative, you inputted {value}\")\n",
    "        self._salary = value\n",
    "\n",
    "    def increase_salary(self, value):\n",
    "        self.salary += value\n",
    "\n",
    "    def __repr__(self):\n",
    "        return f\"Employee({self.name}, {self._social_security_nr}, {self.salary}, {self.role}, {self.employment_year})\"\n",
    "\n",
    "e1 = Employee(\"Cicci\", 202020202020, 25000, \"Säljare\", 2024)\n",
    "\n",
    "e1.increase_salary(5000)\n",
    "e1"
   ]
  },
  {
   "cell_type": "code",
   "execution_count": null,
   "id": "97c3fcbc",
   "metadata": {},
   "outputs": [],
   "source": []
  }
 ],
 "metadata": {
  "kernelspec": {
   "display_name": ".venv",
   "language": "python",
   "name": "python3"
  },
  "language_info": {
   "codemirror_mode": {
    "name": "ipython",
    "version": 3
   },
   "file_extension": ".py",
   "mimetype": "text/x-python",
   "name": "python",
   "nbconvert_exporter": "python",
   "pygments_lexer": "ipython3",
   "version": "3.12.10"
  }
 },
 "nbformat": 4,
 "nbformat_minor": 5
}
