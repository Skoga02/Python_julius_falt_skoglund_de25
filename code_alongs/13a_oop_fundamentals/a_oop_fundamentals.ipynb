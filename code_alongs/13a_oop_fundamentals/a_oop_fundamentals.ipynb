{
 "cells": [
  {
   "cell_type": "markdown",
   "id": "3f8ddfc5",
   "metadata": {},
   "source": [
    "# oop fundamentals "
   ]
  },
  {
   "cell_type": "markdown",
   "id": "73548f2b",
   "metadata": {},
   "source": [
    "What is the point of functions\n",
    "- mini program to do specific task \n",
    "- reusable code\n",
    "- shortens your code\n",
    "\n",
    "- This is called DRY (don't repeat yourself), change in one place \n",
    "\n",
    "\n"
   ]
  },
  {
   "cell_type": "markdown",
   "id": "8110b762",
   "metadata": {},
   "source": [
    "obiject oriented programing (oop)"
   ]
  },
  {
   "cell_type": "code",
   "execution_count": 6,
   "id": "7738cbce",
   "metadata": {},
   "outputs": [
    {
     "name": "stdout",
     "output_type": "stream",
     "text": [
      "dunder init running\n"
     ]
    },
    {
     "data": {
      "text/plain": [
       "'STI'"
      ]
     },
     "execution_count": 6,
     "metadata": {},
     "output_type": "execute_result"
    }
   ],
   "source": [
    "# define a class with name Admission\n",
    "class Admission:\n",
    "\n",
    "    # \"dunder init\" - initializer - note 2 underscores before and after init\n",
    "    # this method will be run when you instantiate an instance from thit ckass \n",
    "\n",
    "    def __init__(self, school, name, program = \"cool program\"):\n",
    "        print(\"dunder init running\")\n",
    "\n",
    "        # set the attributes to the values from the arguments \n",
    "        self.school = school\n",
    "        self.name = name\n",
    "        self.program = program \n",
    "    \n",
    "# instantiate the instance person1 that is of tyoe Admission\n",
    "person1 = Admission(\"STI\", \"Ceda\")\n",
    "\n",
    "person1.school"
   ]
  },
  {
   "cell_type": "code",
   "execution_count": 8,
   "id": "0d3bca06",
   "metadata": {},
   "outputs": [
    {
     "data": {
      "text/plain": [
       "'cool program'"
      ]
     },
     "execution_count": 8,
     "metadata": {},
     "output_type": "execute_result"
    }
   ],
   "source": [
    "# you do not get the \"dunder init running\" \n",
    "person1.program"
   ]
  },
  {
   "cell_type": "code",
   "execution_count": 10,
   "id": "9945cd49",
   "metadata": {},
   "outputs": [
    {
     "name": "stdout",
     "output_type": "stream",
     "text": [
      "dunder init running\n"
     ]
    },
    {
     "data": {
      "text/plain": [
       "'java'"
      ]
     },
     "execution_count": 10,
     "metadata": {},
     "output_type": "execute_result"
    }
   ],
   "source": [
    "person2 = Admission(name = \"johnny\", school =\"cool school\", program =\"java\")\n",
    "person2.program"
   ]
  },
  {
   "cell_type": "markdown",
   "id": "8bf0afb2",
   "metadata": {},
   "source": [
    "## Note on memory \n",
    "\n",
    "by default the \\_\\_repr\\_\\_ of an isntace is showing th ememory adress of where the instance live\n",
    "\n",
    "- each instance og the class lives in diffrent memory adrresses\n",
    "    - they are diffrent objects"
   ]
  },
  {
   "cell_type": "code",
   "execution_count": 12,
   "id": "489d8bf3",
   "metadata": {},
   "outputs": [
    {
     "data": {
      "text/plain": [
       "(<__main__.Admission at 0x104332ea0>, <__main__.Admission at 0x1043329f0>)"
      ]
     },
     "execution_count": 12,
     "metadata": {},
     "output_type": "execute_result"
    }
   ],
   "source": [
    "person1, person2"
   ]
  },
  {
   "cell_type": "code",
   "execution_count": 11,
   "id": "81322399",
   "metadata": {},
   "outputs": [
    {
     "name": "stdout",
     "output_type": "stream",
     "text": [
      "dunder init running\n"
     ]
    },
    {
     "data": {
      "text/plain": [
       "<__main__.Admission at 0x104332e70>"
      ]
     },
     "execution_count": 11,
     "metadata": {},
     "output_type": "execute_result"
    }
   ],
   "source": [
    "person3 = Admission(name = \"johnny\", school =\"cool school\", program =\"java\")\n",
    "person3"
   ]
  },
  {
   "cell_type": "markdown",
   "id": "cbd076f6",
   "metadata": {},
   "source": [
    "## Implement class student "
   ]
  },
  {
   "cell_type": "code",
   "execution_count": 24,
   "id": "ebdf4ce4",
   "metadata": {},
   "outputs": [
    {
     "data": {
      "text/plain": [
       "('Julius', '23')"
      ]
     },
     "execution_count": 24,
     "metadata": {},
     "output_type": "execute_result"
    }
   ],
   "source": [
    "class Student:\n",
    "\n",
    "    def __init__(self, name, type_of_study, school, age):\n",
    "        self.name = name \n",
    "        self.type_of_study = type_of_study\n",
    "        self.school = school \n",
    "        self.age = age \n",
    "\n",
    "    #method\n",
    "    def study(self):\n",
    "        print(f\"{self.name} goes to {self.school}\")\n",
    "\n",
    "student1 = Student(\"Julius\", \"Yrkes högskola\", \"STI\", \"23\")\n",
    "student1.name, student1.age"
   ]
  },
  {
   "cell_type": "markdown",
   "id": "ac8a4f6f",
   "metadata": {},
   "source": [
    "## \\_\\_repr\\_\\_ - dunder repper method\n",
    "\n",
    "- method to represent your class to other developer \n",
    "- usually: describes hpw tp create an instance from this class\n",
    "- by default we get e.g. <__main__.Student at 0x1043cd0a0>"
   ]
  },
  {
   "cell_type": "code",
   "execution_count": 25,
   "id": "623d8fb1",
   "metadata": {},
   "outputs": [
    {
     "data": {
      "text/plain": [
       "<__main__.Student at 0x1043cd0a0>"
      ]
     },
     "execution_count": 25,
     "metadata": {},
     "output_type": "execute_result"
    }
   ],
   "source": [
    "student1"
   ]
  },
  {
   "cell_type": "code",
   "execution_count": 35,
   "id": "c3ef785b",
   "metadata": {},
   "outputs": [
    {
     "data": {
      "text/plain": [
       "name = Bobbo, type_of_study = economics, school = Cool school"
      ]
     },
     "execution_count": 35,
     "metadata": {},
     "output_type": "execute_result"
    }
   ],
   "source": [
    "class Student:\n",
    "\n",
    "    def __init__(self, name, type_of_study, school, age):\n",
    "        self.name = name \n",
    "        self.type_of_study = type_of_study\n",
    "        self.school = school \n",
    "        self.age = age \n",
    "\n",
    "    #method\n",
    "    def study(self):\n",
    "        print(f\"{self.name} goes to {self.school}\")\n",
    "    \n",
    "    def __repr__(self):\n",
    "        # Student(name = \"Bobo\", type_of_study = \"economics\", school = \"Cool school\", age = 31)\n",
    "\n",
    "        return (f\"name = {self.name}, type_of_study = {self.type_of_study}, school = {self.school}\")\n",
    "student2 = Student(\"Bobbo\", \"economics\", \"Cool school\", \"31\")\n",
    "\n",
    "student2"
   ]
  },
  {
   "cell_type": "code",
   "execution_count": 37,
   "id": "6e8c8cd9",
   "metadata": {},
   "outputs": [
    {
     "name": "stdout",
     "output_type": "stream",
     "text": [
      "name = Bobbo, type_of_study = economics, school = Cool school\n"
     ]
    }
   ],
   "source": [
    "# printing -> look for __str__method, if it dosen't exist -> look for __repr__ fall back\n",
    "print(student2)"
   ]
  },
  {
   "cell_type": "code",
   "execution_count": 42,
   "id": "d6245cdf",
   "metadata": {},
   "outputs": [
    {
     "data": {
      "text/plain": [
       "name = Bobbo, type_of_study = economics, school = Cool school"
      ]
     },
     "execution_count": 42,
     "metadata": {},
     "output_type": "execute_result"
    }
   ],
   "source": [
    "class Student:\n",
    "\n",
    "    def __init__(self, name, type_of_study, school, age):\n",
    "        self.name = name \n",
    "        self.type_of_study = type_of_study\n",
    "        self.school = school \n",
    "        self.age = age \n",
    "\n",
    "    #method\n",
    "    def study(self):\n",
    "        print(f\"{self.name} goes to {self.school}\")\n",
    "\n",
    "    def __str__(self):\n",
    "        return (f\"{self.name} is studying {self.type_of_study}\")\n",
    "    \n",
    "    def __repr__(self):\n",
    "        # Student(name = \"Bobo\", type_of_study = \"economics\", school = \"Cool school\", age = 31)\n",
    "\n",
    "        return (f\"name = {self.name}, type_of_study = {self.type_of_study}, school = {self.school}\")\n",
    "student3 = Student(\"Bobbo\", \"economics\", \"Cool school\", \"31\")\n",
    "\n",
    "student3"
   ]
  },
  {
   "cell_type": "code",
   "execution_count": 43,
   "id": "011d1b2e",
   "metadata": {},
   "outputs": [
    {
     "name": "stdout",
     "output_type": "stream",
     "text": [
      "Bobbo is studying economics\n"
     ]
    }
   ],
   "source": [
    "print(student3)"
   ]
  },
  {
   "cell_type": "code",
   "execution_count": null,
   "id": "a50b768f",
   "metadata": {},
   "outputs": [],
   "source": []
  }
 ],
 "metadata": {
  "kernelspec": {
   "display_name": ".venv",
   "language": "python",
   "name": "python3"
  },
  "language_info": {
   "codemirror_mode": {
    "name": "ipython",
    "version": 3
   },
   "file_extension": ".py",
   "mimetype": "text/x-python",
   "name": "python",
   "nbconvert_exporter": "python",
   "pygments_lexer": "ipython3",
   "version": "3.12.10"
  }
 },
 "nbformat": 4,
 "nbformat_minor": 5
}
