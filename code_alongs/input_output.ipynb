{
 "cells": [
  {
   "cell_type": "markdown",
   "id": "4e207bed",
   "metadata": {},
   "source": [
    "# Code along 23sep (input output)"
   ]
  },
  {
   "cell_type": "markdown",
   "id": "83d2adeb",
   "metadata": {},
   "source": []
  }
 ],
 "metadata": {
  "kernelspec": {
   "display_name": ".venv",
   "language": "python",
   "name": "python3"
  },
  "language_info": {
   "name": "python",
   "version": "3.12.10"
  }
 },
 "nbformat": 4,
 "nbformat_minor": 5
}
