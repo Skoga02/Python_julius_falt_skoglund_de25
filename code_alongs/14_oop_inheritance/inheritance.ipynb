{
 "cells": [
  {
   "cell_type": "markdown",
   "id": "6d10951b",
   "metadata": {},
   "source": [
    "# OOP Inheritance "
   ]
  },
  {
   "cell_type": "code",
   "execution_count": null,
   "id": "413867c4",
   "metadata": {},
   "outputs": [],
   "source": []
  }
 ],
 "metadata": {
  "kernelspec": {
   "display_name": ".venv",
   "language": "python",
   "name": "python3"
  },
  "language_info": {
   "name": "python",
   "version": "3.12.10"
  }
 },
 "nbformat": 4,
 "nbformat_minor": 5
}
