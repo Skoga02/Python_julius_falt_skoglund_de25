{
 "cells": [
  {
   "cell_type": "markdown",
   "id": "28996f27",
   "metadata": {},
   "source": [
    "# Laboration 1"
   ]
  },
  {
   "cell_type": "code",
   "execution_count": 79,
   "id": "ef1eddf3",
   "metadata": {},
   "outputs": [
    {
     "name": "stdout",
     "output_type": "stream",
     "text": [
      "seq1: cgtaaccaataaaaaaacaagcttaacctaattc\n",
      "seq2: agcttagtttggatctggccgggg\n",
      "seq3: gcggatttactccccccaaaaannaggggagagcccagataaatggagtctgtgcgtccaca\n",
      "seq4: gcggatttactcaggggagagcccagggataaatggagtctgtgcgtccaca\n"
     ]
    }
   ],
   "source": [
    "import numpy as np\n",
    "import matplotlib.pyplot as plt \n",
    "\n",
    "\n",
    "def extract_data(filename):\n",
    "    seq = {}\n",
    "    with open (filename, \"r\") as file:\n",
    "        current_seq_id = None \n",
    "        for line in file: \n",
    "            # this is to clean the data from (\\n) and whitespaces\n",
    "            line = line.strip()\n",
    "            if not line:\n",
    "                continue\n",
    "            # if the data line starts with (>) then it is a header\n",
    "            if line.startswith(\">\"):\n",
    "                current_seq_id = line[1:]\n",
    "                seq[current_seq_id] = \"\"\n",
    "            # when its not a header, means its dna data, and makes all data lower case\n",
    "            else:\n",
    "                seq[current_seq_id] += line.lower() \n",
    "    return seq\n",
    "\n",
    "   \n",
    "\n",
    "dna_data = extract_data(\"data/dna_raw.txt\")\n",
    "\n",
    "for name, seq in dna_data.items():\n",
    "    print(f\"{name}: {seq}\")\n",
    "\n"
   ]
  },
  {
   "cell_type": "markdown",
   "id": "6c2cf527",
   "metadata": {},
   "source": [
    "### Sequence 1"
   ]
  }
 ],
 "metadata": {
  "kernelspec": {
   "display_name": ".venv",
   "language": "python",
   "name": "python3"
  },
  "language_info": {
   "codemirror_mode": {
    "name": "ipython",
    "version": 3
   },
   "file_extension": ".py",
   "mimetype": "text/x-python",
   "name": "python",
   "nbconvert_exporter": "python",
   "pygments_lexer": "ipython3",
   "version": "3.12.10"
  }
 },
 "nbformat": 4,
 "nbformat_minor": 5
}
