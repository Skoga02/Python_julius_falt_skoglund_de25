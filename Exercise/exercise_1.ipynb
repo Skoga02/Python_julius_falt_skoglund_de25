{
 "cells": [
  {
   "cell_type": "markdown",
   "id": "537d724a",
   "metadata": {},
   "source": [
    "# Exercise 1"
   ]
  },
  {
   "cell_type": "markdown",
   "id": "bcd6a36d",
   "metadata": {},
   "source": [
    "### 0. Pythagorean theorem (*)\n"
   ]
  },
  {
   "cell_type": "code",
   "execution_count": 1,
   "id": "b3767ec8",
   "metadata": {},
   "outputs": [
    {
     "name": "stdout",
     "output_type": "stream",
     "text": [
      "5.0\n"
     ]
    }
   ],
   "source": [
    "#a) A right angled triangle has the catheti: a = 3 and b = 4 length units. Compute the hypothenuse of the triangle. (*)\n",
    "\n",
    "import math\n",
    "a = 3 \n",
    "b= 4 \n",
    "c = math.sqrt(a**2+ b**2)\n",
    "\n",
    "print(c)"
   ]
  },
  {
   "cell_type": "code",
   "execution_count": 2,
   "id": "2adf7b4e",
   "metadata": {},
   "outputs": [
    {
     "name": "stdout",
     "output_type": "stream",
     "text": [
      "4.9\n"
     ]
    }
   ],
   "source": [
    "#b) A right angled triangle has hypothenuse c = 7.0 and a cathetus a = 5.0 length units. Compute the other cathetus and round to one decimal. (*)\n",
    "import math \n",
    "\n",
    "c = 7.0 \n",
    "a = 5.0 \n",
    "b = math.sqrt(c**2 - a**2)\n",
    "\n",
    "print(round(b, 1))"
   ]
  },
  {
   "cell_type": "code",
   "execution_count": null,
   "id": "0aaf50f5",
   "metadata": {},
   "outputs": [
    {
     "name": "stdout",
     "output_type": "stream",
     "text": [
      "82.2 %\n"
     ]
    }
   ],
   "source": [
    "#1. Classification accuracy \n",
    "correct = 300\n",
    "total = 365\n",
    "\n",
    "accuracy = correct / total \n",
    "print(round(accuracy * 100, 1), \"%\")"
   ]
  },
  {
   "cell_type": "code",
   "execution_count": null,
   "id": "9e48e7d3",
   "metadata": {},
   "outputs": [
    {
     "name": "stdout",
     "output_type": "stream",
     "text": [
      "Accuracy: 98.7 %\n"
     ]
    }
   ],
   "source": [
    "#2. calssification accuracy \n",
    "\n",
    "TP = 2\n",
    "FP = 2 \n",
    "FN = 11\n",
    "TN = 985\n",
    "\n",
    "accuracy = (TP + TN)  / (TP + TN + FP + FN)\n",
    "print(\"Accuracy:\", round(accuracy * 100, 1), \"%\")"
   ]
  },
  {
   "cell_type": "code",
   "execution_count": 11,
   "id": "fc6150c8",
   "metadata": {},
   "outputs": [
    {
     "name": "stdout",
     "output_type": "stream",
     "text": [
      "=== File metadata ===\n",
      "Filname: sales_data.csv\n",
      "Size (MB: 24.7\n",
      "Last Modified Year: 2023\n"
     ]
    }
   ],
   "source": [
    "#3. File metadata - format print\n",
    "\n",
    "# variables\n",
    "filename = \"sales_data.csv\"\n",
    "size_mb = 24.7\n",
    "last_modified_year = 2023\n",
    "\n",
    "#output\n",
    "print(\"=== File metadata ===\")\n",
    "print(f\"Filname: {filename}\")\n",
    "print(f\"Size (MB: {size_mb}\")\n",
    "print(f\"Last Modified Year: {last_modified_year}\")"
   ]
  },
  {
   "cell_type": "code",
   "execution_count": 15,
   "id": "8a2d98c6",
   "metadata": {},
   "outputs": [
    {
     "name": "stdout",
     "output_type": "stream",
     "text": [
      "13.0\" is equal to 33.02 cm\n"
     ]
    }
   ],
   "source": [
    "#4. Unit converter\n",
    "\n",
    "inches = float(input(\"Enter screen size in inches: \"))\n",
    "\n",
    "centimeters = inches * 2.54\n",
    "\n",
    "print(f\"{inches}\\\" is equal to {centimeters:.2f} cm\")"
   ]
  },
  {
   "cell_type": "code",
   "execution_count": 16,
   "id": "6bdb15a3",
   "metadata": {},
   "outputs": [
    {
     "name": "stdout",
     "output_type": "stream",
     "text": [
      "The text contains 20 characters.\n"
     ]
    }
   ],
   "source": [
    "#5. Count characters in text \n",
    "\n",
    "user_text = input(\"Enter text: \")\n",
    "\n",
    "char_count = len(user_text) \n",
    "\n",
    "print(f\"The text contains {char_count} characters.\")"
   ]
  },
  {
   "cell_type": "code",
   "execution_count": 22,
   "id": "58f77c30",
   "metadata": {},
   "outputs": [
    {
     "name": "stdout",
     "output_type": "stream",
     "text": [
      "radius = 5 has type <class 'int'>\n",
      "PI = 3.1415 has type <class 'float'>\n",
      "cool_subject = math has type <class 'str'>\n",
      "is_cool = True has type <class 'bool'>\n",
      "numbers = (1, 2, 41, 2) has type <class 'tuple'>\n"
     ]
    }
   ],
   "source": [
    "#6. Data types\n",
    "\n",
    "radius = 5\n",
    "PI = 3.1415\n",
    "cool_subject =\"math\"\n",
    "is_cool = True\n",
    "numbers = (1, 2, 41, 2)\n",
    "\n",
    "# Printa variables \n",
    "print(\"radius =\", radius, \"has type\", type(radius))\n",
    "print(\"PI =\", PI, \"has type\", type(PI))\n",
    "print(\"cool_subject =\", cool_subject, \"has type\", type(cool_subject))\n",
    "print(\"is_cool =\", is_cool, \"has type\", type(is_cool))\n",
    "print(\"numbers =\", numbers, \"has type\", type(numbers))\n"
   ]
  },
  {
   "cell_type": "markdown",
   "id": "dd469e22",
   "metadata": {},
   "source": [
    "### Theory \n",
    "a) What is the difference between input() and print() in Python?\n",
    "- input() is used to take input from user. This means the code needs the user to enter something before it can continue\n",
    "- print() display output to the console\n",
    "\n",
    "b) What data type does the input() function return by default? How can you use it to get numeric input?\n",
    "- The input() by default returns a string. To get at numeric input ypu need to use a int() or float()\n",
    "\n",
    "c) Explain how formatted string literals (f-strings) improve readability in output statements. Give an example.\n",
    "- A f-string allows you to embed expressions directly in strings making output cleaner.\n",
    "\n",
    "d) Can a variable change its data type during runtime in Python? Show an example.\n",
    "- Yes it is dynamicllytyped witch means it can change ex.\n",
    "\n",
    "x = 10 \n",
    "print(type(x))\n",
    "\n",
    "x = hello \n",
    "print(type(x))\n",
    "\n",
    "e) What does it mean that Python is \"dynamically typed\"? How is that different from statically typed languages? \n",
    "- Dynamically typed means that the type of varibles arent declared. Python figures it out at runtime. A statically typed langugage like java or c requiers you to declare variables.\n",
    "\n",
    "#### Glossary\n",
    "Fill in this table either by copying this into your own markdown file or copy it into a spreadsheet if you feel that is easier to work with.\n",
    "\n",
    "terminology\texplanation:\n",
    "\n",
    "data type: Specifies the type of value a varible can hold (str, float, int)\n",
    "\n",
    "variable: A named storage for data that an change during program execution.\n",
    "\n",
    "assignment: Giving a value to a variable using =.\n",
    "\n",
    "dynamically typed: Variable types a determind at runtime, and can chang.\n",
    "\n",
    "input: Function to receive data from the user. \n",
    "\n",
    "output: Displaying data to the user. (using print)\n",
    "\n",
    "type casting: COnverting a value from one data type to another. \n",
    "\n",
    "boolean: A data type with only to values. True or False. \n",
    "\n",
    "string: A data type for text (Hello)\n",
    "\n",
    "f-string: Formatting string literal for embedding variables or expressions in strings. \n",
    "\n",
    "indentation: Spaces/tabs at the start of a line to define blocks of code in python \n",
    "\n",
    "convention: Recommended coding practices for readability n maintainability \n"
   ]
  },
  {
   "cell_type": "markdown",
   "id": "fa045f5a",
   "metadata": {},
   "source": []
  }
 ],
 "metadata": {
  "kernelspec": {
   "display_name": ".venv",
   "language": "python",
   "name": "python3"
  },
  "language_info": {
   "codemirror_mode": {
    "name": "ipython",
    "version": 3
   },
   "file_extension": ".py",
   "mimetype": "text/x-python",
   "name": "python",
   "nbconvert_exporter": "python",
   "pygments_lexer": "ipython3",
   "version": "3.12.10"
  }
 },
 "nbformat": 4,
 "nbformat_minor": 5
}
