{
 "cells": [
  {
   "cell_type": "markdown",
   "id": "aa091b4c",
   "metadata": {},
   "source": [
    "# Exercise 2 - control structures"
   ]
  },
  {
   "cell_type": "code",
   "execution_count": 4,
   "id": "b7faa571",
   "metadata": {},
   "outputs": [
    {
     "name": "stdout",
     "output_type": "stream",
     "text": [
      "Zero\n"
     ]
    }
   ],
   "source": [
    "# Check sign \n",
    "\n",
    "num = float(input(\"Enter a number: \"))\n",
    "\n",
    "if num > 0:\n",
    "    print(\"Positive\")\n",
    "elif num < 0:\n",
    "    print(\"Negative\")\n",
    "else:\n",
    "    print(\"Zero\")\n",
    " "
   ]
  },
  {
   "cell_type": "code",
   "execution_count": 6,
   "id": "e0c08abe",
   "metadata": {},
   "outputs": [
    {
     "name": "stdout",
     "output_type": "stream",
     "text": [
      "The numbers are equal\n"
     ]
    }
   ],
   "source": [
    "num1 = float(input(\"Enter the first number: \"))\n",
    "num2 = float(input(\"Enter a second number: \"))\n",
    "\n",
    "if num1 < num2:\n",
    "    print(f\"The smalest number is {num1}\")\n",
    "elif num1 > num2:\n",
    "    print(f\"The smalest number is {num2}\")\n",
    "else: \n",
    "    print(\"The numbers are equal\")"
   ]
  },
  {
   "cell_type": "code",
   "execution_count": null,
   "id": "e84d3589",
   "metadata": {},
   "outputs": [
    {
     "name": "stdout",
     "output_type": "stream",
     "text": [
      "Dosage: 1/2 pills\n"
     ]
    }
   ],
   "source": [
    "# 2. Medicine\n",
    "# start by asking for details\n",
    "\n",
    "weight = float(input(\"Enter your weight: \"))\n",
    "age = int(input(\"Enter your age: \"))\n",
    "\n",
    "# determin dosage based on details\n",
    "\n",
    "if weight > 40: \n",
    "    print(\"Dosage: 1-2 pills\")\n",
    "elif 26 <= weight <= 40:\n",
    "    print(\"Dosage: 1/2 - 1 pills\")\n",
    "elif 12 <= weight <= 25:\n",
    "    print(\"Dosage: 1/2 pills\")\n",
    "else: \n",
    "    print(\"Below 15 kg, consult a doctor before giving this medicne\")"
   ]
  },
  {
   "cell_type": "code",
   "execution_count": 11,
   "id": "c944b23d",
   "metadata": {},
   "outputs": [
    {
     "name": "stdout",
     "output_type": "stream",
     "text": [
      "The number is Even\n",
      "The number is devisable by 5\n"
     ]
    }
   ],
   "source": [
    "num = int(input(\"Enter an enteger: \"))\n",
    "\n",
    "if num % 2 == 0: \n",
    "    print(\"The number is Even\")\n",
    "else: \n",
    "    Print(\"The number is odd\")\n",
    "\n",
    "if num % 5 == 0:\n",
    "    print(\"The number is devisable by 5\")\n",
    "else: \n",
    "    print(\"The number is not devisable by 5\")\n",
    "\n",
    "if num % 5 == 0 and num % 2 != 0:\n",
    "    print(\"The number is devisable by 5 and is a odd number\")"
   ]
  },
  {
   "cell_type": "code",
   "execution_count": null,
   "id": "884becfa",
   "metadata": {},
   "outputs": [
    {
     "name": "stdout",
     "output_type": "stream",
     "text": [
      "your luggage is allowed on this plane\n"
     ]
    }
   ],
   "source": [
    "# Luggage size\n",
    "# ask for information about luggage \n",
    "\n",
    "weight = float(input(\"Enter the weight of your luggage: \"))\n",
    "length = float(input(\"Enter the length of your luggage: \"))\n",
    "width = float(input(\"Enter the width of your luggage: \"))\n",
    "height = float(input(\"Enter the height of your luggage: \"))\n",
    "\n",
    "if weight < 8 and length < 55 and width < 40 and height < 23:\n",
    "    print(\"Your luggage is allowed on this plane\")\n",
    "else:\n",
    "    print(\"Your luggage is not the right size, please contact the helpdesk\")"
   ]
  },
  {
   "cell_type": "code",
   "execution_count": null,
   "id": "25855e34",
   "metadata": {},
   "outputs": [],
   "source": []
  }
 ],
 "metadata": {
  "kernelspec": {
   "display_name": ".venv",
   "language": "python",
   "name": "python3"
  },
  "language_info": {
   "codemirror_mode": {
    "name": "ipython",
    "version": 3
   },
   "file_extension": ".py",
   "mimetype": "text/x-python",
   "name": "python",
   "nbconvert_exporter": "python",
   "pygments_lexer": "ipython3",
   "version": "3.12.10"
  }
 },
 "nbformat": 4,
 "nbformat_minor": 5
}
