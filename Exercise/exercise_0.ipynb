{
 "cells": [
  {
   "cell_type": "markdown",
   "id": "5133b02f",
   "metadata": {},
   "source": [
    "a) What is the difference between git and github?\n",
    "Git is localy on your computer and is used to be able to push code or versions of your code in to github \n",
    "wich is kind of a cloudbased garage for your code. In github you can store your code/projects but also share them.\n",
    "\n",
    "b) What is the purpose of .gitignore file?\n",
    "Its there to keep unwanted files out of git\n",
    "\n",
    "c) Why is it a good idea to work with git and github?\n",
    "You can track all changes made in version control, you can work offline but you can also experiment and go back to a working version when you use git. When you use github you are able to work and share your code with a team.\n",
    "\n",
    "Glossary\n",
    "Fill in this table either by copying this into your own markdown file or copy it into a spreadsheet if you feel that is easier to work with.\n",
    "\n",
    "terminology\texplanation:\n",
    "git: Version control system to track changes in files\n",
    "\n",
    "github:\tA cloud platform to host your git repository \n",
    "\n",
    "version control: A method of managing and tracking changes\n",
    "\n",
    "backup:\tA copy of data that is kept seperatly from the original to prevent data loss\n",
    "\n",
    "gitignore:\tA text file that contains a list of files git should ignore \n",
    "\n",
    "commit:\tA command used when you make a new save to github containing a message \n",
    "\n",
    "pull:\tCommand used when you \"pull\" data from github\n",
    "\n",
    "clone:\tCommand used in git when you want to create a local copy\n",
    "\n",
    "cd:\tCommand used to move in to diffrent folders (change directory)\n",
    "\n",
    "ls:\tTeminal command to list folders or files in current directory \n"
   ]
  }
 ],
 "metadata": {
  "language_info": {
   "name": "python"
  }
 },
 "nbformat": 4,
 "nbformat_minor": 5
}
