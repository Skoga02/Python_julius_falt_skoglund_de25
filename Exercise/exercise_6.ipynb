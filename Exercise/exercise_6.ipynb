{
 "cells": [
  {
   "cell_type": "markdown",
   "id": "ce08e378",
   "metadata": {},
   "source": [
    "# Exercise 6"
   ]
  },
  {
   "cell_type": "code",
   "execution_count": 3,
   "id": "8dba72e0",
   "metadata": {},
   "outputs": [],
   "source": [
    "from numbers import Number\n",
    "\n",
    "class UnitConverter:\n",
    "\n",
    "    def __init__(self, value):\n",
    "        self.value = value\n",
    "\n",
    "    @property\n",
    "    def value(self):\n",
    "        return self._value\n",
    "        \n",
    "    @value.setter\n",
    "    def value(self, v):\n",
    "        if not isinstance(v, Number):\n",
    "            raise TypeError(f\"Value must be a number, not {type(v).__name__}\")\n",
    "        self._value = v\n",
    "\n",
    "    def inch_to_cm(self):\n",
    "        return self.value * 2.54\n",
    "\n",
    "    def foot_to_meters(self):\n",
    "        return self.value * 0.3048\n",
    "\n",
    "    def pound_to_kg(self):\n",
    "        return self.value * 0.45359237\n",
    "\n",
    "    def __repr__(self):\n",
    "        return f\"UnitConverter(value={self.value})\"\n",
    "    "
   ]
  },
  {
   "cell_type": "code",
   "execution_count": 8,
   "id": "079c7508",
   "metadata": {},
   "outputs": [
    {
     "name": "stdout",
     "output_type": "stream",
     "text": [
      "UnitConverter(value=10)\n",
      "10 inches = 25.40 cm\n",
      "10 feet= 3.05 cm\n",
      "10 pounds = 4.54 kg\n",
      "Value must be a number, not str\n"
     ]
    }
   ],
   "source": [
    "converter = UnitConverter(10)\n",
    "\n",
    "print(converter)\n",
    "print(f\"{converter.value} inches = {converter.inch_to_cm():.2f} cm\")\n",
    "print(f\"{converter.value} feet= {converter.foot_to_meters():.2f} cm\")\n",
    "print(f\"{converter.value} pounds = {converter.pound_to_kg():.2f} kg\")\n",
    "\n",
    "try:\n",
    "    converter.value = \"10\"\n",
    "except TypeError as err:\n",
    "    print(err)\n"
   ]
  },
  {
   "cell_type": "code",
   "execution_count": null,
   "id": "b3a399a8",
   "metadata": {},
   "outputs": [],
   "source": []
  }
 ],
 "metadata": {
  "kernelspec": {
   "display_name": ".venv",
   "language": "python",
   "name": "python3"
  },
  "language_info": {
   "codemirror_mode": {
    "name": "ipython",
    "version": 3
   },
   "file_extension": ".py",
   "mimetype": "text/x-python",
   "name": "python",
   "nbconvert_exporter": "python",
   "pygments_lexer": "ipython3",
   "version": "3.12.10"
  }
 },
 "nbformat": 4,
 "nbformat_minor": 5
}
