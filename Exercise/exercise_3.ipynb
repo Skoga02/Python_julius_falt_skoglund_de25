{
 "cells": [
  {
   "cell_type": "markdown",
   "id": "6f552bf5",
   "metadata": {},
   "source": [
    "# Exercise 3"
   ]
  },
  {
   "cell_type": "markdown",
   "id": "e18ef3e9",
   "metadata": {},
   "source": [
    "##### Acending order"
   ]
  },
  {
   "cell_type": "code",
   "execution_count": null,
   "id": "ef23ff42",
   "metadata": {},
   "outputs": [
    {
     "name": "stdout",
     "output_type": "stream",
     "text": [
      "Dice rolls (loop): [1, 4, 1, 3, 4, 1, 3, 5, 4, 4]\n",
      "Dice rolls (list comprehension): [5, 5, 4, 2, 6, 5, 2, 1, 2, 4]\n",
      "Sorted dice rolls (loop): [1, 1, 1, 3, 3, 4, 4, 4, 4, 5]\n",
      "Sorted dice rolls (list comprehension): [1, 2, 2, 2, 4, 4, 5, 5, 5, 6]\n"
     ]
    }
   ],
   "source": [
    "# a) Dice roll acending order\n",
    "\n",
    "import random as rnd\n",
    "\n",
    "# generate a random dice roll outcome\n",
    "dice_rolls = []\n",
    "for i in range(10):\n",
    "    roll = rnd.randint(1, 6)\n",
    "    dice_rolls.append(roll)\n",
    "\n",
    "print(\"Dice rolls (loop):\", dice_rolls)\n",
    "\n",
    "dice_rolls_comp = [rnd.randint(1, 6) for i in range(10)]\n",
    "print(\"Dice rolls (list comprehension):\", dice_rolls_comp)\n",
    "\n",
    "# sort() makes output acending\n",
    "\n",
    "dice_rolls.sort()\n",
    "dice_rolls_comp.sort()\n",
    "\n",
    "print(\"Sorted dice rolls (loop):\", dice_rolls)\n",
    "print(\"Sorted dice rolls (list comprehension):\", dice_rolls_comp)"
   ]
  },
  {
   "cell_type": "markdown",
   "id": "c9c78aeb",
   "metadata": {},
   "source": [
    "##### Decending order"
   ]
  },
  {
   "cell_type": "code",
   "execution_count": null,
   "id": "782db034",
   "metadata": {},
   "outputs": [
    {
     "name": "stdout",
     "output_type": "stream",
     "text": [
      "Dice rolls (loop): [1, 5, 2, 1, 5, 4, 5, 2, 2, 1]\n",
      "Dice rolls (list comprehension): [4, 3, 5, 2, 3, 4, 2, 1, 5, 6]\n",
      "Sorted dice rolls (loop): [5, 5, 5, 4, 2, 2, 2, 1, 1, 1]\n",
      "Sorted dice rolls (list comprehension): [6, 5, 5, 4, 4, 3, 3, 2, 2, 1]\n"
     ]
    }
   ],
   "source": [
    "# b) Dice roll decending order\n",
    "# to change from acending to decending change sort() to (reverse=True) \n",
    "\n",
    "import random as rnd\n",
    "\n",
    "# generate a random dice roll outcome\n",
    "dice_rolls = []\n",
    "for i in range(10):\n",
    "    roll = rnd.randint(1, 6)\n",
    "    dice_rolls.append(roll)\n",
    "\n",
    "print(\"Dice rolls (loop):\", dice_rolls)\n",
    "\n",
    "dice_rolls_comp = [rnd.randint(1, 6) for i in range(10)]\n",
    "print(\"Dice rolls (list comprehension):\", dice_rolls_comp)\n",
    "\n",
    "# reverse=True makes output decending \n",
    "\n",
    "dice_rolls.sort(reverse=True)\n",
    "dice_rolls_comp.sort(reverse=True)\n",
    "\n",
    "print(\"Sorted dice rolls (loop):\", dice_rolls)\n",
    "print(\"Sorted dice rolls (list comprehension):\", dice_rolls_comp)"
   ]
  },
  {
   "cell_type": "markdown",
   "id": "bc07138d",
   "metadata": {},
   "source": [
    "##### Find maximum and minimum "
   ]
  },
  {
   "cell_type": "code",
   "execution_count": 23,
   "id": "d0a4290e",
   "metadata": {},
   "outputs": [
    {
     "name": "stdout",
     "output_type": "stream",
     "text": [
      "Dice rolls (loop): [4, 6, 3, 2, 2, 2, 1, 6, 5, 3]\n",
      "Dice rolls (list comprehension): [2, 3, 1, 6, 1, 4, 6, 2, 3, 3]\n",
      "Sorted dice rolls (loop): [1, 2, 2, 2, 3, 3, 4, 5, 6, 6]\n",
      "Sorted dice rolls (list comprehension): [1, 1, 2, 2, 3, 3, 3, 4, 6, 6]\n",
      "Loop Rolls -> Max: 6 Min: 1\n",
      "List comprehsion -> Max: 6 Min 1\n"
     ]
    }
   ],
   "source": [
    "# b) Dice roll, find maximum\n",
    "\n",
    "import random as rnd\n",
    "\n",
    "# generate a random dice roll outcome\n",
    "dice_rolls = []\n",
    "for i in range(10):\n",
    "    roll = rnd.randint(1, 6)\n",
    "    dice_rolls.append(roll)\n",
    "\n",
    "print(\"Dice rolls (loop):\", dice_rolls)\n",
    "\n",
    "dice_rolls_comp = [rnd.randint(1, 6) for i in range(10)]\n",
    "print(\"Dice rolls (list comprehension):\", dice_rolls_comp)\n",
    "\n",
    "dice_rolls.sort()\n",
    "dice_rolls_comp.sort()\n",
    "\n",
    "print(\"Sorted dice rolls (loop):\", dice_rolls)\n",
    "print(\"Sorted dice rolls (list comprehension):\", dice_rolls_comp)\n",
    "\n",
    "# find max and min values\n",
    "print(\"Loop Rolls -> Max:\", max(dice_rolls), \"Min:\", min(dice_rolls))\n",
    "print(\"List comprehsion -> Max:\", max(dice_rolls_comp), \"Min\", min(dice_rolls_comp))"
   ]
  },
  {
   "cell_type": "markdown",
   "id": "f0ef3f27",
   "metadata": {},
   "source": [
    "##### Mean average"
   ]
  },
  {
   "cell_type": "code",
   "execution_count": null,
   "id": "8878a8ee",
   "metadata": {},
   "outputs": [
    {
     "name": "stdout",
     "output_type": "stream",
     "text": [
      "Dice rolls (loop): [1, 2, 3, 5, 2, 6, 6, 2, 2, 6]\n",
      "Dice rolls (list comprehension): [6, 1, 3, 3, 2, 3, 2, 6, 4, 2]\n",
      "Sorted dice rolls (loop): [1, 2, 2, 2, 2, 3, 5, 6, 6, 6]\n",
      "Sorted dice rolls (list comprehension): [1, 2, 2, 2, 3, 3, 3, 4, 6, 6]\n",
      "loop Rolls -> Mean (Average:) 3.5\n",
      "comp Rolls -> Mean (Average:) 3.2\n"
     ]
    }
   ],
   "source": [
    "# b) Dice roll, find mean average\n",
    "\n",
    "import random as rnd\n",
    "\n",
    "# generate a random dice roll outcome\n",
    "dice_rolls = []\n",
    "for i in range(10):\n",
    "    roll = rnd.randint(1, 6)\n",
    "    dice_rolls.append(roll)\n",
    "\n",
    "print(\"Dice rolls (loop):\", dice_rolls)\n",
    "\n",
    "dice_rolls_comp = [rnd.randint(1, 6) for i in range(10)]\n",
    "print(\"Dice rolls (list comprehension):\", dice_rolls_comp)\n",
    "\n",
    "dice_rolls.sort()\n",
    "dice_rolls_comp.sort()\n",
    "\n",
    "print(\"Sorted dice rolls (loop):\", dice_rolls)\n",
    "print(\"Sorted dice rolls (list comprehension):\", dice_rolls_comp)\n",
    "# mean average \n",
    "mean_loop = sum(dice_rolls) / len(dice_rolls)\n",
    "mean_comp = sum(dice_rolls_comp) / len(dice_rolls_comp)\n",
    "\n",
    "print(\"loop Rolls -> Mean (Average:)\", mean_loop)\n",
    "print(\"comp Rolls -> Mean (Average:)\", mean_comp)"
   ]
  },
  {
   "cell_type": "markdown",
   "id": "66eaf86b",
   "metadata": {},
   "source": [
    "##### Median"
   ]
  },
  {
   "cell_type": "code",
   "execution_count": null,
   "id": "3010a488",
   "metadata": {},
   "outputs": [
    {
     "name": "stdout",
     "output_type": "stream",
     "text": [
      "Dice rolls (loop): [1, 2, 5, 6, 3, 2, 6, 5, 6, 3]\n",
      "Dice rolls (list comprehension): [4, 5, 1, 5, 3, 6, 5, 4, 2, 6]\n",
      "Sorted dice rolls (loop): [1, 2, 2, 3, 3, 5, 5, 6, 6, 6]\n",
      "Sorted dice rolls (list comprehension): [1, 2, 3, 4, 4, 5, 5, 5, 6, 6]\n",
      "Loop Rolls -> Median:  4.0\n",
      "Comp Rolls -> Median:  4.5\n"
     ]
    }
   ],
   "source": [
    "# b) Dice roll, find median\n",
    "\n",
    "import random as rnd\n",
    "\n",
    "# generate a random dice roll outcome\n",
    "dice_rolls = []\n",
    "for i in range(10):\n",
    "    roll = rnd.randint(1, 6)\n",
    "    dice_rolls.append(roll)\n",
    "\n",
    "print(\"Dice rolls (loop):\", dice_rolls)\n",
    "\n",
    "dice_rolls_comp = [rnd.randint(1, 6) for i in range(10)]\n",
    "print(\"Dice rolls (list comprehension):\", dice_rolls_comp)\n",
    "\n",
    "dice_rolls.sort()\n",
    "dice_rolls_comp.sort()\n",
    "\n",
    "print(\"Sorted dice rolls (loop):\", dice_rolls)\n",
    "print(\"Sorted dice rolls (list comprehension):\", dice_rolls_comp)\n",
    "\n",
    "#definition of median depending on odd or even\n",
    "\n",
    "def median(lst):\n",
    "    n = len(lst)\n",
    "    mid = n // 2\n",
    "    if n % 2 == 0:\n",
    "        return (lst[mid -1] + lst[mid]) / 2\n",
    "    else:\n",
    "        return lst[mid]\n",
    "\n",
    "median_loop = median(dice_rolls)\n",
    "median_comp = median(dice_rolls_comp)\n",
    "\n",
    "print(\"Loop Rolls -> Median: \", median_loop)\n",
    "print(\"Comp Rolls -> Median: \", median_comp)"
   ]
  },
  {
   "cell_type": "code",
   "execution_count": null,
   "id": "71a97f9a",
   "metadata": {},
   "outputs": [],
   "source": [
    "# b) Dice roll, find\n",
    "\n",
    "import random as rnd\n",
    "\n",
    "# generate a random dice roll outcome\n",
    "dice_rolls = []\n",
    "for i in range(10):\n",
    "    roll = rnd.randint(1, 6)\n",
    "    dice_rolls.append(roll)\n",
    "\n",
    "print(\"Dice rolls (loop):\", dice_rolls)\n",
    "\n",
    "dice_rolls_comp = [rnd.randint(1, 6) for i in range(10)]\n",
    "print(\"Dice rolls (list comprehension):\", dice_rolls_comp)\n",
    "\n",
    "dice_rolls.sort()\n",
    "dice_rolls_comp.sort()\n",
    "\n",
    "print(\"Sorted dice rolls (loop):\", dice_rolls)\n",
    "print(\"Sorted dice rolls (list comprehension):\", dice_rolls_comp)\n",
    "\n",
    "#definition of median depending on odd or even\n",
    "\n",
    "def median(lst):\n",
    "    n = len(lst)\n",
    "    mid = n // 2\n",
    "    if n % 2 == 0:\n",
    "        return (lst[mid -1] + lst[mid]) / 2\n",
    "    else:\n",
    "        return lst[mid]\n",
    "\n",
    "median_loop = median(dice_rolls)\n",
    "median_comp = median(dice_rolls_comp)\n",
    "\n",
    "print(\"Loop Rolls -> Median: \", median_loop)\n",
    "print(\"Comp Rolls -> Median: \", median_comp)"
   ]
  },
  {
   "cell_type": "markdown",
   "id": "820c047d",
   "metadata": {},
   "source": [
    "##### Extract only unique values"
   ]
  },
  {
   "cell_type": "code",
   "execution_count": 37,
   "id": "c74e7be9",
   "metadata": {},
   "outputs": [
    {
     "name": "stdout",
     "output_type": "stream",
     "text": [
      "Dice rolls (loop): [5, 6, 4, 1, 4, 3, 5, 6, 5, 4]\n",
      "Dice rolls (list comprehension): [5, 1, 2, 4, 5, 6, 6, 1, 4, 1]\n",
      "Sorted dice rolls (loop): [1, 3, 4, 4, 4, 5, 5, 5, 6, 6]\n",
      "Sorted dice rolls (list comprehension): [1, 1, 1, 2, 4, 4, 5, 5, 6, 6]\n",
      "Unique values in loop are: [1, 3, 4, 5, 6]\n",
      "Unique values in comp are: [1, 2, 4, 5, 6]\n"
     ]
    }
   ],
   "source": [
    "# b) Dice roll, find unique values\n",
    "\n",
    "import random as rnd\n",
    "\n",
    "# generate a random dice roll outcome\n",
    "dice_rolls = []\n",
    "for i in range(10):\n",
    "    roll = rnd.randint(1, 6)\n",
    "    dice_rolls.append(roll)\n",
    "\n",
    "print(\"Dice rolls (loop):\", dice_rolls)\n",
    "\n",
    "dice_rolls_comp = [rnd.randint(1, 6) for i in range(10)]\n",
    "print(\"Dice rolls (list comprehension):\", dice_rolls_comp)\n",
    "\n",
    "dice_rolls.sort()\n",
    "dice_rolls_comp.sort()\n",
    "\n",
    "print(\"Sorted dice rolls (loop):\", dice_rolls)\n",
    "print(\"Sorted dice rolls (list comprehension):\", dice_rolls_comp)\n",
    "\n",
    "# to extract unique values you use whats called, sets.\n",
    "unique_loop_ordered = []\n",
    "for x in dice_rolls:\n",
    "    if x not in unique_loop_ordered:\n",
    "        unique_loop_ordered.append(x)\n",
    "\n",
    "unique_loop_comp_ordered = []\n",
    "for x in dice_rolls_comp:\n",
    "    if x not in unique_loop_comp_ordered:\n",
    "        unique_loop_comp_ordered.append(x)\n",
    "\n",
    "print(\"Unique values in loop are:\", unique_loop_ordered)\n",
    "print(\"Unique values in comp are:\", unique_loop_comp_ordered)\n",
    "\n",
    "\n"
   ]
  },
  {
   "cell_type": "markdown",
   "id": "b049b2a2",
   "metadata": {},
   "source": [
    "### 1. Food menu"
   ]
  },
  {
   "cell_type": "code",
   "execution_count": 53,
   "id": "c3830fdd",
   "metadata": {},
   "outputs": [
    {
     "name": "stdout",
     "output_type": "stream",
     "text": [
      "Food Menu for the Week: \n",
      "-------------------------\n",
      "Monday     vegetarian\n",
      "Tuesday    lassange\n",
      "Wednesday  spaghetti\n",
      "Thursday   fish\n",
      "Friday     pancakes\n"
     ]
    }
   ],
   "source": [
    "foods = (\"vegetarian\", \"lassange\", \"spaghetti\", \"fish\", \"pancakes\")\n",
    "\n",
    "weekdays =(\"Monday\", \"Tuesday\", \"Wednesday\", \"Thursday\", \"Friday\")\n",
    "\n",
    "print(\"Food Menu for the Week: \")\n",
    "print(\"-------------------------\")\n",
    "for day, food in zip(weekdays, foods):\n",
    "    print(f\"{day:<10} {food}\")\n",
    "# the <10 makes the food line up better in the result"
   ]
  },
  {
   "cell_type": "markdown",
   "id": "11f9afc7",
   "metadata": {},
   "source": [
    "### 2. Squares"
   ]
  },
  {
   "cell_type": "code",
   "execution_count": 62,
   "id": "6ddc8f6f",
   "metadata": {},
   "outputs": [
    {
     "name": "stdout",
     "output_type": "stream",
     "text": [
      "[100, 81, 64, 49, 36, 25, 16, 9, 4, 1, 0, 1, 4, 9, 16, 25, 36, 49, 64, 81, 100]\n"
     ]
    }
   ],
   "source": [
    "squares = [x**2 for x in range(-10, 11)]\n",
    "print(squares)"
   ]
  },
  {
   "cell_type": "code",
   "execution_count": 65,
   "id": "851079a3",
   "metadata": {},
   "outputs": [
    {
     "ename": "ModuleNotFoundError",
     "evalue": "No module named 'matplotlib'",
     "output_type": "error",
     "traceback": [
      "\u001b[31m---------------------------------------------------------------------------\u001b[39m",
      "\u001b[31mModuleNotFoundError\u001b[39m                       Traceback (most recent call last)",
      "\u001b[36mCell\u001b[39m\u001b[36m \u001b[39m\u001b[32mIn[65]\u001b[39m\u001b[32m, line 2\u001b[39m\n\u001b[32m      1\u001b[39m \u001b[38;5;66;03m# Make sure plots display in the notebook\u001b[39;00m\n\u001b[32m----> \u001b[39m\u001b[32m2\u001b[39m \u001b[43mget_ipython\u001b[49m\u001b[43m(\u001b[49m\u001b[43m)\u001b[49m\u001b[43m.\u001b[49m\u001b[43mrun_line_magic\u001b[49m\u001b[43m(\u001b[49m\u001b[33;43m'\u001b[39;49m\u001b[33;43mmatplotlib\u001b[39;49m\u001b[33;43m'\u001b[39;49m\u001b[43m,\u001b[49m\u001b[43m \u001b[49m\u001b[33;43m'\u001b[39;49m\u001b[33;43minline\u001b[39;49m\u001b[33;43m'\u001b[39;49m\u001b[43m)\u001b[49m\n\u001b[32m      4\u001b[39m \u001b[38;5;28;01mimport\u001b[39;00m\u001b[38;5;250m \u001b[39m\u001b[34;01mmatplotlib\u001b[39;00m\u001b[34;01m.\u001b[39;00m\u001b[34;01mpyplot\u001b[39;00m\u001b[38;5;250m \u001b[39m\u001b[38;5;28;01mas\u001b[39;00m\u001b[38;5;250m \u001b[39m\u001b[34;01mplt\u001b[39;00m\n\u001b[32m      6\u001b[39m \u001b[38;5;66;03m# a) List of squares from -10 to 10\u001b[39;00m\n",
      "\u001b[36mFile \u001b[39m\u001b[32m~/Documents/Github/Python_julius_falt_skoglund_de25/.venv/lib/python3.12/site-packages/IPython/core/interactiveshell.py:2504\u001b[39m, in \u001b[36mInteractiveShell.run_line_magic\u001b[39m\u001b[34m(self, magic_name, line, _stack_depth)\u001b[39m\n\u001b[32m   2502\u001b[39m     kwargs[\u001b[33m'\u001b[39m\u001b[33mlocal_ns\u001b[39m\u001b[33m'\u001b[39m] = \u001b[38;5;28mself\u001b[39m.get_local_scope(stack_depth)\n\u001b[32m   2503\u001b[39m \u001b[38;5;28;01mwith\u001b[39;00m \u001b[38;5;28mself\u001b[39m.builtin_trap:\n\u001b[32m-> \u001b[39m\u001b[32m2504\u001b[39m     result = \u001b[43mfn\u001b[49m\u001b[43m(\u001b[49m\u001b[43m*\u001b[49m\u001b[43margs\u001b[49m\u001b[43m,\u001b[49m\u001b[43m \u001b[49m\u001b[43m*\u001b[49m\u001b[43m*\u001b[49m\u001b[43mkwargs\u001b[49m\u001b[43m)\u001b[49m\n\u001b[32m   2506\u001b[39m \u001b[38;5;66;03m# The code below prevents the output from being displayed\u001b[39;00m\n\u001b[32m   2507\u001b[39m \u001b[38;5;66;03m# when using magics with decorator @output_can_be_silenced\u001b[39;00m\n\u001b[32m   2508\u001b[39m \u001b[38;5;66;03m# when the last Python token in the expression is a ';'.\u001b[39;00m\n\u001b[32m   2509\u001b[39m \u001b[38;5;28;01mif\u001b[39;00m \u001b[38;5;28mgetattr\u001b[39m(fn, magic.MAGIC_OUTPUT_CAN_BE_SILENCED, \u001b[38;5;28;01mFalse\u001b[39;00m):\n",
      "\u001b[36mFile \u001b[39m\u001b[32m~/Documents/Github/Python_julius_falt_skoglund_de25/.venv/lib/python3.12/site-packages/IPython/core/magics/pylab.py:103\u001b[39m, in \u001b[36mPylabMagics.matplotlib\u001b[39m\u001b[34m(self, line)\u001b[39m\n\u001b[32m     98\u001b[39m     \u001b[38;5;28mprint\u001b[39m(\n\u001b[32m     99\u001b[39m         \u001b[33m\"\u001b[39m\u001b[33mAvailable matplotlib backends: \u001b[39m\u001b[38;5;132;01m%s\u001b[39;00m\u001b[33m\"\u001b[39m\n\u001b[32m    100\u001b[39m         % _list_matplotlib_backends_and_gui_loops()\n\u001b[32m    101\u001b[39m     )\n\u001b[32m    102\u001b[39m \u001b[38;5;28;01melse\u001b[39;00m:\n\u001b[32m--> \u001b[39m\u001b[32m103\u001b[39m     gui, backend = \u001b[38;5;28;43mself\u001b[39;49m\u001b[43m.\u001b[49m\u001b[43mshell\u001b[49m\u001b[43m.\u001b[49m\u001b[43menable_matplotlib\u001b[49m\u001b[43m(\u001b[49m\u001b[43margs\u001b[49m\u001b[43m.\u001b[49m\u001b[43mgui\u001b[49m\u001b[43m)\u001b[49m\n\u001b[32m    104\u001b[39m     \u001b[38;5;28mself\u001b[39m._show_matplotlib_backend(args.gui, backend)\n",
      "\u001b[36mFile \u001b[39m\u001b[32m~/Documents/Github/Python_julius_falt_skoglund_de25/.venv/lib/python3.12/site-packages/IPython/core/interactiveshell.py:3787\u001b[39m, in \u001b[36mInteractiveShell.enable_matplotlib\u001b[39m\u001b[34m(self, gui)\u001b[39m\n\u001b[32m   3784\u001b[39m     \u001b[38;5;28;01mimport\u001b[39;00m\u001b[38;5;250m \u001b[39m\u001b[34;01mmatplotlib_inline\u001b[39;00m\u001b[34;01m.\u001b[39;00m\u001b[34;01mbackend_inline\u001b[39;00m\n\u001b[32m   3786\u001b[39m \u001b[38;5;28;01mfrom\u001b[39;00m\u001b[38;5;250m \u001b[39m\u001b[34;01mIPython\u001b[39;00m\u001b[34;01m.\u001b[39;00m\u001b[34;01mcore\u001b[39;00m\u001b[38;5;250m \u001b[39m\u001b[38;5;28;01mimport\u001b[39;00m pylabtools \u001b[38;5;28;01mas\u001b[39;00m pt\n\u001b[32m-> \u001b[39m\u001b[32m3787\u001b[39m gui, backend = \u001b[43mpt\u001b[49m\u001b[43m.\u001b[49m\u001b[43mfind_gui_and_backend\u001b[49m\u001b[43m(\u001b[49m\u001b[43mgui\u001b[49m\u001b[43m,\u001b[49m\u001b[43m \u001b[49m\u001b[38;5;28;43mself\u001b[39;49m\u001b[43m.\u001b[49m\u001b[43mpylab_gui_select\u001b[49m\u001b[43m)\u001b[49m\n\u001b[32m   3789\u001b[39m \u001b[38;5;28;01mif\u001b[39;00m gui != \u001b[38;5;28;01mNone\u001b[39;00m:\n\u001b[32m   3790\u001b[39m     \u001b[38;5;66;03m# If we have our first gui selection, store it\u001b[39;00m\n\u001b[32m   3791\u001b[39m     \u001b[38;5;28;01mif\u001b[39;00m \u001b[38;5;28mself\u001b[39m.pylab_gui_select \u001b[38;5;129;01mis\u001b[39;00m \u001b[38;5;28;01mNone\u001b[39;00m:\n",
      "\u001b[36mFile \u001b[39m\u001b[32m~/Documents/Github/Python_julius_falt_skoglund_de25/.venv/lib/python3.12/site-packages/IPython/core/pylabtools.py:338\u001b[39m, in \u001b[36mfind_gui_and_backend\u001b[39m\u001b[34m(gui, gui_select)\u001b[39m\n\u001b[32m    321\u001b[39m \u001b[38;5;28;01mdef\u001b[39;00m\u001b[38;5;250m \u001b[39m\u001b[34mfind_gui_and_backend\u001b[39m(gui=\u001b[38;5;28;01mNone\u001b[39;00m, gui_select=\u001b[38;5;28;01mNone\u001b[39;00m):\n\u001b[32m    322\u001b[39m \u001b[38;5;250m    \u001b[39m\u001b[33;03m\"\"\"Given a gui string return the gui and mpl backend.\u001b[39;00m\n\u001b[32m    323\u001b[39m \n\u001b[32m    324\u001b[39m \u001b[33;03m    Parameters\u001b[39;00m\n\u001b[32m   (...)\u001b[39m\u001b[32m    335\u001b[39m \u001b[33;03m    'WXAgg','Qt4Agg','module://matplotlib_inline.backend_inline','agg').\u001b[39;00m\n\u001b[32m    336\u001b[39m \u001b[33;03m    \"\"\"\u001b[39;00m\n\u001b[32m--> \u001b[39m\u001b[32m338\u001b[39m     \u001b[38;5;28;01mimport\u001b[39;00m\u001b[38;5;250m \u001b[39m\u001b[34;01mmatplotlib\u001b[39;00m\n\u001b[32m    340\u001b[39m     \u001b[38;5;28;01mif\u001b[39;00m _matplotlib_manages_backends():\n\u001b[32m    341\u001b[39m         backend_registry = matplotlib.backends.registry.backend_registry\n",
      "\u001b[31mModuleNotFoundError\u001b[39m: No module named 'matplotlib'"
     ]
    }
   ],
   "source": [
    "# Make sure plots display in the notebook\n",
    "%matplotlib inline\n",
    "\n",
    "import matplotlib.pyplot as plt\n",
    "\n",
    "# a) List of squares from -10 to 10\n",
    "x_values = list(range(-10, 11))\n",
    "squares = [x**2 for x in x_values]\n",
    "\n",
    "# b) Plot\n",
    "plt.plot(x_values, squares, marker='o', color='blue', linestyle='-')\n",
    "plt.title(\"Squares of numbers from -10 to 10\")\n",
    "plt.xlabel(\"Number\")\n",
    "plt.ylabel(\"Square\")\n",
    "plt.grid(True)\n",
    "plt.show()"
   ]
  },
  {
   "cell_type": "markdown",
   "id": "2e1b5524",
   "metadata": {},
   "source": [
    "### 3. Chessboard using list comprehension"
   ]
  },
  {
   "cell_type": "code",
   "execution_count": 75,
   "id": "3046ca30",
   "metadata": {},
   "outputs": [
    {
     "name": "stdout",
     "output_type": "stream",
     "text": [
      "['A1', 'B1', 'C1', 'D1', 'E1', 'F1', 'G1', 'H1']\n",
      "['A2', 'B2', 'C2', 'D2', 'E2', 'F2', 'G2', 'H2']\n",
      "['A3', 'B3', 'C3', 'D3', 'E3', 'F3', 'G3', 'H3']\n",
      "['A4', 'B4', 'C4', 'D4', 'E4', 'F4', 'G4', 'H4']\n",
      "['A5', 'B5', 'C5', 'D5', 'E5', 'F5', 'G5', 'H5']\n",
      "['A6', 'B6', 'C6', 'D6', 'E6', 'F6', 'G6', 'H6']\n",
      "['A7', 'B7', 'C7', 'D7', 'E7', 'F7', 'G7', 'H7']\n",
      "['A8', 'B8', 'C8', 'D8', 'E8', 'F8', 'G8', 'H8']\n"
     ]
    }
   ],
   "source": [
    "letters_numbers = [[chr(col) + str(row) for col in range (ord(\"A\"), ord(\"H\") +1)]\n",
    "    for row in range(1, 9)]\n",
    "\n",
    "for row in letters_numbers: \n",
    "    print(row)"
   ]
  },
  {
   "cell_type": "markdown",
   "id": "2874c57b",
   "metadata": {},
   "source": [
    "##### Chessboard using tuple"
   ]
  },
  {
   "cell_type": "code",
   "execution_count": 76,
   "id": "34c45f62",
   "metadata": {},
   "outputs": [
    {
     "name": "stdout",
     "output_type": "stream",
     "text": [
      "(('A', 1), ('B', 1), ('C', 1), ('D', 1), ('E', 1), ('F', 1), ('G', 1), ('H', 1))\n",
      "(('A', 2), ('B', 2), ('C', 2), ('D', 2), ('E', 2), ('F', 2), ('G', 2), ('H', 2))\n",
      "(('A', 3), ('B', 3), ('C', 3), ('D', 3), ('E', 3), ('F', 3), ('G', 3), ('H', 3))\n",
      "(('A', 4), ('B', 4), ('C', 4), ('D', 4), ('E', 4), ('F', 4), ('G', 4), ('H', 4))\n",
      "(('A', 5), ('B', 5), ('C', 5), ('D', 5), ('E', 5), ('F', 5), ('G', 5), ('H', 5))\n",
      "(('A', 6), ('B', 6), ('C', 6), ('D', 6), ('E', 6), ('F', 6), ('G', 6), ('H', 6))\n",
      "(('A', 7), ('B', 7), ('C', 7), ('D', 7), ('E', 7), ('F', 7), ('G', 7), ('H', 7))\n",
      "(('A', 8), ('B', 8), ('C', 8), ('D', 8), ('E', 8), ('F', 8), ('G', 8), ('H', 8))\n"
     ]
    }
   ],
   "source": [
    "chessboard = tuple(\n",
    "    tuple((chr(col), row) for col in range(ord(\"A\"), ord(\"H\") +1))\n",
    "    for row in range(1, 9)\n",
    ")\n",
    "\n",
    "for row in chessboard:\n",
    "    print(row)"
   ]
  },
  {
   "cell_type": "markdown",
   "id": "85a5d674",
   "metadata": {},
   "source": [
    "### 4. Dice rolls"
   ]
  },
  {
   "cell_type": "code",
   "execution_count": null,
   "id": "f957aa45",
   "metadata": {},
   "outputs": [
    {
     "name": "stdout",
     "output_type": "stream",
     "text": [
      "Outcome (acending): [1, 1, 1, 1, 1, 1, 1, 1, 1, 1, 1, 1, 1, 1, 1, 1, 1, 1, 2, 2, 2, 2, 2, 2, 2, 2, 2, 2, 2, 2, 3, 3, 3, 3, 3, 3, 3, 3, 3, 3, 3, 3, 3, 3, 3, 3, 3, 3, 3, 3, 3, 3, 4, 4, 4, 4, 4, 4, 4, 4, 4, 4, 4, 4, 4, 4, 5, 5, 5, 5, 5, 5, 5, 5, 5, 5, 5, 5, 5, 5, 5, 5, 5, 5, 6, 6, 6, 6, 6, 6, 6, 6, 6, 6, 6, 6, 6, 6, 6, 6]\n",
      "Number of 6's: 16\n",
      "Number of 6's: 16\n"
     ]
    }
   ],
   "source": [
    "import random as rnd\n",
    "\n",
    "# generate a random dice roll outcome\n",
    "dice_rolls = []\n",
    "for i in range(100):\n",
    "    roll = rnd.randint(1, 6)\n",
    "    dice_rolls.append(roll)\n",
    "\n",
    "dice_rolls.sort()\n",
    "print(\"Outcome (acending):\", dice_rolls)\n",
    "\n",
    "# Built in method called count(vaule)\n",
    "count_sixes = dice_rolls.count(6)\n",
    "print(\"Number of 6's:\", count_sixes)\n",
    "\n",
    "#loop \n",
    "counting_sixes = sum(1 for x in dice_rolls if x == 6)\n",
    "print(\"Number of 6's:\", counting_sixes)"
   ]
  },
  {
   "cell_type": "code",
   "execution_count": 119,
   "id": "7be8753b",
   "metadata": {},
   "outputs": [
    {
     "name": "stdout",
     "output_type": "stream",
     "text": [
      "Rolls: [10, 100, 1000, 10000, 1000000, 10000000]\n",
      "Six counts: [1, 18, 160, 1681, 167195, 1666414]\n",
      "Probabilities: [0.1, 0.18, 0.16, 0.1681, 0.167195, 0.1666414]\n",
      "\n",
      "Detailed results: \n",
      "Rolls: 10       | Sixes: 1        | Probability: 0.100000\n",
      "Rolls: 100      | Sixes: 18       | Probability: 0.180000\n",
      "Rolls: 1000     | Sixes: 160      | Probability: 0.160000\n",
      "Rolls: 10000    | Sixes: 1681     | Probability: 0.168100\n",
      "Rolls: 1000000  | Sixes: 167195   | Probability: 0.167195\n",
      "Rolls: 10000000 | Sixes: 1666414  | Probability: 0.166641\n"
     ]
    }
   ],
   "source": [
    "# b) dice rolls \n",
    "\n",
    "import random as rnd \n",
    "\n",
    "roll_counts = [10, 100, 1000, 10000, 1000000, 10000000]\n",
    "\n",
    "six_counts = []\n",
    "probabilities = []\n",
    "\n",
    "for n in roll_counts:  \n",
    "    dice_rolls = [rnd.randint(1, 6) for _ in range(n)]\n",
    "    count_six = dice_rolls.count(6)\n",
    "    probability = count_six / n\n",
    "    \n",
    "    six_counts.append(count_six)\n",
    "    probabilities.append(probability)\n",
    "\n",
    "\n",
    "print(\"Rolls:\", roll_counts)\n",
    "print(\"Six counts:\", six_counts)\n",
    "print(\"Probabilities:\", probabilities)\n",
    "\n",
    "print(\"\\nDetailed results: \")\n",
    "for n, six, prob in zip(roll_counts, six_counts, probabilities):\n",
    "    print(f\"Rolls: {n:<8} | Sixes: {six:<8} | Probability: {prob:.6f}\")"
   ]
  },
  {
   "cell_type": "code",
   "execution_count": null,
   "id": "576c8932",
   "metadata": {},
   "outputs": [],
   "source": []
  }
 ],
 "metadata": {
  "kernelspec": {
   "display_name": ".venv",
   "language": "python",
   "name": "python3"
  },
  "language_info": {
   "codemirror_mode": {
    "name": "ipython",
    "version": 3
   },
   "file_extension": ".py",
   "mimetype": "text/x-python",
   "name": "python",
   "nbconvert_exporter": "python",
   "pygments_lexer": "ipython3",
   "version": "3.12.10"
  }
 },
 "nbformat": 4,
 "nbformat_minor": 5
}
