{
 "cells": [
  {
   "cell_type": "markdown",
   "id": "afdb9a48",
   "metadata": {},
   "source": [
    "# Exercise 4"
   ]
  },
  {
   "cell_type": "markdown",
   "id": "712b6e74",
   "metadata": {},
   "source": [
    "0. counting words (*)"
   ]
  },
  {
   "cell_type": "code",
   "execution_count": 5,
   "id": "d0d7a2e9",
   "metadata": {},
   "outputs": [
    {
     "name": "stdout",
     "output_type": "stream",
     "text": [
      "Julius has 6 characters\n",
      "Uppercase letters: 1\n",
      "Lowercase letters: 5\n"
     ]
    }
   ],
   "source": [
    "name = input(\"Enter your name: \")\n",
    "\n",
    "upper_count= sum(1 for c in name if c.isupper())\n",
    "lower_count= sum(1 for c in name if c.islower())\n",
    "\n",
    "print(f\"{name} has {len(name)} characters\")\n",
    "print(f\"Uppercase letters: {upper_count}\")\n",
    "print(f\"Lowercase letters: {lower_count}\")"
   ]
  },
  {
   "cell_type": "markdown",
   "id": "e93a65b0",
   "metadata": {},
   "source": [
    "2. Palindrome (*)"
   ]
  },
  {
   "cell_type": "code",
   "execution_count": 8,
   "id": "740a7eeb",
   "metadata": {},
   "outputs": [
    {
     "data": {
      "text/plain": [
       "True"
      ]
     },
     "execution_count": 8,
     "metadata": {},
     "output_type": "execute_result"
    }
   ],
   "source": [
    "palindrome = input(\"Enter a word you think is a palindrome: \")\n",
    "\n",
    "palindrome[::-1] == palindrome"
   ]
  },
  {
   "cell_type": "markdown",
   "id": "6da5fa45",
   "metadata": {},
   "source": [
    "3. Vowels (**)"
   ]
  },
  {
   "cell_type": "code",
   "execution_count": 9,
   "id": "4db44c52",
   "metadata": {},
   "outputs": [
    {
     "name": "stdout",
     "output_type": "stream",
     "text": [
      "The sentece has 20 vowels.\n"
     ]
    }
   ],
   "source": [
    "sentence = \"Pure mathematics is, in its way, the poetry of logical ideas\"\n",
    "\n",
    "vowels = \"aeiouAEIOU\"\n",
    "vowels_counts = sum(1 for char in sentence if char in vowels)\n",
    "\n",
    "print(f\"The sentece has {vowels_counts} vowels.\")\n"
   ]
  },
  {
   "cell_type": "markdown",
   "id": "039e8edf",
   "metadata": {},
   "source": [
    "4. Encrypted"
   ]
  },
  {
   "cell_type": "code",
   "execution_count": 25,
   "id": "dcf71d6f",
   "metadata": {},
   "outputs": [
    {
     "name": "stdout",
     "output_type": "stream",
     "text": [
      "Your new letter is B\n"
     ]
    }
   ],
   "source": [
    "secret_letter = input(\"Enter a letter to be encrypted: \")\n",
    "\n",
    "new_letter = chr(ord(secret_letter) +1)\n",
    "\n",
    "print(f\"Your new letter is {new_letter}\")"
   ]
  },
  {
   "cell_type": "code",
   "execution_count": 16,
   "id": "c93ef16a",
   "metadata": {},
   "outputs": [
    {
     "name": "stdout",
     "output_type": "stream",
     "text": [
      "Your encrypted word is Kvmjvt\n"
     ]
    }
   ],
   "source": [
    "secret_word = input(\"Enter a word to be encrypted: \")\n",
    "\n",
    "encrypted_word = \"\"\n",
    "\n",
    "for letter in secret_word: \n",
    "    if letter.isalpha():\n",
    "        if letter == \"z\":\n",
    "            new_letter = \"a\"\n",
    "        elif letter ==\"Z\":\n",
    "            new_letter = \"A\"\n",
    "        else:\n",
    "            new_letter =chr(ord(letter) + 1)\n",
    "    else: \n",
    "        new_letter = letter\n",
    "    \n",
    "    encrypted_word += new_letter\n",
    "\n",
    "print(f\"Your encrypted word is {encrypted_word}\")"
   ]
  },
  {
   "cell_type": "markdown",
   "id": "4ac9f6dc",
   "metadata": {},
   "source": [
    "5. Print and fiz errors"
   ]
  },
  {
   "cell_type": "code",
   "execution_count": 33,
   "id": "3d631b1b",
   "metadata": {},
   "outputs": [
    {
     "name": "stdout",
     "output_type": "stream",
     "text": [
      "distance([0.5, 0.5])\n"
     ]
    }
   ],
   "source": [
    "import numpy as np\n",
    "\n",
    "def distance(x,y):\n",
    "    return np.sqrt(x+y)\n",
    "\n",
    "print(f\"distance([0.5, 0.5])\")\n"
   ]
  },
  {
   "cell_type": "code",
   "execution_count": 51,
   "id": "2c27ae54",
   "metadata": {},
   "outputs": [
    {
     "name": "stdout",
     "output_type": "stream",
     "text": [
      "231 is not four-digit\n",
      "3124 is four-digit\n",
      "-4124 is four-digit\n",
      "-1000 is four-digit\n",
      "-999 is not four-digit\n",
      "1001 is four-digit\n",
      "10000 is not four-digit\n",
      "-10000 is not four-digit\n",
      "999 is not four-digit\n"
     ]
    }
   ],
   "source": [
    "\n",
    "def is_fourdigit(number):\n",
    "    number = abs(number) # Takes care of the negative numbers\n",
    "    if 1000 <= number <= 9999:\n",
    "        return  True\n",
    "    else:\n",
    "        return  False\n",
    "\n",
    "# test program\n",
    "test_numbers = [231, 3124, -4124, -1000, -999, 1001, 10000, -10000, 999]\n",
    "\n",
    "for number in test_numbers:\n",
    "    if is_fourdigit(number):\n",
    "        print(f\"{number} is four-digit\")\n",
    "    else:\n",
    "        print(f\"{number} is not four-digit\")\n"
   ]
  },
  {
   "cell_type": "code",
   "execution_count": null,
   "id": "758120c4",
   "metadata": {},
   "outputs": [],
   "source": []
  }
 ],
 "metadata": {
  "kernelspec": {
   "display_name": ".venv",
   "language": "python",
   "name": "python3"
  },
  "language_info": {
   "codemirror_mode": {
    "name": "ipython",
    "version": 3
   },
   "file_extension": ".py",
   "mimetype": "text/x-python",
   "name": "python",
   "nbconvert_exporter": "python",
   "pygments_lexer": "ipython3",
   "version": "3.12.10"
  }
 },
 "nbformat": 4,
 "nbformat_minor": 5
}
