{
 "cells": [
  {
   "cell_type": "markdown",
   "id": "c64b4398",
   "metadata": {},
   "source": [
    "## for statements"
   ]
  },
  {
   "cell_type": "code",
   "execution_count": null,
   "id": "0c65b48c",
   "metadata": {},
   "outputs": [
    {
     "name": "stdout",
     "output_type": "stream",
     "text": [
      "0\n",
      "1\n",
      "2\n",
      "3\n",
      "4\n"
     ]
    }
   ],
   "source": [
    "# a simple example \n",
    "for i in range (5): # range(5) returns number from 0 till 4 (n-1)\n",
    "    print(i)"
   ]
  },
  {
   "cell_type": "code",
   "execution_count": null,
   "id": "2c610c40",
   "metadata": {},
   "outputs": [
    {
     "data": {
      "text/plain": [
       "6"
      ]
     },
     "metadata": {},
     "output_type": "display_data"
    }
   ],
   "source": [
    "import random as rnd \n",
    "\n",
    "# Generate a random dice roll outcome\n",
    "\n",
    "dice_result = rnd.randint(1, 6)\n",
    "dice_result"
   ]
  },
  {
   "cell_type": "code",
   "execution_count": null,
   "id": "c4f87d11",
   "metadata": {},
   "outputs": [
    {
     "name": "stdout",
     "output_type": "stream",
     "text": [
      "I love to eat apple\n",
      "I love to eat orange\n",
      "I love to eat grape\n"
     ]
    }
   ],
   "source": [
    "#list is a collection of items/values\n",
    "\n",
    "fruits = [\"apple\", \"orange\", \"grape\"] #if you dont have \"\" on every word it will not be 3 separate answers.\n",
    "\n",
    "for fruit in fruits: #fruits refer to a specifi list, fruit is an intermediate veriable\n",
    "    print(f\"I love to eat {fruit}\")"
   ]
  },
  {
   "cell_type": "markdown",
   "id": "e04bc118",
   "metadata": {},
   "source": [
    "### example of pyhonic code\n",
    "\n",
    "* a classic example when writing a for loop with index\n",
    "* problem solve: oop through the fruits list and also print out the index for each loop"
   ]
  },
  {
   "cell_type": "code",
   "execution_count": null,
   "id": "199aba81",
   "metadata": {},
   "outputs": [
    {
     "name": "stdout",
     "output_type": "stream",
     "text": [
      "1. apple\n",
      "2. orange\n",
      "3. grape\n"
     ]
    }
   ],
   "source": [
    "# with enumerate\n",
    "fruits = [\"apple\", \"orange\", \"grape\"]\n",
    "\n",
    "for i, fruit in enumerate(fruits,1):\n",
    "    print(f\"{i}. {fruit}\")\n"
   ]
  },
  {
   "cell_type": "markdown",
   "id": "4acdc696",
   "metadata": {},
   "source": [
    "# Un-pythonic code\n",
    "* Rewrite the code without enumenate \n",
    "* Tips: initiate index = 0"
   ]
  },
  {
   "cell_type": "code",
   "execution_count": 1,
   "id": "cf4829c8",
   "metadata": {},
   "outputs": [
    {
     "name": "stdout",
     "output_type": "stream",
     "text": [
      "My favorit fruits are: \n",
      "1. apple\n",
      "2. orange\n",
      "3. grape\n",
      "4. strawberrry\n"
     ]
    }
   ],
   "source": [
    "# whitout enumerate\n",
    "fruits = [\"apple\", \"orange\", \"grape\", \"strawberrry\"]\n",
    "\n",
    "print(\"My favorit fruits are: \")\n",
    "\n",
    "index = 1 \n",
    "for fruit in fruits:\n",
    "    print(f\"{index}. {fruit}\")\n",
    "    index += 1"
   ]
  }
 ],
 "metadata": {
  "kernelspec": {
   "display_name": ".venv",
   "language": "python",
   "name": "python3"
  },
  "language_info": {
   "codemirror_mode": {
    "name": "ipython",
    "version": 3
   },
   "file_extension": ".py",
   "mimetype": "text/x-python",
   "name": "python",
   "nbconvert_exporter": "python",
   "pygments_lexer": "ipython3",
   "version": "3.12.10"
  }
 },
 "nbformat": 4,
 "nbformat_minor": 5
}
