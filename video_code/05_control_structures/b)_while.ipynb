{
 "cells": [
  {
   "cell_type": "markdown",
   "id": "ea242536",
   "metadata": {},
   "source": [
    "## While statements"
   ]
  },
  {
   "cell_type": "code",
   "execution_count": null,
   "id": "d9978861",
   "metadata": {},
   "outputs": [
    {
     "name": "stdout",
     "output_type": "stream",
     "text": [
      "Hello 0\n",
      "Hello 1\n",
      "Hello 2\n",
      "Hello 3\n",
      "Hello 4\n"
     ]
    }
   ],
   "source": [
    "n = 0 \n",
    "while n < 5:\n",
    "    print(f\"Hello {n}\")\n",
    "    n += 1 # n = n + 1"
   ]
  },
  {
   "cell_type": "markdown",
   "id": "c20a96e0",
   "metadata": {},
   "source": [
    "### Example - oil leakage\n",
    "\n",
    "There is an oil leakage causing the bird population in an island to 1/2 in each year. From start there were 80000 birds, how many years does it take for it to have 1/10 remaining? "
   ]
  },
  {
   "cell_type": "code",
   "execution_count": null,
   "id": "397b2e6d",
   "metadata": {},
   "outputs": [
    {
     "name": "stdout",
     "output_type": "stream",
     "text": [
      "Year 0 there were 80000 birds\n",
      "Year 1 there were 40000 birds\n",
      "Year 2 there were 20000 birds\n",
      "Year 3 there were 10000 birds\n",
      "It takes 4 years for the birds to have 1/10th of the population\n"
     ]
    }
   ],
   "source": [
    "birds = 80_000\n",
    "year = 0 \n",
    "\n",
    "while birds > 8000: \n",
    "    print(f\"Year {year} there were {birds:.0f} birds\")\n",
    "    birds /= 2\n",
    "    year += 1\n",
    "\n",
    "print(f\"It takes {year} years for the birds to have 1/10th of the population\")"
   ]
  },
  {
   "cell_type": "markdown",
   "id": "1e84cb87",
   "metadata": {},
   "source": [
    "### break statement"
   ]
  },
  {
   "cell_type": "code",
   "execution_count": null,
   "id": "b402668d",
   "metadata": {},
   "outputs": [
    {
     "data": {
      "text/plain": [
       "4"
      ]
     },
     "metadata": {},
     "output_type": "display_data"
    }
   ],
   "source": [
    "import random as rnd\n",
    "\n",
    "rnd.randint(1,10)"
   ]
  },
  {
   "cell_type": "code",
   "execution_count": null,
   "id": "c777e643",
   "metadata": {},
   "outputs": [
    {
     "name": "stdout",
     "output_type": "stream",
     "text": [
      "wrong, the answer was 45\n",
      "have a nice day\n"
     ]
    }
   ],
   "source": [
    "import random as rnd\n",
    "\n",
    "while True:\n",
    "    number1 = rnd.randint(1,10)\n",
    "    number2 = rnd.randint(1,10)\n",
    "\n",
    "    user_answer = int(input(f\"What is{number1}*{number2}\"))\n",
    "\n",
    "    if user_answer ==number1*number2:\n",
    "        print(\"correct\")\n",
    "    else: \n",
    "        print(f\"wrong, the answer was {number1*number2}\")\n",
    "\n",
    "    play_again = input(\"Wanna play again (y or yes)?\")\n",
    "\n",
    "    if play_again != \"y\":\n",
    "        print(\"have a nice day\")\n",
    "        break\n",
    "    "
   ]
  }
 ],
 "metadata": {
  "kernelspec": {
   "display_name": ".venv",
   "language": "python",
   "name": "python3"
  },
  "language_info": {
   "name": "python",
   "version": "3.12.10"
  }
 },
 "nbformat": 4,
 "nbformat_minor": 5
}
