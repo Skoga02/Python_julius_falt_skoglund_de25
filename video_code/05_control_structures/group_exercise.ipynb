{
 "cells": [
  {
   "cell_type": "markdown",
   "id": "7171a13b",
   "metadata": {},
   "source": [
    "#### Group exercise \n",
    "\n",
    "Decide discounts for a customer \n",
    "\n",
    "- set a base price to be 10kr per apple \n",
    "- Ask for user to input wheter student or pensioner\n",
    "- Ask for user to input the quantity of apple they buy\n",
    "- Use if-statement to decide the final price with this discount:\n",
    "    30 % off for student \n",
    "    50 % off for pensioner \n",
    "- Print out a text with f-string, telling the user what the final price is. "
   ]
  },
  {
   "cell_type": "code",
   "execution_count": null,
   "id": "5e371da9",
   "metadata": {},
   "outputs": [
    {
     "name": "stdout",
     "output_type": "stream",
     "text": [
      "The final price for 100 apples is 700.0kr.\n"
     ]
    }
   ],
   "source": [
    "apple = 10\n",
    "\n",
    "customer = input(\"Are you student or pensioner or neither?\")\n",
    "\n",
    "quantity = int(input(\"How manny apples do you want?\"))\n",
    "\n",
    "total_price = apple * quantity\n",
    "\n",
    "if customer == \"student\":\n",
    "    final_price = total_price * 0.70\n",
    "elif customer == \"pensioner\":\n",
    "    final_price = total_price * 0.50\n",
    "else:\n",
    "    final_price = total_price\n",
    "\n",
    "print(f\"The final price for {quantity} apples is {final_price}kr.\")\n"
   ]
  }
 ],
 "metadata": {
  "kernelspec": {
   "display_name": ".venv",
   "language": "python",
   "name": "python3"
  },
  "language_info": {
   "name": "python",
   "version": "3.12.10"
  }
 },
 "nbformat": 4,
 "nbformat_minor": 5
}
