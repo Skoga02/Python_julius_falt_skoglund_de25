{
 "cells": [
  {
   "cell_type": "markdown",
   "id": "0c358897",
   "metadata": {},
   "source": [
    "## If-statments"
   ]
  },
  {
   "cell_type": "code",
   "execution_count": null,
   "id": "98cbe746",
   "metadata": {},
   "outputs": [
    {
     "name": "stdout",
     "output_type": "stream",
     "text": [
      "Sorry you are to young to attend this scary movie.\n",
      "watch cartoons instead\n"
     ]
    }
   ],
   "source": [
    "age = int(input(\"Enter your age: \"))\n",
    "age_limit = 15\n",
    "\n",
    "if age < age_limit:\n",
    "    print(\"Sorry you are to young to attend this scary movie.\")\n",
    "    print(\"watch cartoons instead\")\n",
    "\n",
    "else:\n",
    "    print(\"Enjoy this movie\")\n"
   ]
  },
  {
   "cell_type": "code",
   "execution_count": null,
   "id": "58232029",
   "metadata": {},
   "outputs": [
    {
     "name": "stdout",
     "output_type": "stream",
     "text": [
      "Welcome to roller coaster\n"
     ]
    }
   ],
   "source": [
    "age = 15 \n",
    "height = 150 \n",
    "\n",
    "if age > 11 and 130 < height < 210: \n",
    "    print(\"Welcome to roller coaster\")\n",
    "else: \n",
    "    print(\"Come back when you fulfill requirements\")"
   ]
  },
  {
   "cell_type": "code",
   "execution_count": null,
   "id": "2b8e9250",
   "metadata": {},
   "outputs": [
    {
     "name": "stdout",
     "output_type": "stream",
     "text": [
      "Welcome to roller coaster\n"
     ]
    }
   ],
   "source": [
    "age = 15 \n",
    "height = 130 \n",
    "\n",
    "if age > 11 and 130 <= height < 210: \n",
    "    print(\"Welcome to roller coaster\")\n",
    "else: \n",
    "    print(\"Come back when you fulfill requirements\")"
   ]
  },
  {
   "cell_type": "markdown",
   "id": "bad08546",
   "metadata": {},
   "source": [
    "### moduluo operator"
   ]
  },
  {
   "cell_type": "code",
   "execution_count": null,
   "id": "381576fa",
   "metadata": {},
   "outputs": [
    {
     "name": "stdout",
     "output_type": "stream",
     "text": [
      "Odd number\n"
     ]
    }
   ],
   "source": [
    "# 5%2 = 1, 4%2 = 0. You are left with the remainder of a division. \n",
    "number = 5 \n",
    "if number % 2 == 0: \n",
    "    print(\"Even number\")\n",
    "else: \n",
    "    print(\"Odd number\") \n"
   ]
  },
  {
   "cell_type": "code",
   "execution_count": null,
   "id": "033fd584",
   "metadata": {},
   "outputs": [
    {
     "name": "stdout",
     "output_type": "stream",
     "text": [
      "It is an odd number and the value assigned to this is 5\n"
     ]
    }
   ],
   "source": [
    "# 5%2 = 1, 4%2 = 0. You are left with the remainder of a division. \n",
    "number = 5 \n",
    "if number % 2 == 0: \n",
    "    print(f\"It is an even number and the value assigned to this is {number}\")\n",
    "else: \n",
    "    print(f\"It is an odd number and the value assigned to this is {number}\") \n",
    "\n",
    "# Use f-string to be able to answer the inupt with a full comment\n"
   ]
  },
  {
   "cell_type": "code",
   "execution_count": null,
   "id": "c9a6b8d9",
   "metadata": {},
   "outputs": [
    {
     "name": "stdout",
     "output_type": "stream",
     "text": [
      "Odd\n"
     ]
    }
   ],
   "source": [
    "# Easier way to type it\n",
    "number = 5\n",
    "if number % 2:\n",
    "    print(\"Odd\")\n",
    "else:\n",
    "    print(\"Even\")\n",
    "    "
   ]
  },
  {
   "cell_type": "code",
   "execution_count": null,
   "id": "bb1fa1ea",
   "metadata": {},
   "outputs": [
    {
     "name": "stdout",
     "output_type": "stream",
     "text": [
      "falsy\n"
     ]
    }
   ],
   "source": [
    "if []:\n",
    "    print(\"truthy\")\n",
    "else:\n",
    "    print(\"falsy\")\n"
   ]
  },
  {
   "cell_type": "code",
   "execution_count": null,
   "id": "a2ef1103",
   "metadata": {},
   "outputs": [
    {
     "name": "stdout",
     "output_type": "stream",
     "text": [
      "truthy\n"
     ]
    }
   ],
   "source": [
    "if [3]:\n",
    "    print(\"truthy\")\n",
    "else:\n",
    "    print(\"falsy\")\n"
   ]
  },
  {
   "cell_type": "code",
   "execution_count": null,
   "id": "f09a0f44",
   "metadata": {},
   "outputs": [
    {
     "name": "stdout",
     "output_type": "stream",
     "text": [
      "falsy\n"
     ]
    }
   ],
   "source": [
    "if 0:\n",
    "    print(\"truthy\")\n",
    "else:\n",
    "    print(\"falsy\")\n"
   ]
  },
  {
   "cell_type": "markdown",
   "id": "79d63ec9",
   "metadata": {},
   "source": [
    "### if-elif-else"
   ]
  },
  {
   "cell_type": "code",
   "execution_count": null,
   "id": "4fe25b80",
   "metadata": {},
   "outputs": [
    {
     "name": "stdout",
     "output_type": "stream",
     "text": [
      "Give patient 500mg\n"
     ]
    }
   ],
   "source": [
    "# Elif is used when there are more then one scenario.\n",
    "weight = 12 \n",
    "\n",
    "if weight < 20:\n",
    "    print(\"Give patient 500mg\")\n",
    "elif weight < 40:\n",
    "    print(\"Give patient 750 mg\")\n",
    "else:\n",
    "    print(\"Give patient 1000mg\")\n",
    "    "
   ]
  },
  {
   "cell_type": "markdown",
   "id": "c5a085c7",
   "metadata": {},
   "source": [
    "### nested if statements"
   ]
  },
  {
   "cell_type": "code",
   "execution_count": null,
   "id": "450b310a",
   "metadata": {},
   "outputs": [
    {
     "name": "stdout",
     "output_type": "stream",
     "text": [
      "25 is divisible by 5\n",
      "25 is odd\n"
     ]
    }
   ],
   "source": [
    "number = 25\n",
    "if number % 5 == 0: \n",
    "    print(f\"{number} is divisible by 5\") \n",
    "    if number % 2 == 0: \n",
    "        print(f\"{number} is even\")\n",
    "    else:\n",
    "        print(f\"{number} is odd\")"
   ]
  },
  {
   "cell_type": "code",
   "execution_count": null,
   "id": "c5fc7f3b",
   "metadata": {},
   "outputs": [
    {
     "name": "stdout",
     "output_type": "stream",
     "text": [
      "This is divisable by 5. Check also if it is divisable by 2.\n",
      "This is an even number.\n"
     ]
    }
   ],
   "source": [
    "# if a number. is divisable by 5, further check if it is also divisable by 2 (even number)\n",
    "\n",
    "number = 100\n",
    "\n",
    "if number % 5 == 0:\n",
    "    print(\"This is divisable by 5. Check also if it is divisable by 2.\")\n",
    "    if number % 2 == 0:\n",
    "        print(\"This is an even number.\")\n",
    "    else: \n",
    "        print(\"This is an odd. number.\")\n",
    "\n",
    "else: \n",
    "    print(\"This number is not divisable by 5, no need for further checking.\")"
   ]
  },
  {
   "cell_type": "markdown",
   "id": "836b409a",
   "metadata": {},
   "source": [
    "### one line if-statement"
   ]
  },
  {
   "cell_type": "code",
   "execution_count": null,
   "id": "c37e964e",
   "metadata": {},
   "outputs": [
    {
     "name": "stdout",
     "output_type": "stream",
     "text": [
      "Olivia contains the letter 'o'\n"
     ]
    }
   ],
   "source": [
    "#You only use obeline when refractoring your original if statement with multiple lines of code.\n",
    "#You need to think about if a one line if statement can make your code better, is it cleaner \n",
    "#and more relatable\n",
    "name = \"Olivia\"\n",
    "gender = \"female\"\n",
    "age = 7 \n",
    "\n",
    "# one line if\n",
    "if \"o\" in name.lower() : print(f\"{name} contains the letter 'o'\") "
   ]
  },
  {
   "cell_type": "code",
   "execution_count": null,
   "id": "28158ca8",
   "metadata": {},
   "outputs": [
    {
     "name": "stdout",
     "output_type": "stream",
     "text": [
      "Olivia contains the letter 'o'\n"
     ]
    }
   ],
   "source": [
    "name = \"Olivia\"\n",
    "gender = \"female\"\n",
    "age = 7 \n",
    "\n",
    "# This is what it should look like\n",
    "if \"o\" in name.lower() : \n",
    "    print(f\"{name} contains the letter 'o'\") "
   ]
  },
  {
   "cell_type": "code",
   "execution_count": null,
   "id": "3f61ba4b",
   "metadata": {},
   "outputs": [
    {
     "name": "stdout",
     "output_type": "stream",
     "text": [
      "Hi ms Olivia\n"
     ]
    }
   ],
   "source": [
    "print(f\"Hi mr{name}\") if gender == \"male\" else print(f\"Hi ms {name}\")"
   ]
  },
  {
   "cell_type": "code",
   "execution_count": null,
   "id": "8a64aba5",
   "metadata": {},
   "outputs": [
    {
     "data": {
      "text/plain": [
       "True"
      ]
     },
     "metadata": {},
     "output_type": "display_data"
    }
   ],
   "source": [
    "age = 5\n",
    "# One line if-else varible assignment \n",
    "is_child = True if age < 18 else False\n",
    "is_child"
   ]
  },
  {
   "cell_type": "markdown",
   "id": "1a95893d",
   "metadata": {},
   "source": [
    "#### Group exercise \n",
    "\n",
    "Decide discounts for a customer \n",
    "\n",
    "- set a base price to be 10kr per apple \n",
    "- Ask for user to input wheter student or pensioner\n",
    "- Ask for user to input the quantity of apple they buy\n",
    "- Use if-statement to decide the final price with this discount:\n",
    "    30 % off for student \n",
    "    50 % off for pensioner \n",
    "- Print out a text with f-string, telling the user what the final price is. "
   ]
  },
  {
   "cell_type": "code",
   "execution_count": null,
   "id": "5c2589cc",
   "metadata": {},
   "outputs": [
    {
     "name": "stdout",
     "output_type": "stream",
     "text": [
      "The final price for 100 apples is 700.0kr.\n"
     ]
    }
   ],
   "source": [
    "apple = 10\n",
    "\n",
    "customer = input(\"Are you student or pensioner or neither?\")\n",
    "\n",
    "quantity = int(input(\"How manny apples do you want?\"))\n",
    "\n",
    "total_price = apple * quantity\n",
    "\n",
    "if customer == \"student\":\n",
    "    final_price = total_price * 0.70\n",
    "elif customer == \"pensioner\":\n",
    "    final_price = total_price * 0.50\n",
    "else:\n",
    "    final_price = total_price\n",
    "\n",
    "print(f\"The final price for {quantity} apples is {final_price}kr.\")\n"
   ]
  }
 ],
 "metadata": {
  "kernelspec": {
   "display_name": ".venv",
   "language": "python",
   "name": "python3"
  },
  "language_info": {
   "name": "python",
   "version": "3.12.10"
  }
 },
 "nbformat": 4,
 "nbformat_minor": 5
}
