{
 "cells": [
  {
   "cell_type": "markdown",
   "id": "16848e6a",
   "metadata": {},
   "source": [
    "# file handling"
   ]
  },
  {
   "cell_type": "code",
   "execution_count": 29,
   "id": "50f38a6a",
   "metadata": {},
   "outputs": [
    {
     "name": "stdout",
     "output_type": "stream",
     "text": [
      "  If     we     knew what it was      we were doing, it would not be called research,          would it?     - Albert Einstein\n",
      "\n",
      "Time is a drug. Too       much of it kills you.  -  Terry Pratchett\n",
      "\n",
      "\n",
      " An expert is a person who       has made all the mistakes that           can be made in a          very narrow field - Niels Bohr\n",
      "\n",
      "   Everything must be made as simple as possible. But not simpler. - Albert Einstein     \n",
      "\n",
      "\n",
      "  Nothing in life                is to be feared, it is only to be understood. Now is the time to understand more, so that we may fear less. - Marie  Curie  \n",
      "\n",
      "If I have seen further     it is by standing on the shoulders of Giants. - Isaac Newton\n"
     ]
    }
   ],
   "source": [
    "path = \"../data/quotes.txt\"\n",
    "\n",
    "with open(path, \"r\") as file:\n",
    "    text = file.read()\n",
    "\n",
    "print(text)\n"
   ]
  },
  {
   "cell_type": "code",
   "execution_count": 31,
   "id": "10dd07bc",
   "metadata": {},
   "outputs": [
    {
     "data": {
      "text/plain": [
       "'  If     we     knew what it was      we were doing, it would not be called research,          would it?     - Albert Einstein\\n\\nTime is a drug. Too       much of it kills you.  -  Terry Pratchett\\n\\n\\n An expert is a person who       has made all the mistakes that           can be made in a          very narrow field - Niels Bohr\\n\\n   Everything must be made as simple as possible. But not simpler. - Albert Einstein     \\n\\n\\n  Nothing in life                is to be feared, it is only to be understood. Now is the time to understand more, so that we may fear less. - Marie  Curie  \\n\\nIf I have seen further     it is by standing on the shoulders of Giants. - Isaac Newton'"
      ]
     },
     "execution_count": 31,
     "metadata": {},
     "output_type": "execute_result"
    }
   ],
   "source": [
    "text"
   ]
  },
  {
   "cell_type": "markdown",
   "id": "88a21bfe",
   "metadata": {},
   "source": [
    "### cleanup\n",
    "- inspect txt-file\n",
    "- remove leading and trailing whitespaces\n",
    "- remove excessive whitespaces\n",
    "- add quote numbers"
   ]
  },
  {
   "cell_type": "code",
   "execution_count": 46,
   "id": "5ec5a798",
   "metadata": {},
   "outputs": [
    {
     "name": "stdout",
     "output_type": "stream",
     "text": [
      "If we knew what it was we were doing, it would not be called research, would it? - Albert Einstein\n",
      "\n",
      "Time is a drug. Too much of it kills you. - Terry Pratchett\n",
      "\n",
      "\n",
      "An expert is a person who has made all the mistakes that can be made in a very narrow field - Niels Bohr\n",
      "\n",
      "Everything must be made as simple as possible. But not simpler. - Albert Einstein\n",
      "\n",
      "\n",
      "Nothing in life is to be feared, it is only to be understood. Now is the time to understand more, so that we may fear less. - Marie Curie\n",
      "\n",
      "If I have seen further it is by standing on the shoulders of Giants. - Isaac Newton\n"
     ]
    }
   ],
   "source": [
    "import re\n",
    "\n",
    "data_path = \"../data\"\n",
    "path = f\"{data_path}/quotes.txt\"\n",
    "\n",
    "\n",
    "i = 1\n",
    "with open(path, \"r\") as f_read, open(f\"{data_path}/quotes_cleaned.txt\", \"w\") as f_write:\n",
    "\n",
    "    f_write.write(\"Famous quotes\\n\\n\")\n",
    "\n",
    "    for quote in f_read:\n",
    "        quote = quote.strip(\" \\n\")\n",
    "        quote = re.sub(\" +\", \" \", quote)\n",
    "        print(quote)\n",
    "\n",
    "        if quote != \"\":\n",
    "            f_write.write(f\"{i}. {quote}\\n\")\n",
    "            i += 1"
   ]
  },
  {
   "cell_type": "code",
   "execution_count": null,
   "id": "ae4b10a0",
   "metadata": {},
   "outputs": [],
   "source": []
  }
 ],
 "metadata": {
  "kernelspec": {
   "display_name": ".venv",
   "language": "python",
   "name": "python3"
  },
  "language_info": {
   "codemirror_mode": {
    "name": "ipython",
    "version": 3
   },
   "file_extension": ".py",
   "mimetype": "text/x-python",
   "name": "python",
   "nbconvert_exporter": "python",
   "pygments_lexer": "ipython3",
   "version": "3.12.10"
  }
 },
 "nbformat": 4,
 "nbformat_minor": 5
}
