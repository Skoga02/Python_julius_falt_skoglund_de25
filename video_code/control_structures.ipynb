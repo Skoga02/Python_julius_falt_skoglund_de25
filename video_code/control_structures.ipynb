{
 "cells": [
  {
   "cell_type": "markdown",
   "id": "81f4769a",
   "metadata": {},
   "source": [
    "# Control structures"
   ]
  },
  {
   "cell_type": "markdown",
   "id": "a2d4858f",
   "metadata": {},
   "source": [
    "## If-statments"
   ]
  },
  {
   "cell_type": "code",
   "execution_count": 3,
   "id": "8545c4ec",
   "metadata": {},
   "outputs": [
    {
     "name": "stdout",
     "output_type": "stream",
     "text": [
      "Sorry you are to young to attend this scary movie.\n",
      "watch cartoons instead\n"
     ]
    }
   ],
   "source": [
    "age = int(input(\"Enter your age: \"))\n",
    "age_limit = 15\n",
    "\n",
    "if age < age_limit:\n",
    "    print(\"Sorry you are to young to attend this scary movie.\")\n",
    "    print(\"watch cartoons instead\")\n",
    "\n",
    "else:\n",
    "    print(\"Enjoy this movie\")\n"
   ]
  },
  {
   "cell_type": "code",
   "execution_count": 5,
   "id": "f35e568a",
   "metadata": {},
   "outputs": [
    {
     "name": "stdout",
     "output_type": "stream",
     "text": [
      "Welcome to roller coaster\n"
     ]
    }
   ],
   "source": [
    "age = 15 \n",
    "height = 150 \n",
    "\n",
    "if age > 11 and 130 < height < 210: \n",
    "    print(\"Welcome to roller coaster\")\n",
    "else: \n",
    "    print(\"Come back when you fulfill requirements\")"
   ]
  },
  {
   "cell_type": "code",
   "execution_count": 6,
   "id": "3a5a48d0",
   "metadata": {},
   "outputs": [
    {
     "name": "stdout",
     "output_type": "stream",
     "text": [
      "Welcome to roller coaster\n"
     ]
    }
   ],
   "source": [
    "age = 15 \n",
    "height = 130 \n",
    "\n",
    "if age > 11 and 130 <= height < 210: \n",
    "    print(\"Welcome to roller coaster\")\n",
    "else: \n",
    "    print(\"Come back when you fulfill requirements\")"
   ]
  },
  {
   "cell_type": "markdown",
   "id": "5a9722bd",
   "metadata": {},
   "source": [
    "### moduluo operator"
   ]
  },
  {
   "cell_type": "code",
   "execution_count": 7,
   "id": "76359baf",
   "metadata": {},
   "outputs": [
    {
     "name": "stdout",
     "output_type": "stream",
     "text": [
      "Odd number\n"
     ]
    }
   ],
   "source": [
    "# 5%2 = 1, 4%2 = 0. You are left with the remainder. \n",
    "number = 5 \n",
    "if number % 2 == 0: \n",
    "    print(\"Even number\")\n",
    "else: \n",
    "    print(\"Odd number\") \n"
   ]
  },
  {
   "cell_type": "code",
   "execution_count": 8,
   "id": "3a1e6103",
   "metadata": {},
   "outputs": [
    {
     "name": "stdout",
     "output_type": "stream",
     "text": [
      "Odd\n"
     ]
    }
   ],
   "source": [
    "# Easier way to type it\n",
    "number = 5\n",
    "if number % 2:\n",
    "    print(\"Odd\")\n",
    "else:\n",
    "    print(\"Even\")\n",
    "    "
   ]
  },
  {
   "cell_type": "code",
   "execution_count": null,
   "id": "ce1ba5dd",
   "metadata": {},
   "outputs": [
    {
     "name": "stdout",
     "output_type": "stream",
     "text": [
      "falsy\n"
     ]
    }
   ],
   "source": [
    "if []:\n",
    "    print(\"truthy\")\n",
    "else:\n",
    "    print(\"falsy\")\n"
   ]
  },
  {
   "cell_type": "code",
   "execution_count": 14,
   "id": "fe66aa53",
   "metadata": {},
   "outputs": [
    {
     "name": "stdout",
     "output_type": "stream",
     "text": [
      "truthy\n"
     ]
    }
   ],
   "source": [
    "if [3]:\n",
    "    print(\"truthy\")\n",
    "else:\n",
    "    print(\"falsy\")\n"
   ]
  },
  {
   "cell_type": "code",
   "execution_count": 15,
   "id": "d84b2934",
   "metadata": {},
   "outputs": [
    {
     "name": "stdout",
     "output_type": "stream",
     "text": [
      "falsy\n"
     ]
    }
   ],
   "source": [
    "if 0:\n",
    "    print(\"truthy\")\n",
    "else:\n",
    "    print(\"falsy\")\n"
   ]
  },
  {
   "cell_type": "markdown",
   "id": "dd6f311c",
   "metadata": {},
   "source": [
    "## if-elif-else"
   ]
  },
  {
   "cell_type": "code",
   "execution_count": 16,
   "id": "b9e5098f",
   "metadata": {},
   "outputs": [
    {
     "name": "stdout",
     "output_type": "stream",
     "text": [
      "Give patient 500mg\n"
     ]
    }
   ],
   "source": [
    "weight = 12 \n",
    "\n",
    "if weight < 20:\n",
    "    print(\"Give patient 500mg\")\n",
    "elif weight < 40:\n",
    "    print(\"Give patient 750 mg\")\n",
    "else:\n",
    "    print(\"Give patient 1000mg\")\n",
    "    "
   ]
  },
  {
   "cell_type": "markdown",
   "id": "3662feef",
   "metadata": {},
   "source": [
    "## nested if statements"
   ]
  },
  {
   "cell_type": "code",
   "execution_count": 22,
   "id": "f5203696",
   "metadata": {},
   "outputs": [
    {
     "name": "stdout",
     "output_type": "stream",
     "text": [
      "25 is divisible by 5\n",
      "25 is odd\n"
     ]
    }
   ],
   "source": [
    "number = 25\n",
    "if number % 5 == 0: \n",
    "    print(f\"{number} is divisible by 5\") \n",
    "    if number % 2 == 0: \n",
    "        print(f\"{number} is even\")\n",
    "    else:\n",
    "        print(f\"{number} is odd\")"
   ]
  },
  {
   "cell_type": "markdown",
   "id": "cbf0e126",
   "metadata": {},
   "source": [
    "## one line if-statement"
   ]
  },
  {
   "cell_type": "code",
   "execution_count": null,
   "id": "ca78095e",
   "metadata": {},
   "outputs": [
    {
     "ename": "SyntaxError",
     "evalue": "f-string: expecting '=', or '!', or ':', or '}' (1925269603.py, line 6)",
     "output_type": "error",
     "traceback": [
      "  \u001b[36mCell\u001b[39m\u001b[36m \u001b[39m\u001b[32mIn[26]\u001b[39m\u001b[32m, line 6\u001b[39m\n\u001b[31m    \u001b[39m\u001b[31mif \"o\" in name.lower() : print(f\"{name.} contains the letter 'o'\")\u001b[39m\n                                          ^\n\u001b[31mSyntaxError\u001b[39m\u001b[31m:\u001b[39m f-string: expecting '=', or '!', or ':', or '}'\n"
     ]
    }
   ],
   "source": [
    "name = \"Olivia\"\n",
    "gender = \"female\"\n",
    "age = 7 \n",
    "\n",
    "# one line if\n",
    "if \"o\" in name.lower() : print(f\"{name.} contains the letter o\") "
   ]
  },
  {
   "cell_type": "code",
   "execution_count": null,
   "id": "6642e6f3",
   "metadata": {},
   "outputs": [],
   "source": []
  }
 ],
 "metadata": {
  "kernelspec": {
   "display_name": ".venv",
   "language": "python",
   "name": "python3"
  },
  "language_info": {
   "codemirror_mode": {
    "name": "ipython",
    "version": 3
   },
   "file_extension": ".py",
   "mimetype": "text/x-python",
   "name": "python",
   "nbconvert_exporter": "python",
   "pygments_lexer": "ipython3",
   "version": "3.12.10"
  }
 },
 "nbformat": 4,
 "nbformat_minor": 5
}
