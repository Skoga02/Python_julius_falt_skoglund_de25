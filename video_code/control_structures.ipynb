{
 "cells": [
  {
   "cell_type": "markdown",
   "id": "81f4769a",
   "metadata": {},
   "source": [
    "# Control structures"
   ]
  },
  {
   "cell_type": "markdown",
   "id": "a2d4858f",
   "metadata": {},
   "source": [
    "## If-statments"
   ]
  },
  {
   "cell_type": "code",
   "execution_count": 3,
   "id": "8545c4ec",
   "metadata": {},
   "outputs": [
    {
     "name": "stdout",
     "output_type": "stream",
     "text": [
      "Sorry you are to young to attend this scary movie.\n",
      "watch cartoons instead\n"
     ]
    }
   ],
   "source": [
    "age = int(input(\"Enter your age: \"))\n",
    "age_limit = 15\n",
    "\n",
    "if age < age_limit:\n",
    "    print(\"Sorry you are to young to attend this scary movie.\")\n",
    "    print(\"watch cartoons instead\")\n",
    "\n",
    "else:\n",
    "    print(\"Enjoy this movie\")\n"
   ]
  },
  {
   "cell_type": "code",
   "execution_count": 5,
   "id": "f35e568a",
   "metadata": {},
   "outputs": [
    {
     "name": "stdout",
     "output_type": "stream",
     "text": [
      "Welcome to roller coaster\n"
     ]
    }
   ],
   "source": [
    "age = 15 \n",
    "height = 150 \n",
    "\n",
    "if age > 11 and 130 < height < 210: \n",
    "    print(\"Welcome to roller coaster\")\n",
    "else: \n",
    "    print(\"Come back when you fulfill requirements\")"
   ]
  },
  {
   "cell_type": "code",
   "execution_count": 6,
   "id": "3a5a48d0",
   "metadata": {},
   "outputs": [
    {
     "name": "stdout",
     "output_type": "stream",
     "text": [
      "Welcome to roller coaster\n"
     ]
    }
   ],
   "source": [
    "age = 15 \n",
    "height = 130 \n",
    "\n",
    "if age > 11 and 130 <= height < 210: \n",
    "    print(\"Welcome to roller coaster\")\n",
    "else: \n",
    "    print(\"Come back when you fulfill requirements\")"
   ]
  },
  {
   "cell_type": "markdown",
   "id": "5a9722bd",
   "metadata": {},
   "source": [
    "### moduluo operator"
   ]
  },
  {
   "cell_type": "code",
   "execution_count": 7,
   "id": "76359baf",
   "metadata": {},
   "outputs": [
    {
     "name": "stdout",
     "output_type": "stream",
     "text": [
      "Odd number\n"
     ]
    }
   ],
   "source": [
    "# 5%2 = 1, 4%2 = 0. You are left with the remainder. \n",
    "number = 5 \n",
    "if number % 2 == 0: \n",
    "    print(\"Even number\")\n",
    "else: \n",
    "    print(\"Odd number\") \n"
   ]
  },
  {
   "cell_type": "code",
   "execution_count": 8,
   "id": "3a1e6103",
   "metadata": {},
   "outputs": [
    {
     "name": "stdout",
     "output_type": "stream",
     "text": [
      "Odd\n"
     ]
    }
   ],
   "source": [
    "# Easier way to type it\n",
    "number = 5\n",
    "if number % 2:\n",
    "    print(\"Odd\")\n",
    "else:\n",
    "    print(\"Even\")\n",
    "    "
   ]
  },
  {
   "cell_type": "code",
   "execution_count": null,
   "id": "ce1ba5dd",
   "metadata": {},
   "outputs": [
    {
     "name": "stdout",
     "output_type": "stream",
     "text": [
      "falsy\n"
     ]
    }
   ],
   "source": [
    "if []:\n",
    "    print(\"truthy\")\n",
    "else:\n",
    "    print(\"falsy\")\n"
   ]
  },
  {
   "cell_type": "code",
   "execution_count": 14,
   "id": "fe66aa53",
   "metadata": {},
   "outputs": [
    {
     "name": "stdout",
     "output_type": "stream",
     "text": [
      "truthy\n"
     ]
    }
   ],
   "source": [
    "if [3]:\n",
    "    print(\"truthy\")\n",
    "else:\n",
    "    print(\"falsy\")\n"
   ]
  },
  {
   "cell_type": "code",
   "execution_count": 15,
   "id": "d84b2934",
   "metadata": {},
   "outputs": [
    {
     "name": "stdout",
     "output_type": "stream",
     "text": [
      "falsy\n"
     ]
    }
   ],
   "source": [
    "if 0:\n",
    "    print(\"truthy\")\n",
    "else:\n",
    "    print(\"falsy\")\n"
   ]
  },
  {
   "cell_type": "markdown",
   "id": "dd6f311c",
   "metadata": {},
   "source": [
    "### if-elif-else"
   ]
  },
  {
   "cell_type": "code",
   "execution_count": 16,
   "id": "b9e5098f",
   "metadata": {},
   "outputs": [
    {
     "name": "stdout",
     "output_type": "stream",
     "text": [
      "Give patient 500mg\n"
     ]
    }
   ],
   "source": [
    "weight = 12 \n",
    "\n",
    "if weight < 20:\n",
    "    print(\"Give patient 500mg\")\n",
    "elif weight < 40:\n",
    "    print(\"Give patient 750 mg\")\n",
    "else:\n",
    "    print(\"Give patient 1000mg\")\n",
    "    "
   ]
  },
  {
   "cell_type": "markdown",
   "id": "3662feef",
   "metadata": {},
   "source": [
    "### nested if statements"
   ]
  },
  {
   "cell_type": "code",
   "execution_count": 22,
   "id": "f5203696",
   "metadata": {},
   "outputs": [
    {
     "name": "stdout",
     "output_type": "stream",
     "text": [
      "25 is divisible by 5\n",
      "25 is odd\n"
     ]
    }
   ],
   "source": [
    "number = 25\n",
    "if number % 5 == 0: \n",
    "    print(f\"{number} is divisible by 5\") \n",
    "    if number % 2 == 0: \n",
    "        print(f\"{number} is even\")\n",
    "    else:\n",
    "        print(f\"{number} is odd\")"
   ]
  },
  {
   "cell_type": "markdown",
   "id": "cbf0e126",
   "metadata": {},
   "source": [
    "### one line if-statement"
   ]
  },
  {
   "cell_type": "code",
   "execution_count": 28,
   "id": "ca78095e",
   "metadata": {},
   "outputs": [
    {
     "name": "stdout",
     "output_type": "stream",
     "text": [
      "Olivia contains the letter 'o'\n"
     ]
    }
   ],
   "source": [
    "name = \"Olivia\"\n",
    "gender = \"female\"\n",
    "age = 7 \n",
    "\n",
    "# one line if\n",
    "if \"o\" in name.lower() : print(f\"{name} contains the letter 'o'\") "
   ]
  },
  {
   "cell_type": "code",
   "execution_count": null,
   "id": "6642e6f3",
   "metadata": {},
   "outputs": [
    {
     "name": "stdout",
     "output_type": "stream",
     "text": [
      "Olivia contains the letter 'o'\n"
     ]
    }
   ],
   "source": [
    "name = \"Olivia\"\n",
    "gender = \"female\"\n",
    "age = 7 \n",
    "\n",
    "# This is what it should look like\n",
    "if \"o\" in name.lower() : \n",
    "    print(f\"{name} contains the letter 'o'\") "
   ]
  },
  {
   "cell_type": "code",
   "execution_count": 32,
   "id": "d70a8e40",
   "metadata": {},
   "outputs": [
    {
     "name": "stdout",
     "output_type": "stream",
     "text": [
      "Hi ms Olivia\n"
     ]
    }
   ],
   "source": [
    "print(f\"Hi mr{name}\") if gender == \"male\" else print(f\"Hi ms {name}\")"
   ]
  },
  {
   "cell_type": "code",
   "execution_count": 34,
   "id": "f3cb4de9",
   "metadata": {},
   "outputs": [
    {
     "data": {
      "text/plain": [
       "True"
      ]
     },
     "execution_count": 34,
     "metadata": {},
     "output_type": "execute_result"
    }
   ],
   "source": [
    "age = 5\n",
    "# One line if-else varible assignment \n",
    "is_child = True if age < 18 else False\n",
    "is_child"
   ]
  },
  {
   "cell_type": "markdown",
   "id": "d7346f98",
   "metadata": {},
   "source": [
    "## While statements"
   ]
  },
  {
   "cell_type": "code",
   "execution_count": 39,
   "id": "4fa0ab15",
   "metadata": {},
   "outputs": [
    {
     "name": "stdout",
     "output_type": "stream",
     "text": [
      "Hello 0\n",
      "Hello 1\n",
      "Hello 2\n",
      "Hello 3\n",
      "Hello 4\n"
     ]
    }
   ],
   "source": [
    "n = 0 \n",
    "while n < 5:\n",
    "    print(f\"Hello {n}\")\n",
    "    n += 1 # n = n + 1"
   ]
  },
  {
   "cell_type": "markdown",
   "id": "b6b97019",
   "metadata": {},
   "source": [
    "### Example - oil leakage\n",
    "\n",
    "There is an oil leakage causing the bird population in an island to 1/2 in each year. From start there were 80000 birds, how many years does it take for it to have 1/10 remaining? "
   ]
  },
  {
   "cell_type": "code",
   "execution_count": 43,
   "id": "25b27c13",
   "metadata": {},
   "outputs": [
    {
     "name": "stdout",
     "output_type": "stream",
     "text": [
      "Year 0 there were 80000 birds\n",
      "Year 1 there were 40000 birds\n",
      "Year 2 there were 20000 birds\n",
      "Year 3 there were 10000 birds\n",
      "It takes 4 years for the birds to have 1/10th of the population\n"
     ]
    }
   ],
   "source": [
    "birds = 80_000\n",
    "year = 0 \n",
    "\n",
    "while birds > 8000: \n",
    "    print(f\"Year {year} there were {birds:.0f} birds\")\n",
    "    birds /= 2\n",
    "    year += 1\n",
    "\n",
    "print(f\"It takes {year} years for the birds to have 1/10th of the population\")"
   ]
  },
  {
   "cell_type": "markdown",
   "id": "3fb63c8d",
   "metadata": {},
   "source": [
    "### break statement"
   ]
  },
  {
   "cell_type": "code",
   "execution_count": 47,
   "id": "ae74953a",
   "metadata": {},
   "outputs": [
    {
     "data": {
      "text/plain": [
       "4"
      ]
     },
     "execution_count": 47,
     "metadata": {},
     "output_type": "execute_result"
    }
   ],
   "source": [
    "import random as rnd\n",
    "\n",
    "rnd.randint(1,10)"
   ]
  },
  {
   "cell_type": "code",
   "execution_count": 49,
   "id": "7272c556",
   "metadata": {},
   "outputs": [
    {
     "name": "stdout",
     "output_type": "stream",
     "text": [
      "wrong, the answer was 45\n",
      "have a nice day\n"
     ]
    }
   ],
   "source": [
    "import random as rnd\n",
    "\n",
    "while True:\n",
    "    number1 = rnd.randint(1,10)\n",
    "    number2 = rnd.randint(1,10)\n",
    "\n",
    "    user_answer = int(input(f\"What is{number1}*{number2}\"))\n",
    "\n",
    "    if user_answer ==number1*number2:\n",
    "        print(\"correct\")\n",
    "    else: \n",
    "        print(f\"wrong, the answer was {number1*number2}\")\n",
    "\n",
    "    play_again = input(\"Wanna play again (y or yes)?\")\n",
    "\n",
    "    if play_again != \"y\":\n",
    "        print(\"have a nice day\")\n",
    "        break\n",
    "    "
   ]
  },
  {
   "cell_type": "markdown",
   "id": "f97b4775",
   "metadata": {},
   "source": [
    "## for statements"
   ]
  },
  {
   "cell_type": "markdown",
   "id": "d1d88a09",
   "metadata": {},
   "source": []
  }
 ],
 "metadata": {
  "kernelspec": {
   "display_name": ".venv",
   "language": "python",
   "name": "python3"
  },
  "language_info": {
   "codemirror_mode": {
    "name": "ipython",
    "version": 3
   },
   "file_extension": ".py",
   "mimetype": "text/x-python",
   "name": "python",
   "nbconvert_exporter": "python",
   "pygments_lexer": "ipython3",
   "version": "3.12.10"
  }
 },
 "nbformat": 4,
 "nbformat_minor": 5
}
