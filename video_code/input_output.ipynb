{
 "cells": [
  {
   "cell_type": "markdown",
   "id": "e13167d1",
   "metadata": {},
   "source": [
    "# Input and outputs"
   ]
  },
  {
   "cell_type": "code",
   "execution_count": null,
   "id": "38f37343",
   "metadata": {},
   "outputs": [
    {
     "name": "stdout",
     "output_type": "stream",
     "text": [
      "Your name is Anna\n"
     ]
    }
   ],
   "source": [
    "name = \"Anna\"\n",
    "print(f\"Your name is {name}\")"
   ]
  },
  {
   "cell_type": "markdown",
   "id": "c873ac11",
   "metadata": {},
   "source": [
    "## inputs"
   ]
  },
  {
   "cell_type": "code",
   "execution_count": 1,
   "id": "17930d43",
   "metadata": {},
   "outputs": [
    {
     "name": "stdout",
     "output_type": "stream",
     "text": [
      "julius is 23 years old\n"
     ]
    }
   ],
   "source": [
    "name = input(\"What is your name?\")\n",
    "age = input(\"What is your age?\")\n",
    "\n",
    "print(f\"{name} is {age} years old\")\n"
   ]
  },
  {
   "cell_type": "markdown",
   "id": "e86e03b8",
   "metadata": {},
   "source": [
    "## type coercion\n"
   ]
  },
  {
   "cell_type": "code",
   "execution_count": 2,
   "id": "d65324eb",
   "metadata": {},
   "outputs": [
    {
     "name": "stdout",
     "output_type": "stream",
     "text": [
      "force = 844.52N\n"
     ]
    }
   ],
   "source": [
    "gravity = 9.82\n",
    "mass = float(input(\"enter your weight in kg: \"))\n",
    "\n",
    "force = mass*gravity \n",
    "print(f\"{force = }N\")"
   ]
  },
  {
   "cell_type": "markdown",
   "id": "97d91881",
   "metadata": {},
   "source": [
    "## some more types"
   ]
  },
  {
   "cell_type": "code",
   "execution_count": 30,
   "id": "f09b4a66",
   "metadata": {},
   "outputs": [
    {
     "data": {
      "text/plain": [
       "(int, str, bool, float)"
      ]
     },
     "execution_count": 30,
     "metadata": {},
     "output_type": "execute_result"
    }
   ],
   "source": [
    "radius = 7\n",
    "geometry = \"circle\"\n",
    "is_unit_circle = False\n",
    "screen_inches = 6.4\n",
    "\n",
    "\n",
    "type(radius), type(geometry), type(is_unit_circle), type(screen_inches),"
   ]
  }
 ],
 "metadata": {
  "kernelspec": {
   "display_name": ".venv",
   "language": "python",
   "name": "python3"
  },
  "language_info": {
   "codemirror_mode": {
    "name": "ipython",
    "version": 3
   },
   "file_extension": ".py",
   "mimetype": "text/x-python",
   "name": "python",
   "nbconvert_exporter": "python",
   "pygments_lexer": "ipython3",
   "version": "3.12.10"
  }
 },
 "nbformat": 4,
 "nbformat_minor": 5
}
