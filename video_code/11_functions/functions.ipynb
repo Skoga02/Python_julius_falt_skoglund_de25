{
 "cells": [
  {
   "cell_type": "markdown",
   "id": "b7c78db2",
   "metadata": {},
   "source": [
    "# Functions"
   ]
  },
  {
   "cell_type": "code",
   "execution_count": 2,
   "id": "4f2146f9",
   "metadata": {},
   "outputs": [
    {
     "data": {
      "text/plain": [
       "4"
      ]
     },
     "execution_count": 2,
     "metadata": {},
     "output_type": "execute_result"
    }
   ],
   "source": [
    "def squarer(x):\n",
    "    return x**2\n",
    "\n",
    "squarer(2)"
   ]
  },
  {
   "cell_type": "code",
   "execution_count": 4,
   "id": "d3670b10",
   "metadata": {},
   "outputs": [
    {
     "data": {
      "text/plain": [
       "25"
      ]
     },
     "execution_count": 4,
     "metadata": {},
     "output_type": "execute_result"
    }
   ],
   "source": [
    "square = squarer(5)\n",
    "square"
   ]
  },
  {
   "cell_type": "code",
   "execution_count": 5,
   "id": "8098d850",
   "metadata": {},
   "outputs": [
    {
     "data": {
      "text/plain": [
       "[0, 1, 4, 9, 16, 25, 36, 49, 64, 81]"
      ]
     },
     "execution_count": 5,
     "metadata": {},
     "output_type": "execute_result"
    }
   ],
   "source": [
    "[squarer(x) for x in range(10)]"
   ]
  },
  {
   "cell_type": "code",
   "execution_count": 8,
   "id": "401fb8c9",
   "metadata": {},
   "outputs": [
    {
     "name": "stdout",
     "output_type": "stream",
     "text": [
      "hi\n"
     ]
    }
   ],
   "source": [
    "def say_hello():\n",
    "    print(\"hi\")\n",
    "\n",
    "say_hello()"
   ]
  },
  {
   "cell_type": "markdown",
   "id": "f1dbf60a",
   "metadata": {},
   "source": [
    "### default \n",
    "- default value is only used if no other vaule is called\n",
    "- for example when it reuterns friend it is a parameter (when you define it)\n",
    "- a argument is when you call the function later on as in the example Bella"
   ]
  },
  {
   "cell_type": "code",
   "execution_count": 10,
   "id": "f2b0c272",
   "metadata": {},
   "outputs": [
    {
     "name": "stdout",
     "output_type": "stream",
     "text": [
      "hi friend\n"
     ]
    }
   ],
   "source": [
    "def say_hello(name = \"friend\"):\n",
    "    print(f\"hi {name}\")\n",
    "\n",
    "say_hello()"
   ]
  },
  {
   "cell_type": "code",
   "execution_count": 11,
   "id": "23657034",
   "metadata": {},
   "outputs": [
    {
     "name": "stdout",
     "output_type": "stream",
     "text": [
      "hi Bella\n"
     ]
    }
   ],
   "source": [
    "say_hello(\"Bella\")"
   ]
  },
  {
   "cell_type": "code",
   "execution_count": 12,
   "id": "37cc4687",
   "metadata": {},
   "outputs": [
    {
     "data": {
      "text/plain": [
       "(1, -5)"
      ]
     },
     "execution_count": 12,
     "metadata": {},
     "output_type": "execute_result"
    }
   ],
   "source": [
    "def smallest(number1, number2):\n",
    "    if number1 > number2:\n",
    "        return number2\n",
    "    return number1\n",
    "\n",
    "smallest(1,5), smallest(5,-5)"
   ]
  },
  {
   "cell_type": "markdown",
   "id": "6663b0da",
   "metadata": {},
   "source": [
    "## Keyword argumetn"
   ]
  },
  {
   "cell_type": "code",
   "execution_count": 16,
   "id": "de96d4e0",
   "metadata": {},
   "outputs": [
    {
     "data": {
      "text/plain": [
       "7"
      ]
     },
     "execution_count": 16,
     "metadata": {},
     "output_type": "execute_result"
    }
   ],
   "source": [
    "def count_words(text):\n",
    "    words = text.split()\n",
    "    return len(words)\n",
    "\n",
    "count_words(text = \"I stand on the shoulders of giants\")"
   ]
  },
  {
   "cell_type": "markdown",
   "id": "c06a5ab2",
   "metadata": {},
   "source": [
    "## arbitary arguments"
   ]
  },
  {
   "cell_type": "code",
   "execution_count": 17,
   "id": "efbc30cc",
   "metadata": {},
   "outputs": [
    {
     "name": "stdout",
     "output_type": "stream",
     "text": [
      "(1, 2, 3)\n"
     ]
    }
   ],
   "source": [
    "def my_mean(*numbers):\n",
    "    print(numbers)\n",
    "\n",
    "my_mean(1,2,3)"
   ]
  },
  {
   "cell_type": "code",
   "execution_count": 19,
   "id": "7a37e79e",
   "metadata": {},
   "outputs": [
    {
     "data": {
      "text/plain": [
       "3.3333333333333335"
      ]
     },
     "execution_count": 19,
     "metadata": {},
     "output_type": "execute_result"
    }
   ],
   "source": [
    "def my_mean(*numbers):\n",
    "    sum_ = 0\n",
    "    for number in numbers:\n",
    "        sum_ += number\n",
    "    return sum_/len(numbers)\n",
    "\n",
    "my_mean(1,4,5)"
   ]
  },
  {
   "cell_type": "markdown",
   "id": "7d52acc1",
   "metadata": {},
   "source": [
    "## unpacking arguments"
   ]
  },
  {
   "cell_type": "code",
   "execution_count": 22,
   "id": "0771d824",
   "metadata": {},
   "outputs": [
    {
     "name": "stdout",
     "output_type": "stream",
     "text": [
      "hi Bella you are 4 years old\n"
     ]
    }
   ],
   "source": [
    "def say_hello(name, age):\n",
    "    print(f\"hi {name} you are {age} years old\")\n",
    "\n",
    "pet = (\"Bella\", 4)\n",
    "\n",
    "# without the * you are not abel to only return one argument, this is called unpacking\n",
    "say_hello(*pet)"
   ]
  },
  {
   "cell_type": "markdown",
   "id": "0b6e13d2",
   "metadata": {},
   "source": [
    "## lambda function inside a function"
   ]
  },
  {
   "cell_type": "code",
   "execution_count": 50,
   "id": "a17559ef",
   "metadata": {},
   "outputs": [
    {
     "data": {
      "text/plain": [
       "([2005,\n",
       "  2006,\n",
       "  2007,\n",
       "  2008,\n",
       "  2009,\n",
       "  2010,\n",
       "  2011,\n",
       "  2012,\n",
       "  2013,\n",
       "  2014,\n",
       "  2015,\n",
       "  2016,\n",
       "  2017,\n",
       "  2018,\n",
       "  2019,\n",
       "  2020,\n",
       "  2021,\n",
       "  2022,\n",
       "  2023,\n",
       "  2024],\n",
       " [2587,\n",
       "  2546,\n",
       "  2797,\n",
       "  2817,\n",
       "  2857,\n",
       "  2903,\n",
       "  3160,\n",
       "  3398,\n",
       "  4054,\n",
       "  4937,\n",
       "  5812,\n",
       "  6183,\n",
       "  6210,\n",
       "  5704,\n",
       "  7086,\n",
       "  10283,\n",
       "  12852,\n",
       "  14255,\n",
       "  15162,\n",
       "  16447],\n",
       " [6238,\n",
       "  7582,\n",
       "  8807,\n",
       "  10264,\n",
       "  11286,\n",
       "  11905,\n",
       "  12179,\n",
       "  11946,\n",
       "  12253,\n",
       "  12261,\n",
       "  11670,\n",
       "  11529,\n",
       "  12193,\n",
       "  13797,\n",
       "  15994,\n",
       "  18491,\n",
       "  18540,\n",
       "  17818,\n",
       "  17354,\n",
       "  17380])"
      ]
     },
     "execution_count": 50,
     "metadata": {},
     "output_type": "execute_result"
    }
   ],
   "source": [
    "def extract_data(filename):\n",
    "    with open (filename, \"r\") as file:\n",
    "        data = file.readlines()\n",
    "\n",
    "    year, it, economy = data\n",
    "    clean_row = lambda row: [int (item) for item in row.strip().split(\",\")[1:]]\n",
    "    year = clean_row(year)\n",
    "    it = clean_row(it)\n",
    "    economy = clean_row(economy)\n",
    "\n",
    "    return year, it, economy\n",
    "\n",
    "extract_data(\"../data/students_yh_it_economy.txt\")"
   ]
  },
  {
   "cell_type": "markdown",
   "id": "54f7b91e",
   "metadata": {},
   "source": [
    "## variable number of keyword arguments **kwargs"
   ]
  },
  {
   "cell_type": "code",
   "execution_count": 47,
   "id": "6fa7ed17",
   "metadata": {},
   "outputs": [
    {
     "name": "stdout",
     "output_type": "stream",
     "text": [
      "{'x': 5, 'name': 'Bella', 'type': 'rabbit'}\n",
      "rabbit\n"
     ]
    }
   ],
   "source": [
    "def test_kwargs(**kwargs):\n",
    "    print(kwargs)\n",
    "    print(kwargs.get(\"type\"))\n",
    "\n",
    "test_kwargs(x = 5, name = \"Bella\", type = \"rabbit\")"
   ]
  },
  {
   "cell_type": "code",
   "execution_count": 76,
   "id": "235a48d6",
   "metadata": {},
   "outputs": [
    {
     "data": {
      "text/plain": [
       "<Axes: title={'center': 'Number of students in IT'}, xlabel='Year', ylabel='Number students'>"
      ]
     },
     "execution_count": 76,
     "metadata": {},
     "output_type": "execute_result"
    },
    {
     "data": {
      "image/png": "[encoded data removed]",
      "text/plain": [
       "<Figure size 640x480 with 1 Axes>"
      ]
     },
     "metadata": {},
     "output_type": "display_data"
    }
   ],
   "source": [
    "import matplotlib.pyplot as plt\n",
    "from matplotlib.ticker import MaxNLocator\n",
    "\n",
    "year, it, economy =  extract_data(\"../data/students_yh_it_economy.txt\")\n",
    "fig, ax= plt.subplots(1)\n",
    "\n",
    "def plot_data(ax, x, y, **options):\n",
    "    ax.plot(x,y,linewidth = options.get(\"linewidth\", 3))\n",
    "    ax.set(\n",
    "        xlabel=options.get(\"xlabel\"),\n",
    "        ylabel=options.get(\"ylabel\"),\n",
    "        title=options.get(\"title\"),\n",
    "    )\n",
    "    # this line is to control the floating numbers in the x-axel\n",
    "    ax.xaxis.set_major_locator(MaxNLocator(integer=True))\n",
    "    # this line is to remove the frame (spine) around the plot\n",
    "    ax.spines[[\"top\", \"right\"]].set_visible(False)\n",
    "    return ax\n",
    "\n",
    "# keyword arguments except x and y come from options(dict) and .get gets us the spicific vaules we want\n",
    "plot_data(\n",
    "    ax,\n",
    "    x = year,\n",
    "    y = it,\n",
    "    linewidth = 5,\n",
    "    title = \"Number of students in IT\",\n",
    "    xlabel = \"Year\",\n",
    "    ylabel = \"Number students\",\n",
    "    )"
   ]
  },
  {
   "cell_type": "code",
   "execution_count": 77,
   "id": "436baeea",
   "metadata": {},
   "outputs": [
    {
     "data": {
      "text/plain": [
       "<Axes: title={'center': 'Number of students in Economy'}, xlabel='Year', ylabel='Number students'>"
      ]
     },
     "execution_count": 77,
     "metadata": {},
     "output_type": "execute_result"
    },
    {
     "data": {
      "image/png": "[encoded data removed]",
      "text/plain": [
       "<Figure size 640x480 with 1 Axes>"
      ]
     },
     "metadata": {},
     "output_type": "display_data"
    }
   ],
   "source": [
    "fig, ax = plt.subplots(1)\n",
    "\n",
    "plot_data(\n",
    "    ax,\n",
    "    x=year,\n",
    "    y=economy,\n",
    "    linewidth=4,\n",
    "    title=\"Number of students in Economy\",\n",
    "    xlabel=\"Year\",\n",
    "    ylabel=\"Number students\",\n",
    "    )"
   ]
  },
  {
   "cell_type": "code",
   "execution_count": null,
   "id": "542a8a3f",
   "metadata": {},
   "outputs": [],
   "source": []
  }
 ],
 "metadata": {
  "kernelspec": {
   "display_name": ".venv",
   "language": "python",
   "name": "python3"
  },
  "language_info": {
   "codemirror_mode": {
    "name": "ipython",
    "version": 3
   },
   "file_extension": ".py",
   "mimetype": "text/x-python",
   "name": "python",
   "nbconvert_exporter": "python",
   "pygments_lexer": "ipython3",
   "version": "3.12.10"
  }
 },
 "nbformat": 4,
 "nbformat_minor": 5
}
