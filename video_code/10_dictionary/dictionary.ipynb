{
 "cells": [
  {
   "cell_type": "markdown",
   "id": "2a5322e9",
   "metadata": {},
   "source": [
    "# dicitonary"
   ]
  },
  {
   "cell_type": "code",
   "execution_count": 13,
   "id": "53395e97",
   "metadata": {},
   "outputs": [
    {
     "data": {
      "text/plain": [
       "{'name': 'Julius', 'age': '23', 'work': 'student', 'interests': ['finance']}"
      ]
     },
     "execution_count": 13,
     "metadata": {},
     "output_type": "execute_result"
    }
   ],
   "source": [
    "person = dict(\n",
    "    name=\"Julius\", \n",
    "    age=\"23\", \n",
    "    work=\"student\", \n",
    "    interests=[\"finance\"]\n",
    ")\n",
    "\n",
    "person"
   ]
  },
  {
   "cell_type": "code",
   "execution_count": 7,
   "id": "7cecee77",
   "metadata": {},
   "outputs": [
    {
     "data": {
      "text/plain": [
       "{'x': 23, 'y': 43.2}"
      ]
     },
     "execution_count": 7,
     "metadata": {},
     "output_type": "execute_result"
    }
   ],
   "source": [
    "cordinates = {\"x\":23, \"y\": 43.2}\n",
    "cordinates"
   ]
  },
  {
   "cell_type": "code",
   "execution_count": 8,
   "id": "4e122a51",
   "metadata": {},
   "outputs": [
    {
     "data": {
      "text/plain": [
       "(dict, dict)"
      ]
     },
     "execution_count": 8,
     "metadata": {},
     "output_type": "execute_result"
    }
   ],
   "source": [
    "type(cordinates), type(person)"
   ]
  },
  {
   "cell_type": "code",
   "execution_count": 9,
   "id": "dda95270",
   "metadata": {},
   "outputs": [
    {
     "data": {
      "text/plain": [
       "dict_keys(['name', 'age', 'work', 'intrests'])"
      ]
     },
     "execution_count": 9,
     "metadata": {},
     "output_type": "execute_result"
    }
   ],
   "source": [
    "person.keys()"
   ]
  },
  {
   "cell_type": "code",
   "execution_count": 10,
   "id": "6d10b291",
   "metadata": {},
   "outputs": [
    {
     "data": {
      "text/plain": [
       "dict_values(['Julius', '23', 'student', ['finance']])"
      ]
     },
     "execution_count": 10,
     "metadata": {},
     "output_type": "execute_result"
    }
   ],
   "source": [
    "person.values()"
   ]
  },
  {
   "cell_type": "code",
   "execution_count": 11,
   "id": "e29e4fbb",
   "metadata": {},
   "outputs": [
    {
     "data": {
      "text/plain": [
       "'Julius'"
      ]
     },
     "execution_count": 11,
     "metadata": {},
     "output_type": "execute_result"
    }
   ],
   "source": [
    "person[\"name\"]"
   ]
  },
  {
   "cell_type": "code",
   "execution_count": 14,
   "id": "c54fc636",
   "metadata": {},
   "outputs": [
    {
     "data": {
      "text/plain": [
       "['finance']"
      ]
     },
     "execution_count": 14,
     "metadata": {},
     "output_type": "execute_result"
    }
   ],
   "source": [
    "person.get(\"interests\") "
   ]
  },
  {
   "cell_type": "code",
   "execution_count": 17,
   "id": "ede13ac9",
   "metadata": {},
   "outputs": [
    {
     "data": {
      "text/plain": [
       "NoneType"
      ]
     },
     "execution_count": 17,
     "metadata": {},
     "output_type": "execute_result"
    }
   ],
   "source": [
    "type(person.get(\"interest\"))"
   ]
  },
  {
   "cell_type": "code",
   "execution_count": 16,
   "id": "79c6f25c",
   "metadata": {},
   "outputs": [
    {
     "ename": "KeyError",
     "evalue": "'interest'",
     "output_type": "error",
     "traceback": [
      "\u001b[31m---------------------------------------------------------------------------\u001b[39m",
      "\u001b[31mKeyError\u001b[39m                                  Traceback (most recent call last)",
      "\u001b[36mCell\u001b[39m\u001b[36m \u001b[39m\u001b[32mIn[16]\u001b[39m\u001b[32m, line 1\u001b[39m\n\u001b[32m----> \u001b[39m\u001b[32m1\u001b[39m \u001b[43mperson\u001b[49m\u001b[43m[\u001b[49m\u001b[33;43m\"\u001b[39;49m\u001b[33;43minterest\u001b[39;49m\u001b[33;43m\"\u001b[39;49m\u001b[43m]\u001b[49m\n",
      "\u001b[31mKeyError\u001b[39m: 'interest'"
     ]
    }
   ],
   "source": [
    "person[\"interest\"]"
   ]
  },
  {
   "cell_type": "code",
   "execution_count": 18,
   "id": "eb7cd83e",
   "metadata": {},
   "outputs": [
    {
     "name": "stdout",
     "output_type": "stream",
     "text": [
      "name\n",
      "age\n",
      "work\n",
      "interests\n"
     ]
    }
   ],
   "source": [
    "for key in person:\n",
    "    print(key)"
   ]
  },
  {
   "cell_type": "code",
   "execution_count": 25,
   "id": "fd87451b",
   "metadata": {},
   "outputs": [
    {
     "name": "stdout",
     "output_type": "stream",
     "text": [
      "name :  Julius\n",
      "age :  23\n",
      "work :  student\n",
      "interests :  ['finance']\n"
     ]
    }
   ],
   "source": [
    "for key in person:\n",
    "    print(key, \": \", person[key])"
   ]
  },
  {
   "cell_type": "code",
   "execution_count": 27,
   "id": "58d953c2",
   "metadata": {},
   "outputs": [
    {
     "data": {
      "text/plain": [
       "dict_items([('name', 'Julius'), ('age', '23'), ('work', 'student'), ('interests', ['finance'])])"
      ]
     },
     "execution_count": 27,
     "metadata": {},
     "output_type": "execute_result"
    }
   ],
   "source": [
    "person.items()"
   ]
  },
  {
   "cell_type": "code",
   "execution_count": 34,
   "id": "7f7437f5",
   "metadata": {},
   "outputs": [
    {
     "name": "stdout",
     "output_type": "stream",
     "text": [
      "name       Julius\n",
      "age        23\n",
      "work       student\n",
      "interests  ['finance']\n"
     ]
    }
   ],
   "source": [
    "for key, value in person.items():\n",
    "    print(f\"{key:<10} {value}\")"
   ]
  },
  {
   "cell_type": "markdown",
   "id": "79cef0d0",
   "metadata": {},
   "source": [
    "### dictionary comprehension\n",
    "create grades with diffrent limits"
   ]
  },
  {
   "cell_type": "code",
   "execution_count": 45,
   "id": "02328f00",
   "metadata": {},
   "outputs": [
    {
     "data": {
      "text/plain": [
       "{'F': 0, 'E': 10, 'D': 20, 'C': 30, 'B': 40, 'A': 50}"
      ]
     },
     "execution_count": 45,
     "metadata": {},
     "output_type": "execute_result"
    }
   ],
   "source": [
    "grade_limit = {grade: i*10 for i, grade in enumerate(\"FEDCBA\")}\n",
    "grade_limit"
   ]
  },
  {
   "cell_type": "code",
   "execution_count": 49,
   "id": "a4efe01d",
   "metadata": {},
   "outputs": [
    {
     "name": "stdout",
     "output_type": "stream",
     "text": [
      "[40, 7, 1, 47, 17, 15, 14, 8, 47, 6, 43, 47, 57, 34, 5, 37, 27, 2, 1, 5]\n"
     ]
    }
   ],
   "source": [
    "import random as rnd\n",
    "def generate_scores(number_scores):\n",
    "    rnd.seed(42)\n",
    "    return [rnd.randint(0,60) for _ in range(number_scores)]\n",
    "\n",
    "scores = generate_scores(20)\n",
    "print(scores)"
   ]
  },
  {
   "cell_type": "code",
   "execution_count": 46,
   "id": "3b87bdf9",
   "metadata": {},
   "outputs": [
    {
     "data": {
      "text/plain": [
       "{'F': 0, 'E': 0, 'D': 0, 'C': 0, 'B': 0, 'A': 0}"
      ]
     },
     "execution_count": 46,
     "metadata": {},
     "output_type": "execute_result"
    }
   ],
   "source": [
    "grade_count = {key: 0 for key in grade_limit}\n",
    "grade_count"
   ]
  },
  {
   "cell_type": "code",
   "execution_count": 51,
   "id": "2b233856",
   "metadata": {},
   "outputs": [
    {
     "name": "stdout",
     "output_type": "stream",
     "text": [
      "Grade count {'F': 8, 'E': 3, 'D': 1, 'C': 2, 'B': 5, 'A': 1}\n"
     ]
    }
   ],
   "source": [
    "for score in scores:\n",
    "    for grade, limit in grade_limit.items():\n",
    "        if limit <= score < limit+10:\n",
    "            grade_count[grade] +=1\n",
    "\n",
    "print(f\"Grade count {grade_count}\")"
   ]
  },
  {
   "cell_type": "code",
   "execution_count": null,
   "id": "2ad1b02c",
   "metadata": {},
   "outputs": [],
   "source": []
  }
 ],
 "metadata": {
  "kernelspec": {
   "display_name": ".venv",
   "language": "python",
   "name": "python3"
  },
  "language_info": {
   "codemirror_mode": {
    "name": "ipython",
    "version": 3
   },
   "file_extension": ".py",
   "mimetype": "text/x-python",
   "name": "python",
   "nbconvert_exporter": "python",
   "pygments_lexer": "ipython3",
   "version": "3.12.10"
  }
 },
 "nbformat": 4,
 "nbformat_minor": 5
}
