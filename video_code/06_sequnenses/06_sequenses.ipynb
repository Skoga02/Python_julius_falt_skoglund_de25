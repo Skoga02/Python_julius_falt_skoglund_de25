{
 "cells": [
  {
   "cell_type": "markdown",
   "id": "6bddad9d",
   "metadata": {},
   "source": [
    "# Sequenses\n",
    "- one of the collection data type/iterables\n",
    "- used for storing multiple items in a veriable \n",
    "- for collection data types, we will be learning \n",
    "    - charateristics \n",
    "    - available operation  "
   ]
  },
  {
   "cell_type": "markdown",
   "id": "173b2c91",
   "metadata": {},
   "source": [
    "#### create a list "
   ]
  },
  {
   "cell_type": "code",
   "execution_count": 2,
   "id": "ceea77b7",
   "metadata": {},
   "outputs": [],
   "source": [
    "tv_shows = [\"Antikrundan\", \"Mästerkockarna\", \"Aktuellt\", \"Talang\"] #each item is a string (str)\n"
   ]
  },
  {
   "cell_type": "markdown",
   "id": "15cc4446",
   "metadata": {},
   "source": [
    "##### Access an item (Indaxing)\n",
    "- index begins with 0 \n",
    "- use [] ot access an item with a certain index \n",
    "- index starts from left by default, but you can start from the right"
   ]
  },
  {
   "cell_type": "code",
   "execution_count": 3,
   "id": "63d17488",
   "metadata": {},
   "outputs": [
    {
     "data": {
      "text/plain": [
       "'Mästerkockarna'"
      ]
     },
     "execution_count": 3,
     "metadata": {},
     "output_type": "execute_result"
    }
   ],
   "source": [
    "# To access the secon item \n",
    "tv_shows[1]"
   ]
  },
  {
   "cell_type": "code",
   "execution_count": 6,
   "id": "18e820dd",
   "metadata": {},
   "outputs": [
    {
     "data": {
      "text/plain": [
       "'Talang'"
      ]
     },
     "execution_count": 6,
     "metadata": {},
     "output_type": "execute_result"
    }
   ],
   "source": [
    "# how to access index from the right \n",
    "last_index = len(tv_shows) -1\n",
    "tv_shows[last_index]"
   ]
  },
  {
   "cell_type": "code",
   "execution_count": 7,
   "id": "42e869e5",
   "metadata": {},
   "outputs": [
    {
     "data": {
      "text/plain": [
       "'Talang'"
      ]
     },
     "execution_count": 7,
     "metadata": {},
     "output_type": "execute_result"
    }
   ],
   "source": [
    "# to access the last item - by counting from the right \n",
    "tv_shows[-1]"
   ]
  },
  {
   "cell_type": "code",
   "execution_count": 8,
   "id": "9a26bace",
   "metadata": {},
   "outputs": [
    {
     "name": "stdout",
     "output_type": "stream",
     "text": [
      "Antikrundan\n",
      "Mästerkockarna\n",
      "Aktuellt\n",
      "Talang\n"
     ]
    }
   ],
   "source": [
    "for tv_show in tv_shows: # tv_show is a variable created while runnint the for loop\n",
    "    print(tv_show)"
   ]
  },
  {
   "cell_type": "markdown",
   "id": "bfb3cde4",
   "metadata": {},
   "source": [
    "#### How to change the value of a list item"
   ]
  },
  {
   "cell_type": "code",
   "execution_count": 15,
   "id": "4c80cc71",
   "metadata": {},
   "outputs": [
    {
     "data": {
      "text/plain": [
       "['Vetenskapens värld', 'Mästerkockarna', 'Aktuellt', 'Talang']"
      ]
     },
     "execution_count": 15,
     "metadata": {},
     "output_type": "execute_result"
    }
   ],
   "source": [
    "#Assign a new valuw to the first item in the list\n",
    "tv_shows[0] = \"Vetenskapens värld\"\n",
    "\n",
    "tv_shows"
   ]
  },
  {
   "cell_type": "markdown",
   "id": "62ab0b0b",
   "metadata": {},
   "source": [
    "##### How to append a new value to a list\n",
    "- add a new item as the last item of the list"
   ]
  },
  {
   "cell_type": "code",
   "execution_count": 16,
   "id": "06ef9131",
   "metadata": {},
   "outputs": [
    {
     "data": {
      "text/plain": [
       "['Vetenskapens värld', 'Mästerkockarna', 'Aktuellt', 'Talang', 'Pokemon']"
      ]
     },
     "execution_count": 16,
     "metadata": {},
     "output_type": "execute_result"
    }
   ],
   "source": [
    "# tv_shows is a list , therefore, we can use a method called append()\n",
    "tv_shows.append(\"Pokemon\") \n",
    "\n",
    "tv_shows"
   ]
  },
  {
   "cell_type": "markdown",
   "id": "b97c266f",
   "metadata": {},
   "source": [
    "##### Access multiple items slicing \n",
    "- makes use of slicing operator: \n"
   ]
  },
  {
   "cell_type": "code",
   "execution_count": 20,
   "id": "86ce29d6",
   "metadata": {},
   "outputs": [
    {
     "data": {
      "text/plain": [
       "['Vetenskapens värld', 'Mästerkockarna']"
      ]
     },
     "execution_count": 20,
     "metadata": {},
     "output_type": "execute_result"
    }
   ],
   "source": [
    "# closing boundery on the left and opening boundery on the right \n",
    "# From the item with index 0 including up to item with index (2-1)\n",
    "tv_shows[0:2]"
   ]
  },
  {
   "cell_type": "code",
   "execution_count": 22,
   "id": "edf4305b",
   "metadata": {},
   "outputs": [
    {
     "data": {
      "text/plain": [
       "['Aktuellt', 'Mästerkockarna', 'Pokemon', 'Talang', 'Vetenskapens värld']"
      ]
     },
     "execution_count": 22,
     "metadata": {},
     "output_type": "execute_result"
    }
   ],
   "source": [
    "tv_shows.sort() # by default, the lsit is sorted alphabeticly or numerically this is called acending\n",
    "\n",
    "tv_shows"
   ]
  },
  {
   "cell_type": "code",
   "execution_count": 23,
   "id": "08385e5a",
   "metadata": {},
   "outputs": [
    {
     "data": {
      "text/plain": [
       "['Vetenskapens värld', 'Talang', 'Pokemon', 'Mästerkockarna', 'Aktuellt']"
      ]
     },
     "execution_count": 23,
     "metadata": {},
     "output_type": "execute_result"
    }
   ],
   "source": [
    "# sort by cending order\n",
    "tv_shows.sort(reverse=True)\n",
    "\n",
    "tv_shows"
   ]
  },
  {
   "cell_type": "code",
   "execution_count": 24,
   "id": "256adaad",
   "metadata": {},
   "outputs": [
    {
     "data": {
      "text/plain": [
       "'Vetenskapens värld'"
      ]
     },
     "execution_count": 24,
     "metadata": {},
     "output_type": "execute_result"
    }
   ],
   "source": [
    "# Note that with sorting, index of items will be changed accordingly \n",
    "tv_shows[0]"
   ]
  },
  {
   "cell_type": "markdown",
   "id": "ea91b8e8",
   "metadata": {},
   "source": [
    "##### Create a list by list comprehension \n",
    "- Clean code to create list when creating a list from anoteher iterable"
   ]
  },
  {
   "cell_type": "code",
   "execution_count": 27,
   "id": "2cc455c8",
   "metadata": {},
   "outputs": [
    {
     "data": {
      "text/plain": [
       "[1, 8, 27, 64, 125, 216, 343, 512, 729]"
      ]
     },
     "execution_count": 27,
     "metadata": {},
     "output_type": "execute_result"
    }
   ],
   "source": [
    "# The value for each item in the list cubes are actually a calculation in a existing iterable (i.e range())\n",
    "cubes = [x**3 for x in range(1,10)]   \n",
    "\n",
    "cubes"
   ]
  }
 ],
 "metadata": {
  "kernelspec": {
   "display_name": ".venv",
   "language": "python",
   "name": "python3"
  },
  "language_info": {
   "codemirror_mode": {
    "name": "ipython",
    "version": 3
   },
   "file_extension": ".py",
   "mimetype": "text/x-python",
   "name": "python",
   "nbconvert_exporter": "python",
   "pygments_lexer": "ipython3",
   "version": "3.12.10"
  }
 },
 "nbformat": 4,
 "nbformat_minor": 5
}
