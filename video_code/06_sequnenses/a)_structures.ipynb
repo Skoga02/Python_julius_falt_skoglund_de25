{
 "cells": [
  {
   "cell_type": "markdown",
   "id": "72e2fcbf",
   "metadata": {},
   "source": [
    "# Sequenses\n",
    "- one of the collection data type/iterables\n",
    "- used for storing multiple items in a veriable\n",
    "- for collection data types, we will be learning\n",
    "    - charateristics\n",
    "    - available operation"
   ]
  },
  {
   "cell_type": "markdown",
   "id": "7179a7d9",
   "metadata": {},
   "source": [
    "##### Create a list"
   ]
  },
  {
   "cell_type": "code",
   "execution_count": 1,
   "id": "0d241d1f",
   "metadata": {},
   "outputs": [],
   "source": [
    "tv_shows = [\"Antikrundan\", \"Mästerkockarna\", \"Aktuellt\", \"Talang\"] #each item is a string (str)"
   ]
  },
  {
   "cell_type": "markdown",
   "id": "355f3780",
   "metadata": {},
   "source": [
    "##### Access an item (indexing)\n",
    "- index begins with 0\n",
    "- use [] to access an iterm with a certain index\n",
    "- by default, the first item begins from the left"
   ]
  },
  {
   "cell_type": "code",
   "execution_count": 2,
   "id": "a32a5370",
   "metadata": {},
   "outputs": [
    {
     "data": {
      "text/plain": [
       "'Mästerkockarna'"
      ]
     },
     "execution_count": 2,
     "metadata": {},
     "output_type": "execute_result"
    }
   ],
   "source": [
    "# to access the second item\n",
    "tv_shows[1]"
   ]
  },
  {
   "cell_type": "code",
   "execution_count": 3,
   "id": "77143c0d",
   "metadata": {},
   "outputs": [
    {
     "data": {
      "text/plain": [
       "'Talang'"
      ]
     },
     "execution_count": 3,
     "metadata": {},
     "output_type": "execute_result"
    }
   ],
   "source": [
    "# to access the last item - by counting from the left\n",
    "last_index = len(tv_shows) - 1\n",
    "tv_shows[last_index]"
   ]
  },
  {
   "cell_type": "code",
   "execution_count": 4,
   "id": "55df37ac",
   "metadata": {},
   "outputs": [
    {
     "data": {
      "text/plain": [
       "'Talang'"
      ]
     },
     "execution_count": 4,
     "metadata": {},
     "output_type": "execute_result"
    }
   ],
   "source": [
    "# to access the last item - by counting from the right\n",
    "tv_shows[-1]"
   ]
  },
  {
   "cell_type": "markdown",
   "id": "d300aeb0",
   "metadata": {},
   "source": [
    "##### Iterate through a list"
   ]
  },
  {
   "cell_type": "code",
   "execution_count": 5,
   "id": "88d9d047",
   "metadata": {},
   "outputs": [
    {
     "name": "stdout",
     "output_type": "stream",
     "text": [
      "Antikrundan\n",
      "Mästerkockarna\n",
      "Aktuellt\n",
      "Talang\n"
     ]
    }
   ],
   "source": [
    "for tv_show in tv_shows: # tv_show is an intermediate variable created when running the for loop\n",
    "    print(tv_show)"
   ]
  },
  {
   "cell_type": "markdown",
   "id": "155caf6b",
   "metadata": {},
   "source": [
    "##### Change the value of a list item"
   ]
  },
  {
   "cell_type": "code",
   "execution_count": 6,
   "id": "be055e1e",
   "metadata": {},
   "outputs": [
    {
     "data": {
      "text/plain": [
       "['Vetenskapens värld', 'Mästerkockarna', 'Aktuellt', 'Talang']"
      ]
     },
     "execution_count": 6,
     "metadata": {},
     "output_type": "execute_result"
    }
   ],
   "source": [
    "# assign a new value to the first item in the list\n",
    "tv_shows[0] = \"Vetenskapens värld\"\n",
    "\n",
    "tv_shows"
   ]
  },
  {
   "cell_type": "markdown",
   "id": "5c48d05e",
   "metadata": {},
   "source": [
    "##### Append new value to a list\n",
    "- add a new item as the last item"
   ]
  },
  {
   "cell_type": "code",
   "execution_count": 7,
   "id": "1891cd22",
   "metadata": {},
   "outputs": [
    {
     "data": {
      "text/plain": [
       "['Vetenskapens värld', 'Mästerkockarna', 'Aktuellt', 'Talang', 'Pokemon']"
      ]
     },
     "execution_count": 7,
     "metadata": {},
     "output_type": "execute_result"
    }
   ],
   "source": [
    "# tv_shows is a list, therefore, it can use a method called append()\n",
    "tv_shows.append(\"Pokemon\")\n",
    "\n",
    "tv_shows"
   ]
  },
  {
   "cell_type": "markdown",
   "id": "51730ade",
   "metadata": {},
   "source": [
    "##### Access multiple items (Slicing)\n",
    "- make use of slicing operator :"
   ]
  },
  {
   "cell_type": "code",
   "execution_count": 8,
   "id": "d4e7bfd7",
   "metadata": {},
   "outputs": [
    {
     "data": {
      "text/plain": [
       "['Vetenskapens värld', 'Mästerkockarna']"
      ]
     },
     "execution_count": 8,
     "metadata": {},
     "output_type": "execute_result"
    }
   ],
   "source": [
    "# closing boundary on the left and opening boundary on the right\n",
    "# from the item with index 0 inclusive up to item with index (2-1)\n",
    "tv_shows[0:2]"
   ]
  },
  {
   "cell_type": "markdown",
   "id": "0eea9e28",
   "metadata": {},
   "source": [
    "##### Sort a list"
   ]
  },
  {
   "cell_type": "code",
   "execution_count": 9,
   "id": "14c8856a",
   "metadata": {},
   "outputs": [
    {
     "data": {
      "text/plain": [
       "['Aktuellt', 'Mästerkockarna', 'Pokemon', 'Talang', 'Vetenskapens värld']"
      ]
     },
     "execution_count": 9,
     "metadata": {},
     "output_type": "execute_result"
    }
   ],
   "source": [
    "tv_shows.sort() # by default, the list will be sorted by ascending order (either alphabetically or numerically)\n",
    "\n",
    "tv_shows"
   ]
  },
  {
   "cell_type": "code",
   "execution_count": 14,
   "id": "225dc094",
   "metadata": {},
   "outputs": [
    {
     "data": {
      "text/plain": [
       "['Vetenskapens värld', 'Talang', 'Pokemon', 'Mästerkockarna', 'Aktuellt']"
      ]
     },
     "execution_count": 14,
     "metadata": {},
     "output_type": "execute_result"
    }
   ],
   "source": [
    "# sort by descending order \n",
    "tv_shows.sort(reverse=True)\n",
    "\n",
    "tv_shows"
   ]
  },
  {
   "cell_type": "code",
   "execution_count": 11,
   "id": "22bee244",
   "metadata": {},
   "outputs": [
    {
     "data": {
      "text/plain": [
       "'Vetenskapens värld'"
      ]
     },
     "execution_count": 11,
     "metadata": {},
     "output_type": "execute_result"
    }
   ],
   "source": [
    "# note that with the sorting, index of items will be changed accordingly\n",
    "tv_shows[0]"
   ]
  },
  {
   "cell_type": "markdown",
   "id": "3c17d417",
   "metadata": {},
   "source": [
    "##### Create a list by list comprehension\n",
    "- clean code to create list when creating a list from another iterable"
   ]
  },
  {
   "cell_type": "code",
   "execution_count": 13,
   "id": "a70fd892",
   "metadata": {},
   "outputs": [
    {
     "data": {
      "text/plain": [
       "[1, 8, 27, 64, 125, 216, 343, 512, 729]"
      ]
     },
     "execution_count": 13,
     "metadata": {},
     "output_type": "execute_result"
    }
   ],
   "source": [
    "# the value for each item in the list cubes is actually a calculation from items in an existing iterable (i.e. range())\n",
    "cubes = [x**3 for x in range(1, 10)]\n",
    "\n",
    "cubes"
   ]
  }
 ],
 "metadata": {
  "kernelspec": {
   "display_name": ".venv",
   "language": "python",
   "name": "python3"
  },
  "language_info": {
   "codemirror_mode": {
    "name": "ipython",
    "version": 3
   },
   "file_extension": ".py",
   "mimetype": "text/x-python",
   "name": "python",
   "nbconvert_exporter": "python",
   "pygments_lexer": "ipython3",
   "version": "3.12.10"
  }
 },
 "nbformat": 4,
 "nbformat_minor": 5
}
