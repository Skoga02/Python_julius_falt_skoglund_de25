{
 "cells": [
  {
   "cell_type": "markdown",
   "id": "88ed8679",
   "metadata": {},
   "source": [
    "### Tuples\n",
    "- less flexible than list\n",
    "- but better performance in list\n"
   ]
  },
  {
   "cell_type": "code",
   "execution_count": 2,
   "id": "57e60089",
   "metadata": {},
   "outputs": [],
   "source": [
    "fruits = [\"apple\", \"orange\", \"strawberry\"]"
   ]
  },
  {
   "cell_type": "code",
   "execution_count": 3,
   "id": "c961012f",
   "metadata": {},
   "outputs": [
    {
     "data": {
      "text/plain": [
       "'apple'"
      ]
     },
     "execution_count": 3,
     "metadata": {},
     "output_type": "execute_result"
    }
   ],
   "source": [
    "fruits[0]"
   ]
  },
  {
   "cell_type": "markdown",
   "id": "3b863c2f",
   "metadata": {},
   "source": [
    "##### Accessing multiple items (Slicing)"
   ]
  },
  {
   "cell_type": "code",
   "execution_count": 4,
   "id": "9570abb6",
   "metadata": {},
   "outputs": [
    {
     "data": {
      "text/plain": [
       "['apple', 'orange']"
      ]
     },
     "execution_count": 4,
     "metadata": {},
     "output_type": "execute_result"
    }
   ],
   "source": [
    "fruits[0:2]"
   ]
  },
  {
   "cell_type": "markdown",
   "id": "9009ce7d",
   "metadata": {},
   "source": [
    "##### Cannot change the value of an item of a tuple"
   ]
  },
  {
   "cell_type": "code",
   "execution_count": 2,
   "id": "58caff07",
   "metadata": {},
   "outputs": [
    {
     "ename": "NameError",
     "evalue": "name 'fruits' is not defined",
     "output_type": "error",
     "traceback": [
      "\u001b[31m---------------------------------------------------------------------------\u001b[39m",
      "\u001b[31mNameError\u001b[39m                                 Traceback (most recent call last)",
      "\u001b[36mCell\u001b[39m\u001b[36m \u001b[39m\u001b[32mIn[2]\u001b[39m\u001b[32m, line 1\u001b[39m\n\u001b[32m----> \u001b[39m\u001b[32m1\u001b[39m \u001b[43mfruits\u001b[49m [\u001b[32m0\u001b[39m] = \u001b[33m\"\u001b[39m\u001b[33mgrape\u001b[39m\u001b[33m\"\u001b[39m\n",
      "\u001b[31mNameError\u001b[39m: name 'fruits' is not defined"
     ]
    }
   ],
   "source": [
    "fruits [0] = \"grape\""
   ]
  },
  {
   "cell_type": "code",
   "execution_count": 6,
   "id": "deb94e02",
   "metadata": {},
   "outputs": [
    {
     "data": {
      "text/plain": [
       "'grape'"
      ]
     },
     "execution_count": 6,
     "metadata": {},
     "output_type": "execute_result"
    }
   ],
   "source": [
    "fruits[0]"
   ]
  }
 ],
 "metadata": {
  "kernelspec": {
   "display_name": "Python 3",
   "language": "python",
   "name": "python3"
  },
  "language_info": {
   "codemirror_mode": {
    "name": "ipython",
    "version": 3
   },
   "file_extension": ".py",
   "mimetype": "text/x-python",
   "name": "python",
   "nbconvert_exporter": "python",
   "pygments_lexer": "ipython3",
   "version": "3.12.10"
  }
 },
 "nbformat": 4,
 "nbformat_minor": 5
}
