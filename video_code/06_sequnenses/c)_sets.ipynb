{
 "cells": [
  {
   "cell_type": "markdown",
   "id": "a6268646",
   "metadata": {},
   "source": [
    "# Set\n",
    "- object for those working with mathematical sets"
   ]
  },
  {
   "cell_type": "markdown",
   "id": "918dd69b",
   "metadata": {},
   "source": [
    "##### Create a set"
   ]
  },
  {
   "cell_type": "code",
   "execution_count": 1,
   "id": "62957ca0",
   "metadata": {},
   "outputs": [
    {
     "data": {
      "text/plain": [
       "['anna@example.com',\n",
       " 'bobo@example.com',\n",
       " 'bobo@example.com',\n",
       " 'carla@example.com']"
      ]
     },
     "execution_count": 1,
     "metadata": {},
     "output_type": "execute_result"
    }
   ],
   "source": [
    "# Create a list of emails with duplicates\n",
    "emails = [\"anna@example.com\", \"bobo@example.com\", \"bobo@example.com\", \"carla@example.com\"]\n",
    "\n",
    "emails"
   ]
  },
  {
   "cell_type": "code",
   "execution_count": 3,
   "id": "67c9c037",
   "metadata": {},
   "outputs": [
    {
     "data": {
      "text/plain": [
       "{'anna@example.com', 'bobo@example.com', 'carla@example.com'}"
      ]
     },
     "execution_count": 3,
     "metadata": {},
     "output_type": "execute_result"
    }
   ],
   "source": [
    "# use the items in the list to create a set\n",
    "# a set will keep only unique items\n",
    "\n",
    "emails_set = set(emails)\n",
    "\n",
    "emails_set"
   ]
  },
  {
   "cell_type": "markdown",
   "id": "5a06122b",
   "metadata": {},
   "source": [
    "##### Intersect of two sets"
   ]
  },
  {
   "cell_type": "code",
   "execution_count": 9,
   "id": "d58b05d0",
   "metadata": {},
   "outputs": [],
   "source": [
    "# create two sets \n",
    "first_month_customers = {\"Alice\", \"Bob\", \"Carla\", \"Daniel\"}\n",
    "second_month_customers = {\"Carla\", \"Daniel\", \"Elena\"}"
   ]
  },
  {
   "cell_type": "code",
   "execution_count": 10,
   "id": "17f5680c",
   "metadata": {},
   "outputs": [
    {
     "data": {
      "text/plain": [
       "{'Carla', 'Daniel'}"
      ]
     },
     "execution_count": 10,
     "metadata": {},
     "output_type": "execute_result"
    }
   ],
   "source": [
    "returning_customers = first_month_customers.intersection(second_month_customers)\n",
    "\n",
    "returning_customers"
   ]
  },
  {
   "cell_type": "markdown",
   "id": "ac897547",
   "metadata": {},
   "source": [
    "##### Union of two sets"
   ]
  },
  {
   "cell_type": "code",
   "execution_count": 11,
   "id": "e2a31bb5",
   "metadata": {},
   "outputs": [
    {
     "data": {
      "text/plain": [
       "{'Alice', 'Bob', 'Carla', 'Daniel', 'Elena'}"
      ]
     },
     "execution_count": 11,
     "metadata": {},
     "output_type": "execute_result"
    }
   ],
   "source": [
    "all_customers  = first_month_customers.union(second_month_customers)\n",
    "\n",
    "all_customers"
   ]
  },
  {
   "cell_type": "markdown",
   "id": "e0f87a56",
   "metadata": {},
   "source": [
    "##### Except"
   ]
  },
  {
   "cell_type": "code",
   "execution_count": 12,
   "id": "4734bcca",
   "metadata": {},
   "outputs": [
    {
     "data": {
      "text/plain": [
       "{'Alice', 'Bob', 'Elena'}"
      ]
     },
     "execution_count": 12,
     "metadata": {},
     "output_type": "execute_result"
    }
   ],
   "source": [
    "onetime_customers = all_customers - returning_customers\n",
    "\n",
    "onetime_customers"
   ]
  },
  {
   "cell_type": "code",
   "execution_count": null,
   "id": "4442b18b",
   "metadata": {},
   "outputs": [],
   "source": []
  }
 ],
 "metadata": {
  "kernelspec": {
   "display_name": "Python 3",
   "language": "python",
   "name": "python3"
  },
  "language_info": {
   "codemirror_mode": {
    "name": "ipython",
    "version": 3
   },
   "file_extension": ".py",
   "mimetype": "text/x-python",
   "name": "python",
   "nbconvert_exporter": "python",
   "pygments_lexer": "ipython3",
   "version": "3.12.10"
  }
 },
 "nbformat": 4,
 "nbformat_minor": 5
}
