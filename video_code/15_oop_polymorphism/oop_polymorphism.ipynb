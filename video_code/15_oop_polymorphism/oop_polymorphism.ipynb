{
 "cells": [
  {
   "cell_type": "markdown",
   "id": "b6d49ce5",
   "metadata": {},
   "source": [
    "# Polymorphism \n",
    "- same function name or operator used for diffrrent types \n",
    "- e.g. len() on a string, len() on a list \n",
    "- plus operator + on a string concatenates the string while on an int performs interger addition  "
   ]
  },
  {
   "cell_type": "code",
   "execution_count": 1,
   "id": "bd06f1e9",
   "metadata": {},
   "outputs": [
    {
     "name": "stdout",
     "output_type": "stream",
     "text": [
      "len(['a', 'b', 'c']): 3\n",
      "len('abc'): 3\n"
     ]
    }
   ],
   "source": [
    "print(f\"len(['a', 'b', 'c']): {len(['a', 'b', 'c'])}\")\n",
    "print(f\"len('abc'): {len('abc')}\")"
   ]
  },
  {
   "cell_type": "markdown",
   "id": "69a31196",
   "metadata": {},
   "source": [
    "# Polymorphism in class methods "
   ]
  },
  {
   "cell_type": "code",
   "execution_count": 2,
   "id": "72808a0d",
   "metadata": {},
   "outputs": [
    {
     "name": "stdout",
     "output_type": "stream",
     "text": [
      "I am a fish, my name is Pelle\n",
      "Blup Blup\n",
      "I am a fox, my name is Ylvis\n"
     ]
    }
   ],
   "source": [
    "class Fish: \n",
    "    def __init__(self, name):\n",
    "        self.name = name \n",
    "\n",
    "    def __str__(self): \n",
    "        return f\"I am a fish, my name is {self.name}\"\n",
    "    \n",
    "    def speak(self): \n",
    "        print(\"Blup Blup\")\n",
    "\n",
    "class Fox: \n",
    "    def __init__(self, name):\n",
    "        self.name = name\n",
    "\n",
    "    def __str__(self):\n",
    "        return f\"I am a fox, my name is {self.name}\"\n",
    "    \n",
    "    def speak(self):\n",
    "        return NotImplemented # as we dont know the sound of a fox \n",
    "    \n",
    "animals = (Fish(\"Pelle\"), Fox(\"Ylvis\"))\n",
    "\n",
    "for animal in animals:\n",
    "    print(animal)\n",
    "    animal.speak()"
   ]
  },
  {
   "cell_type": "markdown",
   "id": "402f6782",
   "metadata": {},
   "source": [
    "## Operator overloading \n",
    "\n",
    "- abilty to define and use custo behavior of operators for your projects. this is achived by implementing dunder or special methods that correspond to that operator. \n",
    "\n",
    "\n",
    "\n",
    "Operator\tDunder Method\n",
    "+\t__add__(self, other)\n",
    "-\t__sub__(self, other)\n",
    "*\t__mul__(self, other)\n",
    "/\t__div__(self, other)\n",
    "//\t__floordiv__(self, other)\n",
    "%\t__mod__(self, other)\n",
    "**\t__pow__(self, other)\n",
    "<\t__lt__(self, other)\n",
    "<=\t__le__(self, other)\n",
    ">\t__gt__(self, other)\n",
    ">=\t__ge__(self, other)\n",
    "==\t__eq__(self, other)\n"
   ]
  },
  {
   "cell_type": "code",
   "execution_count": null,
   "id": "a7820758",
   "metadata": {},
   "outputs": [],
   "source": []
  }
 ],
 "metadata": {
  "kernelspec": {
   "display_name": ".venv",
   "language": "python",
   "name": "python3"
  },
  "language_info": {
   "codemirror_mode": {
    "name": "ipython",
    "version": 3
   },
   "file_extension": ".py",
   "mimetype": "text/x-python",
   "name": "python",
   "nbconvert_exporter": "python",
   "pygments_lexer": "ipython3",
   "version": "3.12.10"
  }
 },
 "nbformat": 4,
 "nbformat_minor": 5
}
