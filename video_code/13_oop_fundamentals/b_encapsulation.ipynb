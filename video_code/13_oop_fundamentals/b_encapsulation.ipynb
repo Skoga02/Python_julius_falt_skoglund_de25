{
 "cells": [
  {
   "cell_type": "markdown",
   "id": "508b2803",
   "metadata": {},
   "source": [
    "# Encapsulation \n",
    "\n",
    "Encapsulation is a concept in OOP to hide information so that it only can be accessed within the class. Information hiding is used for data hiding, hiding internal state, bundling information to organize code and hiding implementation from the user of the class as they don't need to know the details of how it works underneath. \n",
    "\n",
    "- all attributes in Python are public\n",
    "- by convention you can make an attriubte private by using_ in front of it\n",
    "- people knowledgeable in Python knows not to change it outside of the class, however thcnically you can change a private attribute outside the class\n",
    "- another way to make private attributes is through double underscore __-> which name mangles the attribute \n",
    "- import is to choose a convention and stick to it, don't mix both one underscore and two underscores in your code, that would confuse other people and ypurself "
   ]
  },
  {
   "cell_type": "code",
   "execution_count": 7,
   "id": "d5d8511b",
   "metadata": {},
   "outputs": [
    {
     "name": "stdout",
     "output_type": "stream",
     "text": [
      "Patient(Gore Bord, Migrane )\n",
      "Change patient name\n",
      "Patient(Gore Bord, Migrane )\n",
      "'Patient' object has no attribute '__diagnosis'\n",
      "{'_name': 'Gore Bord', '_Patient__diagnosis': 'Migrane', 'name': 'Gree Bree'}\n",
      "Migrane\n"
     ]
    }
   ],
   "source": [
    "class Patient: \n",
    "    def __init__(self, name, diagnosis):\n",
    "        self._name = name \n",
    "        self.__diagnosis = diagnosis \n",
    "\n",
    "    def __repr__(self): \n",
    "        return f\"Patient({self._name}, {self.__diagnosis} )\"\n",
    "\n",
    "patient1 = Patient(\"Gore Bord\", \"Migrane\")\n",
    "print(patient1)\n",
    "\n",
    "print(\"Change patient name\")\n",
    "# can change this bbut really should not \n",
    "patient1.name = \"Gree Bree\"\n",
    "print(patient1)\n",
    "\n",
    "# try access diagnosis \n",
    "try: \n",
    "    # can't access beacuse name has been mangled \n",
    "    print(patient1.__diagnosis)\n",
    "except AttributeError as err:\n",
    "    print(err)\n",
    "\n",
    "print(patient1.__dict__) # {attributes : attribute_values}\n",
    "# can access the attribute under the mangled name \n",
    "print(patient1._Patient__diagnosis)\n",
    "\n",
    "# this is for understanding purposes, DON'T access private attributes from outside the class"
   ]
  },
  {
   "cell_type": "markdown",
   "id": "d8516c4c",
   "metadata": {},
   "source": [
    "## Another example"
   ]
  },
  {
   "cell_type": "code",
   "execution_count": null,
   "id": "5551d150",
   "metadata": {},
   "outputs": [
    {
     "name": "stdout",
     "output_type": "stream",
     "text": [
      "Coins in stash: 0 riksdaler, 0 skilling\n",
      "You try to deposit -5 riskdaler and 31 skilling. They have to be positive\n",
      "Coins in stash: 0 riksdaler, 0 skilling\n",
      "Coins in stash: 50 riksdaler, 42 skilling\n",
      "You can't withdraw more than you have in you stash\n",
      "Coins in stash: 50 riksdaler, 42 skilling\n",
      "Coins in stash: 25 riksdaler, 22 skilling\n"
     ]
    }
   ],
   "source": [
    "class OldCoinsStash:\n",
    "    def __init__(self, owner):\n",
    "        self.owner = owner\n",
    "\n",
    "    # these attributes are \"private - only allow to acce them in the class\n",
    "        self._riksdaler = 0 \n",
    "        self._skilling = 0\n",
    "    \n",
    "    def deposit(self,riksdaler, skilling): \n",
    "        if riksdaler <= 0 or skilling <= 0:\n",
    "            raise ValueError(\n",
    "                f\"You try to deposit {riksdaler} riskdaler and {skilling} skilling. They have to be positive\")\n",
    "        \n",
    "        self._riksdaler += riksdaler\n",
    "        self._skilling += skilling\n",
    "    \n",
    "    def withdraw(self, riksdaler, skilling):\n",
    "        if riksdaler > self._riksdaler or skilling > self._skilling:\n",
    "            raise ValueError(\n",
    "                f\"You can't withdraw more than you have in you stash\")\n",
    "        \n",
    "        self._riksdaler -= riksdaler\n",
    "        self._skilling -= skilling\n",
    "\n",
    "    def check_balance(self): \n",
    "        return f\"Coins in stash: {self._riksdaler} riksdaler, {self._skilling} skilling\"\n",
    "    \n",
    "    def __repr__(self):\n",
    "        return f\"OldCoinsStash(owner='{self.owner}')\"\n",
    "    \n",
    "stash1 = OldCoinsStash(\"Gore Bord\")\n",
    "print(stash1.check_balance())\n",
    "\n",
    "try:\n",
    "    stash1.deposit(-5, 31) # check if I can ro the stash\n",
    "except ValueError as err:\n",
    "    print(err)\n",
    "\n",
    "print(stash1.check_balance())\n",
    "stash1.deposit(50, 42)\n",
    "print(stash1.check_balance())\n",
    "\n",
    "try:\n",
    "    stash1.withdraw(500, 31)\n",
    "except ValueError as err:\n",
    "    print(err)\n",
    "\n",
    "print(stash1.check_balance())\n",
    "stash1.withdraw(25, 20)\n",
    "print(stash1.check_balance())\n",
    "\n",
    "# there are ways to rob the stash -> try and see if you can find them :)\n",
    "# then try to fix this bug (or feature;) ?)"
   ]
  },
  {
   "cell_type": "markdown",
   "id": "56056be1",
   "metadata": {},
   "source": [
    "## Property \n",
    "\n",
    "- you normally want to expose as little attributes as possible without having control over them\n",
    "- getter and setter are used in other languges as interface to the class \n",
    "- in python property gives similar getter ande setter interface for accessing attributes instead of accessing the bare attribute, but with      cleaner syntax\n",
    "- can include error handling and other checks in setters \n",
    "- can make computed properties, that is properties that before it returns gets computed \n",
    "- can make read-only property and properties with both read and write access"
   ]
  },
  {
   "cell_type": "code",
   "execution_count": 7,
   "id": "f062b9df",
   "metadata": {},
   "outputs": [
    {
     "name": "stdout",
     "output_type": "stream",
     "text": [
      "property 'name' of 'Student' object has no setter\n",
      "Gore Bord\n",
      "<class '__main__.Student'>\n",
      "Student(name=Gore Bord, age=58, active=True) \n",
      "\n",
      "[Student(name=Gore Bord, age=35, active=True), Student(name=Har Pon, age=22, active=False), Student(name=Yo Lo, age=12, active=False)]\n",
      "Gore Bord\n",
      "There are 4 students created\n",
      "Age must be either int or float not <class 'str'>\n"
     ]
    }
   ],
   "source": [
    "from numbers import Number\n",
    "\n",
    "class Student:\n",
    "    \"\"\"Student class for representing students with name, age and active \"\"\"\n",
    "    \n",
    "    number_students = 0 # class variable - create before __init__\n",
    "\n",
    "    def __init__(self, name: str, age: int, active: bool) -> None: \n",
    "        self._name = name # note no underscore\n",
    "        self.age = age\n",
    "        self.active = active\n",
    "        Student.number_students += 1 # access class variable \n",
    "\n",
    "    # read only property - only has a getter, no setter as we don't want to change the name\n",
    "    @property\n",
    "    def name(self) -> str:\n",
    "        \"\"\" Read-only property, can't set the name\"\"\"\n",
    "        return self._name # note underscore\n",
    "\n",
    "    @property\n",
    "    def age(self) -> float:\n",
    "        return self._age\n",
    "\n",
    "    @age.setter  # note the name must be same as under the property decorator\n",
    "    def age(self, value: float) -> None:\n",
    "        \"\"\" Setter for for age with error handling\"\"\"\n",
    "        if not isinstance(value, Number):\n",
    "            raise TypeError(\n",
    "                f\"Age must be either int or float not {type(value)}\")\n",
    "\n",
    "        if not (0 < value < 125):\n",
    "            raise ValueError(\"Your age must be between 1 and 124\")\n",
    "\n",
    "        self._age = value\n",
    "\n",
    "    def __repr__(self) -> str:\n",
    "        return f\"Student(name={self.name}, age={self.age}, active={self.active})\" #note that self.name is using the property\n",
    "\n",
    "\n",
    "s1 = Student(\"Gore Bord\", 55, True)\n",
    "try:\n",
    "    s1.name = \"Gure Burd\"  # can't set read-only properties\n",
    "except AttributeError as err:\n",
    "    print(err)\n",
    "\n",
    "print(s1.name)\n",
    "s1.age = 58\n",
    "\n",
    "print(Student)\n",
    "print(s1, \"\\n\")  # calls the __repr__ method\n",
    "\n",
    "students = [Student(\"Gore Bord\", 35, True), Student(\"Har Pon\", 22, False), Student(\"Yo Lo\", 12, False)]\n",
    "print(students)\n",
    "print(students[0].name)\n",
    "\n",
    "print(f\"There are {Student.number_students} students created\")\n",
    "\n",
    "try:\n",
    "    students[1].age = \"23.4\"\n",
    "except TypeError as err:\n",
    "    print(err)"
   ]
  }
 ],
 "metadata": {
  "kernelspec": {
   "display_name": ".venv",
   "language": "python",
   "name": "python3"
  },
  "language_info": {
   "codemirror_mode": {
    "name": "ipython",
    "version": 3
   },
   "file_extension": ".py",
   "mimetype": "text/x-python",
   "name": "python",
   "nbconvert_exporter": "python",
   "pygments_lexer": "ipython3",
   "version": "3.12.10"
  }
 },
 "nbformat": 4,
 "nbformat_minor": 5
}
