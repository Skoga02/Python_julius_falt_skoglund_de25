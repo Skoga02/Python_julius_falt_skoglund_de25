{
 "cells": [
  {
   "cell_type": "markdown",
   "id": "508b2803",
   "metadata": {},
   "source": [
    "# Encapsulation "
   ]
  },
  {
   "cell_type": "code",
   "execution_count": 7,
   "id": "d5d8511b",
   "metadata": {},
   "outputs": [
    {
     "name": "stdout",
     "output_type": "stream",
     "text": [
      "Patient(Gore Bord, Migrane )\n",
      "Change patient name\n",
      "Patient(Gore Bord, Migrane )\n",
      "'Patient' object has no attribute '__diagnosis'\n",
      "{'_name': 'Gore Bord', '_Patient__diagnosis': 'Migrane', 'name': 'Gree Bree'}\n",
      "Migrane\n"
     ]
    }
   ],
   "source": [
    "class Patient: \n",
    "    def __init__(self, name, diagnosis):\n",
    "        self._name = name \n",
    "        self.__diagnosis = diagnosis \n",
    "\n",
    "    def __repr__(self): \n",
    "        return f\"Patient({self._name}, {self.__diagnosis} )\"\n",
    "\n",
    "patient1 = Patient(\"Gore Bord\", \"Migrane\")\n",
    "print(patient1)\n",
    "\n",
    "print(\"Change patient name\")\n",
    "# can change this bbut really should not \n",
    "patient1.name = \"Gree Bree\"\n",
    "print(patient1)\n",
    "\n",
    "# try access diagnosis \n",
    "try: \n",
    "    # can't access beacuse name has been mangled \n",
    "    print(patient1.__diagnosis)\n",
    "except AttributeError as err:\n",
    "    print(err)\n",
    "\n",
    "print(patient1.__dict__) # {attributes : attribute_values}\n",
    "# can access the attribute under the mangled name \n",
    "print(patient1._Patient__diagnosis)\n",
    "\n",
    "# this is for understanding purposes, DON'T access private attributes from outside the class"
   ]
  },
  {
   "cell_type": "markdown",
   "id": "d8516c4c",
   "metadata": {},
   "source": [
    "## Another example"
   ]
  },
  {
   "cell_type": "code",
   "execution_count": null,
   "id": "5551d150",
   "metadata": {},
   "outputs": [],
   "source": [
    "class OldCoinsStash:\n",
    "    def __init__(self, owner):\n",
    "        self.owner = owner\n"
   ]
  },
  {
   "cell_type": "code",
   "execution_count": null,
   "id": "48584631",
   "metadata": {},
   "outputs": [],
   "source": []
  }
 ],
 "metadata": {
  "kernelspec": {
   "display_name": ".venv",
   "language": "python",
   "name": "python3"
  },
  "language_info": {
   "codemirror_mode": {
    "name": "ipython",
    "version": 3
   },
   "file_extension": ".py",
   "mimetype": "text/x-python",
   "name": "python",
   "nbconvert_exporter": "python",
   "pygments_lexer": "ipython3",
   "version": "3.12.10"
  }
 },
 "nbformat": 4,
 "nbformat_minor": 5
}
