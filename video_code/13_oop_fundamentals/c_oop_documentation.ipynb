{
 "cells": [
  {
   "cell_type": "markdown",
   "id": "644bb13f",
   "metadata": {},
   "source": [
    "# OOP documentation "
   ]
  },
  {
   "cell_type": "markdown",
   "id": "79bc4a94",
   "metadata": {},
   "source": [
    "## Type hinting \n",
    "\n",
    "- Python is a dynamic language and hence the type is inferred \n",
    "- use type hinting to annotate parameters and return types"
   ]
  },
  {
   "cell_type": "code",
   "execution_count": 1,
   "id": "47dc6df1",
   "metadata": {},
   "outputs": [],
   "source": [
    "class Student: \n",
    "    \"\"\"Student class for representing students with name, age and active\"\"\" # docstring\n",
    "    \n",
    "    def __init__(self, name: str, age: int, active: bool) -> None:\n",
    "        self.name = name\n",
    "        self.age = age\n",
    "        self.active = active\n",
    "\n",
    "    def __repr__(self) -> str:\n",
    "        return f\"Student(name={self.name}, age={self.age}, active={self.active})\"\n",
    "    \n",
    "# see what happens when you hover over the Student classs\n",
    "s1 = Student(\"Gore Bord\", 55, True)"
   ]
  },
  {
   "cell_type": "markdown",
   "id": "31c3da87",
   "metadata": {},
   "source": [
    "## Docstring\n",
    "\n",
    "- docstring fot documenting your class, use three quotes \"\"\" \"\"\" after class name \n",
    "- always write a docstring so that you, or other developers can easily understand your classes and methods \n",
    "- shows up when calling help()"
   ]
  },
  {
   "cell_type": "code",
   "execution_count": 2,
   "id": "fee36d6a",
   "metadata": {},
   "outputs": [
    {
     "name": "stdout",
     "output_type": "stream",
     "text": [
      "Hello, I'm Kokchun!\n"
     ]
    },
    {
     "data": {
      "text/plain": [
       "34"
      ]
     },
     "execution_count": 2,
     "metadata": {},
     "output_type": "execute_result"
    }
   ],
   "source": [
    "class Person: \n",
    "    \"\"\"\n",
    "    A class representing a person.\n",
    "\n",
    "    Attributes:\n",
    "    - name (str): The name of the person.\n",
    "    - age (int): The age of the person \n",
    "    - gender (str): The gender of the person ('Male', 'Female', 'Non-binary', etc.).\n",
    "\n",
    "    Methods: \n",
    "    - greet(): Prints a greeting message. \n",
    "    - have_birthday(): Increments the age of the person by one. \n",
    "\n",
    "    Example usage: \n",
    "    >>> person1 = Person(\"Alice\", 25, \"Female\")\n",
    "    >>> person1.greet()\n",
    "    Hello, I'm Alice!\n",
    "    >>> person1.have_birthday()\n",
    "    >>> person1.age \n",
    "    26\n",
    "    \"\"\"\n",
    "\n",
    "    def __init__(self, name, age, gender):\n",
    "        \"\"\"\n",
    "        Initializes a new instance of the person class.\n",
    "\n",
    "        Parameters: \n",
    "        - name (str): The name of the person.\n",
    "        - age (int): The age of the person. \n",
    "        - gender (str): The gender of the person \n",
    "        \"\"\"\n",
    "        self.name = name\n",
    "        self.age = age\n",
    "        self.gender = gender\n",
    "\n",
    "    def greet(self): \n",
    "        \"\"\"Prints a greeting message.\"\"\"\n",
    "        print(f\"Hello, I'm {self.name}!\")\n",
    "    \n",
    "    def have_birthday(self):\n",
    "        \"\"\"Incremetns the age of the person by one.\"\"\"\n",
    "        self.age += 1\n",
    "\n",
    "person = Person(\"Kokchun\", 33, \"M\")\n",
    "person.greet()\n",
    "person.have_birthday()\n",
    "person.age"
   ]
  },
  {
   "cell_type": "code",
   "execution_count": null,
   "id": "ecef6526",
   "metadata": {},
   "outputs": [],
   "source": []
  }
 ],
 "metadata": {
  "kernelspec": {
   "display_name": ".venv",
   "language": "python",
   "name": "python3"
  },
  "language_info": {
   "codemirror_mode": {
    "name": "ipython",
    "version": 3
   },
   "file_extension": ".py",
   "mimetype": "text/x-python",
   "name": "python",
   "nbconvert_exporter": "python",
   "pygments_lexer": "ipython3",
   "version": "3.12.10"
  }
 },
 "nbformat": 4,
 "nbformat_minor": 5
}
