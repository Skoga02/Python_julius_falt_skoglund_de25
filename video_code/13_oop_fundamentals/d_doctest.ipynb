{
 "cells": [
  {
   "cell_type": "markdown",
   "id": "c6e833e1",
   "metadata": {},
   "source": [
    "# Doctest "
   ]
  },
  {
   "cell_type": "code",
   "execution_count": 2,
   "id": "ed9aa70a",
   "metadata": {},
   "outputs": [
    {
     "name": "stdout",
     "output_type": "stream",
     "text": [
      "Trying:\n",
      "    person1 = Person(\"Alice\", 25, \"Female\")\n",
      "Expecting nothing\n",
      "ok\n",
      "Trying:\n",
      "    person1.greet()\n",
      "Expecting:\n",
      "    Hello, I'm Alice!\n",
      "ok\n",
      "Trying:\n",
      "    person1.have_birthday()\n",
      "Expecting nothing\n",
      "ok\n",
      "Trying:\n",
      "    person1.age \n",
      "Expecting:\n",
      "    26\n",
      "ok\n",
      "4 items had no tests:\n",
      "    __main__\n",
      "    __main__.Person.__init__\n",
      "    __main__.Person.greet\n",
      "    __main__.Person.have_birthday\n",
      "1 items passed all tests:\n",
      "   4 tests in __main__.Person\n",
      "4 tests in 5 items.\n",
      "4 passed and 0 failed.\n",
      "Test passed.\n"
     ]
    }
   ],
   "source": [
    "import doctest \n",
    "\n",
    "class Person: \n",
    "    \"\"\"\n",
    "    A class representing a person.\n",
    "\n",
    "    Attributes:\n",
    "    - name (str): The name of the person.\n",
    "    - age (int): The age of the person \n",
    "    - gender (str): The gender of the person ('Male', 'Female', 'Non-binary', etc.).\n",
    "\n",
    "    Methods: \n",
    "    - greet(): Prints a greeting message. \n",
    "    - have_birthday(): Increments the age of the person by one. \n",
    "\n",
    "    Example usage: \n",
    "    >>> person1 = Person(\"Alice\", 25, \"Female\")\n",
    "    >>> person1.greet()\n",
    "    Hello, I'm Alice!\n",
    "    >>> person1.have_birthday()\n",
    "    >>> person1.age \n",
    "    26\n",
    "    \"\"\"\n",
    "\n",
    "    def __init__(self, name, age, gender):\n",
    "        \"\"\"\n",
    "        Initializes a new instance of the person class.\n",
    "\n",
    "        Parameters: \n",
    "        - name (str): The name of the person.\n",
    "        - age (int): The age of the person. \n",
    "        - gender (str): The gender of the person \n",
    "        \"\"\"\n",
    "        self.name = name\n",
    "        self.age = age\n",
    "        self.gender = gender\n",
    "\n",
    "    def greet(self): \n",
    "        \"\"\"Prints a greeting message.\"\"\"\n",
    "        print(f\"Hello, I'm {self.name}!\")\n",
    "    \n",
    "    def have_birthday(self):\n",
    "        \"\"\"Incremetns the age of the person by one.\"\"\"\n",
    "        self.age += 1\n",
    "\n",
    "if __name__ ==\"__main__\": \n",
    "    doctest.testmod(verbose=True)"
   ]
  }
 ],
 "metadata": {
  "kernelspec": {
   "display_name": ".venv",
   "language": "python",
   "name": "python3"
  },
  "language_info": {
   "codemirror_mode": {
    "name": "ipython",
    "version": 3
   },
   "file_extension": ".py",
   "mimetype": "text/x-python",
   "name": "python",
   "nbconvert_exporter": "python",
   "pygments_lexer": "ipython3",
   "version": "3.12.10"
  }
 },
 "nbformat": 4,
 "nbformat_minor": 5
}
