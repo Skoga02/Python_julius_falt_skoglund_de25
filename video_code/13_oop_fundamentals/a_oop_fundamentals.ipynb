{
 "cells": [
  {
   "cell_type": "markdown",
   "id": "e973c9b7",
   "metadata": {},
   "source": [
    "# oop fundamentals "
   ]
  },
  {
   "cell_type": "code",
   "execution_count": 13,
   "id": "783bf2dd",
   "metadata": {},
   "outputs": [
    {
     "data": {
      "text/plain": [
       "<__main__.Admission at 0x1084569c0>"
      ]
     },
     "execution_count": 13,
     "metadata": {},
     "output_type": "execute_result"
    }
   ],
   "source": [
    "class Admission: \n",
    "    def __init__(self, school, program, name, accept):\n",
    "        self.school = school\n",
    "        self.program = program\n",
    "        self.name = name\n",
    "        self.accept = accept \n",
    "\n",
    "person1 = Admission(\"STI\", \"DE\", \"Mike\", \"Yes\")\n",
    "person1\n"
   ]
  },
  {
   "cell_type": "code",
   "execution_count": 14,
   "id": "7ce15c25",
   "metadata": {},
   "outputs": [
    {
     "data": {
      "text/plain": [
       "'STI'"
      ]
     },
     "execution_count": 14,
     "metadata": {},
     "output_type": "execute_result"
    }
   ],
   "source": [
    "person1.school"
   ]
  },
  {
   "cell_type": "code",
   "execution_count": 15,
   "id": "c42f8ddb",
   "metadata": {},
   "outputs": [
    {
     "data": {
      "text/plain": [
       "('STI', 'Mike')"
      ]
     },
     "execution_count": 15,
     "metadata": {},
     "output_type": "execute_result"
    }
   ],
   "source": [
    "person1.school, person1.name"
   ]
  },
  {
   "cell_type": "code",
   "execution_count": 16,
   "id": "797224cf",
   "metadata": {},
   "outputs": [
    {
     "data": {
      "text/plain": [
       "'Bella'"
      ]
     },
     "execution_count": 16,
     "metadata": {},
     "output_type": "execute_result"
    }
   ],
   "source": [
    "person1.name = \"Bella\"\n",
    "person1.name"
   ]
  },
  {
   "cell_type": "code",
   "execution_count": 17,
   "id": "62376322",
   "metadata": {},
   "outputs": [
    {
     "data": {
      "text/plain": [
       "('Data engineering', 'DE')"
      ]
     },
     "execution_count": 17,
     "metadata": {},
     "output_type": "execute_result"
    }
   ],
   "source": [
    "person2 = Admission(\"Cooler school\", \"Data engineering\", \"Gore Bore\", \"False\")\n",
    "person2.program, person1.program"
   ]
  },
  {
   "cell_type": "code",
   "execution_count": 18,
   "id": "ef45f312",
   "metadata": {},
   "outputs": [
    {
     "data": {
      "text/plain": [
       "False"
      ]
     },
     "execution_count": 18,
     "metadata": {},
     "output_type": "execute_result"
    }
   ],
   "source": [
    "person1 == person2"
   ]
  },
  {
   "cell_type": "code",
   "execution_count": 20,
   "id": "bd33b8ea",
   "metadata": {},
   "outputs": [
    {
     "data": {
      "text/plain": [
       "('0x1084569c0', '0x108457d40')"
      ]
     },
     "execution_count": 20,
     "metadata": {},
     "output_type": "execute_result"
    }
   ],
   "source": [
    "hex(id(person1)), hex(id(person2))"
   ]
  },
  {
   "cell_type": "markdown",
   "id": "e7bf1568",
   "metadata": {},
   "source": [
    "## OOP fundamentals "
   ]
  },
  {
   "cell_type": "code",
   "execution_count": 3,
   "id": "52a39b9a",
   "metadata": {},
   "outputs": [
    {
     "name": "stdout",
     "output_type": "stream",
     "text": [
      "person1: <__main__.Admission object at 0x1089a2990>\n",
      "person2.program: Data science\n",
      "person2.program: UX\n",
      "person1.name: Kokchun\n",
      "person2.name: Gore Bord\n"
     ]
    }
   ],
   "source": [
    "class Admission:\n",
    "    # an initializer - runs when instance of the class is created\n",
    "    def __init__(self, school, program, name, accept): \n",
    "        # assign the arguments to object attributes\n",
    "        self.school = school\n",
    "        self.program = program\n",
    "        self.name = name\n",
    "        self.accept = accept\n",
    "\n",
    "# note that the object is sent to the self parameter, so you only pass in 4 arguments and not 5\n",
    "person1 = Admission(\"Cool school\", \"AI\", accept=True, name=\"Kokchun\")\n",
    "person2 = Admission(\"Cooler school\", \"Data science\", accept=False, name=\"Gore Bord\")\n",
    "\n",
    "# an object of claass Antagning() at a certain memory in the hex code\n",
    "print(f\"person1: {person1}\")\n",
    "\n",
    "# accesses an attribute of the object \n",
    "print(f\"person2.program: {person2.program}\")\n",
    "person2.program = \"UX\" # change an attribute \n",
    "print(f\"person2.program: {person2.program}\")\n",
    "\n",
    "# note that these are diffrent as name are attributes of each object \n",
    "print(f\"person1.name: {person1.name}\")\n",
    "print(f\"person2.name: {person2.name}\")\n"
   ]
  },
  {
   "cell_type": "markdown",
   "id": "60561525",
   "metadata": {},
   "source": [
    "## Memory adress "
   ]
  },
  {
   "cell_type": "code",
   "execution_count": 5,
   "id": "a158fd54",
   "metadata": {},
   "outputs": [
    {
     "name": "stdout",
     "output_type": "stream",
     "text": [
      "hex(id(person1)) = '0x1089a2990'\n",
      "hex(id(person2)) = '0x1089a2ed0'\n",
      "person1 == person2 =False\n",
      "person1 == person1 =True\n"
     ]
    }
   ],
   "source": [
    "# we can see that they point to diffrent memory addresses \n",
    "print(f\"{hex(id(person1)) = }\")\n",
    "print(f\"{hex(id(person2)) = }\")\n",
    "\n",
    "# the reason why we can do equality checking is that python by default provides a __eq__\n",
    "# method to each instance. We could overload this operator to e.g. 2 person instande are equal \n",
    "# if their social security number is the same\n",
    "print(f\"{person1 == person2 =}\")\n",
    "print(f\"{person1 == person1 =}\")"
   ]
  },
  {
   "cell_type": "markdown",
   "id": "ed155f14",
   "metadata": {},
   "source": [
    "## \\_\\_repr\\_\\_\n",
    "\n",
    "- dunder \"repper\" method for represanting the object\n",
    "- write in a way for other developers to see how to create the object if possible \n",
    "\n",
    "In jupyter notebooks the \\_\\_repr\\_\\_ is automatically called when it is the last statement in a cell. however in Python scripts (file ending with .py) this is not the case. Instead it shows when you print the insctance, which it also does in jupyter notebook. important to note though is that \\_\\_str\\_\\_ will be called first if it is implemented else it will call \\_\\_repr\\_\\_ when you try to print an instance.\n",
    "\n",
    "\\_\\_repr\\_\\_ is usually for other developers creating unambiguous string representations for recreating an instance of the class while \\_\\_str\\_\\_ should have more human-readable string representation that is used by built-in str() and print() functions."
   ]
  },
  {
   "cell_type": "code",
   "execution_count": 7,
   "id": "afcce547",
   "metadata": {},
   "outputs": [
    {
     "name": "stdout",
     "output_type": "stream",
     "text": [
      "Ada Lovelace has applied to Haskell, accepted: True\n"
     ]
    },
    {
     "data": {
      "text/plain": [
       "Admission(school='Cool school', program='Haskell', name='Ada Lovelace' accept=True)"
      ]
     },
     "execution_count": 7,
     "metadata": {},
     "output_type": "execute_result"
    }
   ],
   "source": [
    "class Admission: \n",
    "    # initializer - runs when instance of the cöass is created \n",
    "    def __init__(self, school, program, name, accpet): \n",
    "        # assign the arguments to object attributes\n",
    "        self.school = school\n",
    "        self.program = program\n",
    "        self.name = name\n",
    "        self.accept = accpet\n",
    "\n",
    "    def __str__(self):\n",
    "        return f\"{self.name} has applied to {self.program}, accepted: {self.accept}\"\n",
    "    \n",
    "    def __repr__(self):\n",
    "        return f\"Admission(school='{self.school}', program='{self.program}', name='{self.name}' accept={self.accept})\"\n",
    "    \n",
    "s = Admission(\"Cool school\", \"Haskell\", \"Ada Lovelace\", True)\n",
    "\n",
    "#we see that __repr__ is used in printing as __str__ is not defined \n",
    "print(s)\n",
    "s"
   ]
  },
  {
   "cell_type": "code",
   "execution_count": null,
   "id": "f4e16d2b",
   "metadata": {},
   "outputs": [],
   "source": []
  }
 ],
 "metadata": {
  "kernelspec": {
   "display_name": ".venv",
   "language": "python",
   "name": "python3"
  },
  "language_info": {
   "codemirror_mode": {
    "name": "ipython",
    "version": 3
   },
   "file_extension": ".py",
   "mimetype": "text/x-python",
   "name": "python",
   "nbconvert_exporter": "python",
   "pygments_lexer": "ipython3",
   "version": "3.12.10"
  }
 },
 "nbformat": 4,
 "nbformat_minor": 5
}
