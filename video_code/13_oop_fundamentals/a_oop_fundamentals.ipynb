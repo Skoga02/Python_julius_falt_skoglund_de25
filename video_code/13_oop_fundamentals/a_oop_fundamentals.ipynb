{
 "cells": [
  {
   "cell_type": "markdown",
   "id": "e973c9b7",
   "metadata": {},
   "source": [
    "# oop fundamentals "
   ]
  },
  {
   "cell_type": "code",
   "execution_count": 13,
   "id": "783bf2dd",
   "metadata": {},
   "outputs": [
    {
     "data": {
      "text/plain": [
       "<__main__.Admission at 0x1084569c0>"
      ]
     },
     "execution_count": 13,
     "metadata": {},
     "output_type": "execute_result"
    }
   ],
   "source": [
    "class Admission: \n",
    "    def __init__(self, school, program, name, accept):\n",
    "        self.school = school\n",
    "        self.program = program\n",
    "        self.name = name\n",
    "        self.accept = accept \n",
    "\n",
    "person1 = Admission(\"STI\", \"DE\", \"Mike\", \"Yes\")\n",
    "person1\n"
   ]
  },
  {
   "cell_type": "code",
   "execution_count": 14,
   "id": "7ce15c25",
   "metadata": {},
   "outputs": [
    {
     "data": {
      "text/plain": [
       "'STI'"
      ]
     },
     "execution_count": 14,
     "metadata": {},
     "output_type": "execute_result"
    }
   ],
   "source": [
    "person1.school"
   ]
  },
  {
   "cell_type": "code",
   "execution_count": 15,
   "id": "c42f8ddb",
   "metadata": {},
   "outputs": [
    {
     "data": {
      "text/plain": [
       "('STI', 'Mike')"
      ]
     },
     "execution_count": 15,
     "metadata": {},
     "output_type": "execute_result"
    }
   ],
   "source": [
    "person1.school, person1.name"
   ]
  },
  {
   "cell_type": "code",
   "execution_count": 16,
   "id": "797224cf",
   "metadata": {},
   "outputs": [
    {
     "data": {
      "text/plain": [
       "'Bella'"
      ]
     },
     "execution_count": 16,
     "metadata": {},
     "output_type": "execute_result"
    }
   ],
   "source": [
    "person1.name = \"Bella\"\n",
    "person1.name"
   ]
  },
  {
   "cell_type": "code",
   "execution_count": 17,
   "id": "62376322",
   "metadata": {},
   "outputs": [
    {
     "data": {
      "text/plain": [
       "('Data engineering', 'DE')"
      ]
     },
     "execution_count": 17,
     "metadata": {},
     "output_type": "execute_result"
    }
   ],
   "source": [
    "person2 = Admission(\"Cooler school\", \"Data engineering\", \"Gore Bore\", \"False\")\n",
    "person2.program, person1.program"
   ]
  },
  {
   "cell_type": "code",
   "execution_count": 18,
   "id": "ef45f312",
   "metadata": {},
   "outputs": [
    {
     "data": {
      "text/plain": [
       "False"
      ]
     },
     "execution_count": 18,
     "metadata": {},
     "output_type": "execute_result"
    }
   ],
   "source": [
    "person1 == person2"
   ]
  },
  {
   "cell_type": "code",
   "execution_count": 20,
   "id": "bd33b8ea",
   "metadata": {},
   "outputs": [
    {
     "data": {
      "text/plain": [
       "('0x1084569c0', '0x108457d40')"
      ]
     },
     "execution_count": 20,
     "metadata": {},
     "output_type": "execute_result"
    }
   ],
   "source": [
    "hex(id(person1)), hex(id(person2))"
   ]
  },
  {
   "cell_type": "code",
   "execution_count": null,
   "id": "52a39b9a",
   "metadata": {},
   "outputs": [],
   "source": []
  }
 ],
 "metadata": {
  "kernelspec": {
   "display_name": ".venv",
   "language": "python",
   "name": "python3"
  },
  "language_info": {
   "codemirror_mode": {
    "name": "ipython",
    "version": 3
   },
   "file_extension": ".py",
   "mimetype": "text/x-python",
   "name": "python",
   "nbconvert_exporter": "python",
   "pygments_lexer": "ipython3",
   "version": "3.12.10"
  }
 },
 "nbformat": 4,
 "nbformat_minor": 5
}
