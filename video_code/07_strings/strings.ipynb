{
 "cells": [
  {
   "cell_type": "markdown",
   "id": "c6f4ca3d",
   "metadata": {},
   "source": [
    "# Strings"
   ]
  },
  {
   "cell_type": "code",
   "execution_count": 2,
   "id": "4e6b335d",
   "metadata": {},
   "outputs": [
    {
     "data": {
      "text/plain": [
       "'Julius Fält Skoglund'"
      ]
     },
     "execution_count": 2,
     "metadata": {},
     "output_type": "execute_result"
    }
   ],
   "source": [
    "firstname = \"Julius\"\n",
    "lastname = \"Fält Skoglund\"\n",
    "\n",
    "fullname = firstname + \" \" + lastname\n",
    "fullname"
   ]
  },
  {
   "cell_type": "code",
   "execution_count": 7,
   "id": "eb9f3644",
   "metadata": {},
   "outputs": [],
   "source": [
    "occupation = \"Student\"\n",
    "school = \"STI\"\n",
    "adress = \"Liljeholmsgränd 7\"\n",
    "phone = \"070 00000000\"\n",
    "\n",
    "# multie line string\n",
    "contact_details = f\"\"\"\n",
    "name: {fullname}\n",
    "occupation: {occupation}\n",
    "school: {school}\n",
    "adress: {adress}\n",
    "phone: {phone}\n",
    "\n",
    "\"\"\""
   ]
  },
  {
   "cell_type": "code",
   "execution_count": 8,
   "id": "0954e40a",
   "metadata": {},
   "outputs": [
    {
     "data": {
      "text/plain": [
       "'\\nname: Julius Fält Skoglund\\noccupation: Student\\nschool: STI\\nadress: Liljeholmsgränd 7\\nphone: 070 00000000\\n\\n'"
      ]
     },
     "execution_count": 8,
     "metadata": {},
     "output_type": "execute_result"
    }
   ],
   "source": [
    "contact_details"
   ]
  },
  {
   "cell_type": "code",
   "execution_count": 9,
   "id": "ed66d989",
   "metadata": {},
   "outputs": [
    {
     "name": "stdout",
     "output_type": "stream",
     "text": [
      "\n",
      "name: Julius Fält Skoglund\n",
      "occupation: Student\n",
      "school: STI\n",
      "adress: Liljeholmsgränd 7\n",
      "phone: 070 00000000\n",
      "\n",
      "\n"
     ]
    }
   ],
   "source": [
    "print(contact_details)"
   ]
  },
  {
   "cell_type": "code",
   "execution_count": 16,
   "id": "0b158214",
   "metadata": {},
   "outputs": [
    {
     "name": "stdout",
     "output_type": "stream",
     "text": [
      "Weekly menu\n",
      "Monday     Chili con carne\n",
      "Tuseday    Noodles\n",
      "Wensday    Pokebowl\n",
      "Thursday   Pancakes\n",
      "Friday     Taco\n",
      "\n"
     ]
    }
   ],
   "source": [
    "menu = [\"Chili con carne\", \"Noodles\", \"Pokebowl\", \"Pancakes\", \"Taco\"]\n",
    "days = [\"Monday\", \"Tuseday\", \"Wensday\", \"Thursday\", \"Friday\"]\n",
    "\n",
    "# \\n = jump to new row\n",
    "weekly_menu = \"Weekly menu\\n\"\n",
    "\n",
    "for day, food in zip(days, menu):\n",
    "    weekly_menu += f\"{day:<10} {food}\\n\"\n",
    "\n",
    "print(weekly_menu)\n",
    "\n",
    "  "
   ]
  },
  {
   "cell_type": "code",
   "execution_count": 19,
   "id": "25bf0291",
   "metadata": {},
   "outputs": [
    {
     "data": {
      "text/plain": [
       "\"!False - It's funny because it's true\""
      ]
     },
     "execution_count": 19,
     "metadata": {},
     "output_type": "execute_result"
    }
   ],
   "source": [
    "# ! before a word means \"not\"\n",
    "quote = \"!False - It's funny because it's true\"\n",
    "quote"
   ]
  },
  {
   "cell_type": "code",
   "execution_count": 21,
   "id": "7794c126",
   "metadata": {},
   "outputs": [
    {
     "data": {
      "text/plain": [
       "'!'"
      ]
     },
     "execution_count": 21,
     "metadata": {},
     "output_type": "execute_result"
    }
   ],
   "source": [
    "quote[0] # = first letter "
   ]
  },
  {
   "cell_type": "code",
   "execution_count": 23,
   "id": "d96e78da",
   "metadata": {},
   "outputs": [
    {
     "data": {
      "text/plain": [
       "'e'"
      ]
     },
     "execution_count": 23,
     "metadata": {},
     "output_type": "execute_result"
    }
   ],
   "source": [
    "quote[-1] # = last letter "
   ]
  },
  {
   "cell_type": "code",
   "execution_count": 25,
   "id": "30a70c93",
   "metadata": {},
   "outputs": [
    {
     "data": {
      "text/plain": [
       "'!False'"
      ]
     },
     "execution_count": 25,
     "metadata": {},
     "output_type": "execute_result"
    }
   ],
   "source": [
    "quote[:6] # = First 6 letters"
   ]
  },
  {
   "cell_type": "code",
   "execution_count": 31,
   "id": "375534e0",
   "metadata": {},
   "outputs": [
    {
     "data": {
      "text/plain": [
       "\"eurt s'ti esuaceb ynnuf s'tI - eslaF!\""
      ]
     },
     "execution_count": 31,
     "metadata": {},
     "output_type": "execute_result"
    }
   ],
   "source": [
    "quote[::-1] # Spells out the string backwards"
   ]
  },
  {
   "cell_type": "code",
   "execution_count": 38,
   "id": "fe3d9788",
   "metadata": {},
   "outputs": [
    {
     "data": {
      "text/plain": [
       "True"
      ]
     },
     "execution_count": 38,
     "metadata": {},
     "output_type": "execute_result"
    }
   ],
   "source": [
    "string_to_check = \"anna\"\n",
    "string_to_check[::-1] == string_to_check # true or false if it is or is not palindrome"
   ]
  },
  {
   "cell_type": "markdown",
   "id": "331838c6",
   "metadata": {},
   "source": [
    "### Splitting and cleaning a string"
   ]
  },
  {
   "cell_type": "code",
   "execution_count": 29,
   "id": "324f10a5",
   "metadata": {},
   "outputs": [
    {
     "data": {
      "text/plain": [
       "'Math , biology , cHeMistry , PrOgramming   '"
      ]
     },
     "execution_count": 29,
     "metadata": {},
     "output_type": "execute_result"
    }
   ],
   "source": [
    "subjects = \"Math , biology , cHeMistry , PrOgramming   \"\n",
    "subjects"
   ]
  },
  {
   "cell_type": "code",
   "execution_count": 30,
   "id": "ea86612d",
   "metadata": {},
   "outputs": [
    {
     "data": {
      "text/plain": [
       "['Math ', ' biology ', ' cHeMistry ', ' PrOgramming   ']"
      ]
     },
     "execution_count": 30,
     "metadata": {},
     "output_type": "execute_result"
    }
   ],
   "source": [
    "subjects = \"Math , biology , cHeMistry , PrOgramming   \"\n",
    "\n",
    "subjects = subjects.split(\",\")\n",
    "subjects"
   ]
  },
  {
   "cell_type": "code",
   "execution_count": 31,
   "id": "485d86d5",
   "metadata": {},
   "outputs": [
    {
     "data": {
      "text/plain": [
       "['math', 'biology', 'chemistry', 'programming']"
      ]
     },
     "execution_count": 31,
     "metadata": {},
     "output_type": "execute_result"
    }
   ],
   "source": [
    "[subject.strip().lower() for subject in subjects]"
   ]
  },
  {
   "cell_type": "code",
   "execution_count": 32,
   "id": "52bf8677",
   "metadata": {},
   "outputs": [
    {
     "name": "stdout",
     "output_type": "stream",
     "text": [
      "MATH has 4 characters\n",
      "BIOLOGY has 7 characters\n",
      "CHEMISTRY has 9 characters\n",
      "PROGRAMMING has 11 characters\n"
     ]
    }
   ],
   "source": [
    "subjects = [subject.strip().upper() for subject in subjects]\n",
    "for subject in subjects:\n",
    "    print(f\"{subject} has {len(subject)} characters\")"
   ]
  },
  {
   "cell_type": "markdown",
   "id": "0c48df68",
   "metadata": {},
   "source": [
    "### Regex\n",
    "- A way to match diffrent strings (pattern matching)\n",
    "- check fastcommands on regex on w3schools"
   ]
  },
  {
   "cell_type": "code",
   "execution_count": 38,
   "id": "e5273dd1",
   "metadata": {},
   "outputs": [
    {
     "data": {
      "text/plain": [
       "['katt', 'hatt']"
      ]
     },
     "execution_count": 38,
     "metadata": {},
     "output_type": "execute_result"
    }
   ],
   "source": [
    "import re\n",
    "text =\"Det avr en gång en liten katt som tog på sig en hatt.\"\n",
    "match_list = re.findall(r\".att\", text)\n",
    "match_list"
   ]
  },
  {
   "cell_type": "code",
   "execution_count": 43,
   "id": "b334f184",
   "metadata": {},
   "outputs": [
    {
     "data": {
      "text/plain": [
       "['19950516-2235', '19581212-3213']"
      ]
     },
     "execution_count": 43,
     "metadata": {},
     "output_type": "execute_result"
    }
   ],
   "source": [
    "prsonal_numbers = \"Ida: 19950516-2235, Berit: 19581212-3213: Ada: 050524-1513\"\n",
    "match_long = re.findall(r\"\\d{8}-\\d{4}\", prsonal_numbers)\n",
    "\n",
    "match_long"
   ]
  },
  {
   "cell_type": "code",
   "execution_count": 44,
   "id": "7d166523",
   "metadata": {},
   "outputs": [
    {
     "data": {
      "text/plain": [
       "['950516-2235', '581212-3213', '050524-1513']"
      ]
     },
     "execution_count": 44,
     "metadata": {},
     "output_type": "execute_result"
    }
   ],
   "source": [
    "match_short = re.findall(r\"\\d{6}-\\d{4}\", prsonal_numbers)\n",
    "match_short"
   ]
  }
 ],
 "metadata": {
  "kernelspec": {
   "display_name": ".venv",
   "language": "python",
   "name": "python3"
  },
  "language_info": {
   "codemirror_mode": {
    "name": "ipython",
    "version": 3
   },
   "file_extension": ".py",
   "mimetype": "text/x-python",
   "name": "python",
   "nbconvert_exporter": "python",
   "pygments_lexer": "ipython3",
   "version": "3.12.10"
  }
 },
 "nbformat": 4,
 "nbformat_minor": 5
}
